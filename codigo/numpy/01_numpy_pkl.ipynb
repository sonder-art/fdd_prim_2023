{
  "nbformat": 4,
  "nbformat_minor": 0,
  "metadata": {
    "colab": {
      "provenance": [],
      "authorship_tag": "ABX9TyN8Lk/w3wNKigBZqfErwmG8",
      "include_colab_link": true
    },
    "kernelspec": {
      "name": "python3",
      "display_name": "Python 3"
    },
    "language_info": {
      "name": "python"
    }
  },
  "cells": [
    {
      "cell_type": "markdown",
      "metadata": {
        "id": "view-in-github",
        "colab_type": "text"
      },
      "source": [
        "<a href=\"https://colab.research.google.com/github/sonder-art/fdd_prim_2023/blob/main/codigo/numpy/01_numpy_pkl.ipynb\" target=\"_parent\"><img src=\"https://colab.research.google.com/assets/colab-badge.svg\" alt=\"Open In Colab\"/></a>"
      ]
    },
    {
      "cell_type": "code",
      "execution_count": 1,
      "metadata": {
        "id": "958WOQ7z3cre"
      },
      "outputs": [],
      "source": [
        "import numpy as np\n",
        "import pickle"
      ]
    },
    {
      "cell_type": "markdown",
      "source": [
        "# Pickle"
      ],
      "metadata": {
        "id": "LuZaQ4Jh4x3g"
      }
    },
    {
      "cell_type": "markdown",
      "source": [
        "## Numpy"
      ],
      "metadata": {
        "id": "EEkWgugw41kw"
      }
    },
    {
      "cell_type": "markdown",
      "source": [
        "Salvar objeto con pickle"
      ],
      "metadata": {
        "id": "NCm5AOe_3kDU"
      }
    },
    {
      "cell_type": "code",
      "source": [
        "a = np.array([1, 2, 3, 4, 5])\n",
        "with open(\"array.pkl\", \"wb\") as f:\n",
        "    pickle.dump(a, f)"
      ],
      "metadata": {
        "id": "sh-qkORZ3mWK"
      },
      "execution_count": 7,
      "outputs": []
    },
    {
      "cell_type": "code",
      "source": [
        "a[0] = -1\n",
        "print(a)"
      ],
      "metadata": {
        "colab": {
          "base_uri": "https://localhost:8080/"
        },
        "id": "3jlLeigH3xRw",
        "outputId": "432eba93-6d84-4520-db45-1ccb66219c5c"
      },
      "execution_count": 8,
      "outputs": [
        {
          "output_type": "stream",
          "name": "stdout",
          "text": [
            "[-1  2  3  4  5]\n"
          ]
        }
      ]
    },
    {
      "cell_type": "code",
      "source": [
        "!ls"
      ],
      "metadata": {
        "colab": {
          "base_uri": "https://localhost:8080/"
        },
        "id": "v6K5wpSF3o_h",
        "outputId": "f23d31c8-82b5-4f96-9d4f-6619f6be4c90"
      },
      "execution_count": 3,
      "outputs": [
        {
          "output_type": "stream",
          "name": "stdout",
          "text": [
            "array.pkl  sample_data\n"
          ]
        }
      ]
    },
    {
      "cell_type": "markdown",
      "source": [
        "Cargar objeto con Pickle"
      ],
      "metadata": {
        "id": "u8NbpVPm3qFV"
      }
    },
    {
      "cell_type": "code",
      "source": [
        "with open(\"array.pkl\", \"rb\") as f:\n",
        "    b = pickle.load(f)\n",
        "print(b)"
      ],
      "metadata": {
        "colab": {
          "base_uri": "https://localhost:8080/"
        },
        "id": "cjSt_82f3tKK",
        "outputId": "ec0fc65f-19ef-429c-9910-9a0369d7abe0"
      },
      "execution_count": 9,
      "outputs": [
        {
          "output_type": "stream",
          "name": "stdout",
          "text": [
            "[1 2 3 4 5]\n"
          ]
        }
      ]
    },
    {
      "cell_type": "markdown",
      "source": [
        "## Dicts"
      ],
      "metadata": {
        "id": "E4Jo7uIn44ER"
      }
    },
    {
      "cell_type": "code",
      "source": [
        "# Crear un objeto Python\n",
        "data = {\"name\": \"John Doe\", \"age\": 32, \"email\": \"johndoe@example.com\"}\n",
        "\n",
        "# Serializar el objeto y guardarlo en un archivo\n",
        "with open(\"data.pkl\", \"wb\") as f:\n",
        "    pickle.dump(data, f)\n",
        "\n",
        "# Cargar el objeto desde el archivo\n",
        "with open(\"data.pkl\", \"rb\") as f:\n",
        "    loaded_data = pickle.load(f)\n",
        "\n",
        "print(loaded_data)"
      ],
      "metadata": {
        "colab": {
          "base_uri": "https://localhost:8080/"
        },
        "id": "8rGES97v452D",
        "outputId": "a277b5b9-1b56-4465-c6d3-30df95b0a44d"
      },
      "execution_count": 10,
      "outputs": [
        {
          "output_type": "stream",
          "name": "stdout",
          "text": [
            "{'name': 'John Doe', 'age': 32, 'email': 'johndoe@example.com'}\n"
          ]
        }
      ]
    },
    {
      "cell_type": "code",
      "source": [
        "!ls"
      ],
      "metadata": {
        "colab": {
          "base_uri": "https://localhost:8080/"
        },
        "id": "CpJPVwqx47Lv",
        "outputId": "e888aef1-5c88-4b6e-90d7-b9d4d4b6e04e"
      },
      "execution_count": 11,
      "outputs": [
        {
          "output_type": "stream",
          "name": "stdout",
          "text": [
            "array.pkl  data.pkl  sample_data\n"
          ]
        }
      ]
    },
    {
      "cell_type": "markdown",
      "source": [
        "Estos archivos pickle no son human readable"
      ],
      "metadata": {
        "id": "3Ua19RL76I9G"
      }
    },
    {
      "cell_type": "code",
      "source": [
        "! cat array.pkl"
      ],
      "metadata": {
        "colab": {
          "base_uri": "https://localhost:8080/"
        },
        "id": "DmNbuoPK482e",
        "outputId": "40443f9b-c1a0-4a9e-8ec4-6d7b1331781a"
      },
      "execution_count": 12,
      "outputs": [
        {
          "output_type": "stream",
          "name": "stdout",
          "text": [
            "�\u0004��\u0000\u0000\u0000\u0000\u0000\u0000\u0000�\u0015numpy.core.multiarray��\f_reconstruct����\u0005numpy��\u0007ndarray���K\u0000��C\u0001b���R�(K\u0001K\u0005��h\u0003�\u0005dtype����\u0002i8�����R�(K\u0003�\u0001<�NNNJ����J����K\u0000t�b�C(\u0001\u0000\u0000\u0000\u0000\u0000\u0000\u0000\u0002\u0000\u0000\u0000\u0000\u0000\u0000\u0000\u0003\u0000\u0000\u0000\u0000\u0000\u0000\u0000\u0004\u0000\u0000\u0000\u0000\u0000\u0000\u0000\u0005\u0000\u0000\u0000\u0000\u0000\u0000\u0000�t�b."
          ]
        }
      ]
    },
    {
      "cell_type": "markdown",
      "source": [
        "# Json"
      ],
      "metadata": {
        "id": "X0u2U2q15zjx"
      }
    },
    {
      "cell_type": "code",
      "source": [
        "import json"
      ],
      "metadata": {
        "id": "SYvZeh6d50o4"
      },
      "execution_count": 13,
      "outputs": []
    },
    {
      "cell_type": "code",
      "source": [
        "\n",
        "# Crear un objeto Python, nota que es igual que en el ejemplo anterior\n",
        "data = {\"name\": \"John Doe\", \"age\": 32, \"email\": \"johndoe@example.com\"}\n"
      ],
      "metadata": {
        "colab": {
          "base_uri": "https://localhost:8080/"
        },
        "id": "VaTo0mux52K3",
        "outputId": "717102ea-690b-4351-f232-c6f12c9517e4"
      },
      "execution_count": 14,
      "outputs": [
        {
          "output_type": "stream",
          "name": "stdout",
          "text": [
            "{'name': 'John Doe', 'age': 32, 'email': 'johndoe@example.com'}\n"
          ]
        }
      ]
    },
    {
      "cell_type": "code",
      "source": [
        "# Serializar el objeto en formato JSON y guardarlo en un archivo\n",
        "with open(\"data.json\", \"w\") as f:\n",
        "    json.dump(data, f)\n"
      ],
      "metadata": {
        "id": "n_WOQXUF5-vj"
      },
      "execution_count": null,
      "outputs": []
    },
    {
      "cell_type": "code",
      "source": [
        "data"
      ],
      "metadata": {
        "colab": {
          "base_uri": "https://localhost:8080/"
        },
        "id": "C06i6bXn6CYf",
        "outputId": "71e8dc97-4b07-40f6-d193-c48c36eea43d"
      },
      "execution_count": 15,
      "outputs": [
        {
          "output_type": "execute_result",
          "data": {
            "text/plain": [
              "{'name': 'John Doe', 'age': 32, 'email': 'johndoe@example.com'}"
            ]
          },
          "metadata": {},
          "execution_count": 15
        }
      ]
    },
    {
      "cell_type": "code",
      "source": [
        "# Cargar el objeto desde el archivo de JSON\n",
        "with open(\"data.json\", \"r\") as f:\n",
        "    loaded_data = json.load(f)\n",
        "\n",
        "print(loaded_data)"
      ],
      "metadata": {
        "colab": {
          "base_uri": "https://localhost:8080/"
        },
        "id": "K-1cHbAK6DQ3",
        "outputId": "837a77f1-3adb-462e-f729-6ba0e50ce823"
      },
      "execution_count": 16,
      "outputs": [
        {
          "output_type": "stream",
          "name": "stdout",
          "text": [
            "{'name': 'John Doe', 'age': 32, 'email': 'johndoe@example.com'}\n"
          ]
        }
      ]
    },
    {
      "cell_type": "markdown",
      "source": [
        "Los archivos json son human readable"
      ],
      "metadata": {
        "id": "pQZG0zbE6Myr"
      }
    },
    {
      "cell_type": "code",
      "source": [
        "! cat data.json"
      ],
      "metadata": {
        "colab": {
          "base_uri": "https://localhost:8080/"
        },
        "id": "yx7NQ4TY6Ewh",
        "outputId": "4423e3a6-0f7e-4162-e2ce-c5a645671322"
      },
      "execution_count": 17,
      "outputs": [
        {
          "output_type": "stream",
          "name": "stdout",
          "text": [
            "{\"name\": \"John Doe\", \"age\": 32, \"email\": \"johndoe@example.com\"}"
          ]
        }
      ]
    },
    {
      "cell_type": "markdown",
      "source": [
        "# Comparemos su tamanyo"
      ],
      "metadata": {
        "id": "VYn14rn96bLO"
      }
    },
    {
      "cell_type": "code",
      "source": [
        "!ls -lh"
      ],
      "metadata": {
        "colab": {
          "base_uri": "https://localhost:8080/"
        },
        "id": "SGi1ujkw6WEv",
        "outputId": "ad1fcdc4-9cdb-4cce-aa16-538b6c5b7d44"
      },
      "execution_count": 19,
      "outputs": [
        {
          "output_type": "stream",
          "name": "stdout",
          "text": [
            "total 16K\n",
            "-rw-r--r-- 1 root root  187 Feb 13 17:42 array.pkl\n",
            "-rw-r--r-- 1 root root   63 Feb 13 17:51 data.json\n",
            "-rw-r--r-- 1 root root   72 Feb 13 17:47 data.pkl\n",
            "drwxr-xr-x 1 root root 4.0K Feb 10 14:33 sample_data\n"
          ]
        }
      ]
    }
  ]
}