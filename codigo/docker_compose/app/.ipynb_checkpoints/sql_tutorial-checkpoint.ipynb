{
 "cells": [
  {
   "cell_type": "code",
   "execution_count": 4,
   "id": "3807d03f-4132-4f5a-83cd-d943d6703193",
   "metadata": {},
   "outputs": [],
   "source": [
    "import  sqlalchemy as sqla \n",
    "import os"
   ]
  },
  {
   "cell_type": "code",
   "execution_count": 2,
   "id": "954e96d3-5c15-402b-99ac-7f9e0860c44b",
   "metadata": {},
   "outputs": [
    {
     "name": "stdout",
     "output_type": "stream",
     "text": [
      "Requirement already satisfied: psycopg2-binary in /root/miniconda3/lib/python3.10/site-packages (2.9.5)\n",
      "\u001b[33mWARNING: Running pip as the 'root' user can result in broken permissions and conflicting behaviour with the system package manager. It is recommended to use a virtual environment instead: https://pip.pypa.io/warnings/venv\u001b[0m\u001b[33m\n",
      "\u001b[0m"
     ]
    }
   ],
   "source": [
    "! pip install psycopg2-binary"
   ]
  },
  {
   "cell_type": "markdown",
   "id": "ca414e19-672f-46fc-ae2e-fc0f899da8c4",
   "metadata": {},
   "source": [
    "# Leer Variables de ambiente"
   ]
  },
  {
   "cell_type": "markdown",
   "id": "08708452-6c6a-4872-8a33-27809384d766",
   "metadata": {},
   "source": [
    "Estas variables de ambiente estan especificadas en el common.env, y la directiva para leerlas esta en el docker-compose.\n",
    "Corresponden a los valores que elegimos al crear la base de datos."
   ]
  },
  {
   "cell_type": "code",
   "execution_count": 5,
   "id": "f460c451-4396-4a25-9050-31020cb06349",
   "metadata": {},
   "outputs": [],
   "source": [
    "POSTGRES_DB = os.getenv('POSTGRES_DB')\n",
    "POSTGRES_PASSWORD = os.getenv('POSTGRES_PASSWORD')\n",
    "POSTGRES_USER = os.getenv('POSTGRES_USER')\n",
    "POSTGRES_PORT = os.getenv('POSTGRES_PORT')\n",
    "POSTGRES_HOST = os.getenv('POSTGRES_HOST')"
   ]
  },
  {
   "cell_type": "markdown",
   "id": "f109b5e6-dc43-4b4f-90c9-1326634d7d82",
   "metadata": {},
   "source": [
    "https://www.tutorialspoint.com/sqlalchemy/sqlalchemy_core_creating_table.htm"
   ]
  },
  {
   "cell_type": "code",
   "execution_count": 5,
   "id": "4750167f-d56a-4ef7-920b-447b65c06a3d",
   "metadata": {},
   "outputs": [],
   "source": [
    "from sqlalchemy import Table, Column, Integer, String, MetaData"
   ]
  },
  {
   "cell_type": "code",
   "execution_count": 6,
   "id": "d5d857ce-b42b-4ba5-ae7d-277ed09b34eb",
   "metadata": {},
   "outputs": [],
   "source": [
    "meta = MetaData()"
   ]
  },
  {
   "cell_type": "markdown",
   "id": "bc270373-4689-4bbb-b161-b5099cddfe91",
   "metadata": {},
   "source": [
    "Crear schema de la tabla"
   ]
  },
  {
   "cell_type": "code",
   "execution_count": 7,
   "id": "7b6583e9-7b53-49e3-a9fc-9d1fb216feca",
   "metadata": {},
   "outputs": [],
   "source": [
    "students = Table(\n",
    "   'students', meta, \n",
    "   Column('cu', Integer, primary_key = True), \n",
    "   Column('nombre', String), \n",
    "   Column('apellido', String), \n",
    ")"
   ]
  },
  {
   "cell_type": "markdown",
   "id": "2c633dfd-9ccb-4746-afee-91ba7b39dd8d",
   "metadata": {},
   "source": [
    "Crear tabla en DB"
   ]
  },
  {
   "cell_type": "code",
   "execution_count": 8,
   "id": "64ec83b0-7112-41ba-8f89-e9b6bb09745f",
   "metadata": {},
   "outputs": [
    {
     "name": "stdout",
     "output_type": "stream",
     "text": [
      "2023-03-15 20:38:02,686 INFO sqlalchemy.engine.Engine select pg_catalog.version()\n",
      "2023-03-15 20:38:02,686 INFO sqlalchemy.engine.Engine [raw sql] {}\n",
      "2023-03-15 20:38:02,689 INFO sqlalchemy.engine.Engine select current_schema()\n",
      "2023-03-15 20:38:02,689 INFO sqlalchemy.engine.Engine [raw sql] {}\n",
      "2023-03-15 20:38:02,691 INFO sqlalchemy.engine.Engine show standard_conforming_strings\n",
      "2023-03-15 20:38:02,692 INFO sqlalchemy.engine.Engine [raw sql] {}\n",
      "2023-03-15 20:38:02,694 INFO sqlalchemy.engine.Engine BEGIN (implicit)\n",
      "2023-03-15 20:38:02,699 INFO sqlalchemy.engine.Engine SELECT pg_catalog.pg_class.relname \n",
      "FROM pg_catalog.pg_class JOIN pg_catalog.pg_namespace ON pg_catalog.pg_namespace.oid = pg_catalog.pg_class.relnamespace \n",
      "WHERE pg_catalog.pg_class.relname = %(table_name)s AND pg_catalog.pg_class.relkind = ANY (ARRAY[%(param_1)s, %(param_2)s, %(param_3)s, %(param_4)s, %(param_5)s]) AND pg_catalog.pg_table_is_visible(pg_catalog.pg_class.oid) AND pg_catalog.pg_namespace.nspname != %(nspname_1)s\n",
      "2023-03-15 20:38:02,699 INFO sqlalchemy.engine.Engine [generated in 0.00103s] {'table_name': 'students', 'param_1': 'r', 'param_2': 'p', 'param_3': 'f', 'param_4': 'v', 'param_5': 'm', 'nspname_1': 'pg_catalog'}\n",
      "2023-03-15 20:38:02,702 INFO sqlalchemy.engine.Engine COMMIT\n"
     ]
    }
   ],
   "source": [
    "meta.create_all(db)"
   ]
  },
  {
   "cell_type": "markdown",
   "id": "7ee5e81c-d060-4159-823a-3bfe6aaea887",
   "metadata": {},
   "source": [
    " Para ejecutar operaciones en la base de datos es necesario crear una coneccion"
   ]
  },
  {
   "cell_type": "code",
   "execution_count": 9,
   "id": "fbbe58b4-bed8-489c-8099-938b4aa9ac9f",
   "metadata": {},
   "outputs": [],
   "source": [
    "conn = db.connect()"
   ]
  },
  {
   "cell_type": "markdown",
   "id": "d9cf67b5-6f71-4186-8949-a8bc56ea5a5c",
   "metadata": {},
   "source": [
    "## Ejecucion"
   ]
  },
  {
   "cell_type": "markdown",
   "id": "e91c60f6-4153-4356-af3a-663ba9959e5d",
   "metadata": {},
   "source": [
    "### Insert"
   ]
  },
  {
   "cell_type": "code",
   "execution_count": 10,
   "id": "57c19f19-65ae-4d8e-acf6-dbed59d1e2d2",
   "metadata": {},
   "outputs": [
    {
     "name": "stdout",
     "output_type": "stream",
     "text": [
      "INSERT INTO students (cu, nombre, apellido) VALUES (:cu, :nombre, :apellido)\n"
     ]
    }
   ],
   "source": [
    "ins = students.insert()\n",
    "print(ins)"
   ]
  },
  {
   "cell_type": "code",
   "execution_count": 11,
   "id": "e1a5cfaf-0b64-448b-866e-2740b586ea9b",
   "metadata": {},
   "outputs": [
    {
     "name": "stdout",
     "output_type": "stream",
     "text": [
      "INSERT INTO students (cu, nombre, apellido) VALUES (:cu, :nombre, :apellido)\n"
     ]
    },
    {
     "data": {
      "text/plain": [
       "{'cu': 0, 'nombre': 'Hange', 'apellido': 'Zoe'}"
      ]
     },
     "execution_count": 11,
     "metadata": {},
     "output_type": "execute_result"
    }
   ],
   "source": [
    "ins = students.insert().values(cu=0, nombre = 'Hange', apellido='Zoe')\n",
    "print(ins)\n",
    "ins.compile().params"
   ]
  },
  {
   "cell_type": "markdown",
   "id": "72e56d62-4703-4ff0-828c-9cad8ad8e099",
   "metadata": {},
   "source": [
    "Ejecutar la insercion"
   ]
  },
  {
   "cell_type": "code",
   "execution_count": 12,
   "id": "10a2857e-636d-4209-baf7-e38217745ef4",
   "metadata": {},
   "outputs": [
    {
     "name": "stdout",
     "output_type": "stream",
     "text": [
      "2023-03-15 20:38:02,746 INFO sqlalchemy.engine.Engine BEGIN (implicit)\n",
      "2023-03-15 20:38:02,747 INFO sqlalchemy.engine.Engine INSERT INTO students (cu, nombre, apellido) VALUES (%(cu)s, %(nombre)s, %(apellido)s)\n",
      "2023-03-15 20:38:02,748 INFO sqlalchemy.engine.Engine [generated in 0.00213s] {'cu': 3, 'nombre': 'Hange', 'apellido': 'Zoe'}\n",
      "<sqlalchemy.engine.cursor.CursorResult object at 0x7fe150aef520>\n"
     ]
    }
   ],
   "source": [
    "ins = students.insert()\n",
    "ins = students.insert().values(cu=3, nombre = 'Hange', apellido='Zoe')\n",
    "conn = db.connect()\n",
    "result = conn.execute(ins)\n",
    "print(result)"
   ]
  },
  {
   "cell_type": "markdown",
   "id": "eee30ba7-fe90-4f1b-b461-65284ed62c8a",
   "metadata": {},
   "source": [
    "Ejecutar Varias inserciones"
   ]
  },
  {
   "cell_type": "code",
   "execution_count": 13,
   "id": "9bcd25d2-70ad-443b-84d9-8de9e5b95cfc",
   "metadata": {},
   "outputs": [
    {
     "name": "stdout",
     "output_type": "stream",
     "text": [
      "2023-03-15 20:38:02,755 INFO sqlalchemy.engine.Engine INSERT INTO students (cu, nombre, apellido) VALUES (%(cu__0)s, %(nombre__0)s, %(apellido__0)s), (%(cu__1)s, %(nombre__1)s, %(apellido__1)s)\n",
      "2023-03-15 20:38:02,757 INFO sqlalchemy.engine.Engine [generated in 0.00011s (insertmanyvalues)] {'apellido__0': 'Jager', 'nombre__0': 'Eren', 'cu__0': '4', 'apellido__1': 'Arlert', 'nombre__1': 'Armin', 'cu__1': '5'}\n"
     ]
    },
    {
     "data": {
      "text/plain": [
       "<sqlalchemy.engine.cursor.CursorResult at 0x7fe150aeef80>"
      ]
     },
     "execution_count": 13,
     "metadata": {},
     "output_type": "execute_result"
    }
   ],
   "source": [
    "conn.execute(students.insert(), [\n",
    "   {'cu':'4', 'nombre' : 'Eren', 'apellido':'Jager'},\n",
    "   {'cu':'5','nombre' : 'Armin', 'apellido':'Arlert'}\n",
    "])"
   ]
  },
  {
   "cell_type": "markdown",
   "id": "efbfc54f-644d-4fc0-a57d-fd11874e4832",
   "metadata": {},
   "source": [
    "### Select"
   ]
  },
  {
   "cell_type": "code",
   "execution_count": 14,
   "id": "47a2acdf-a27a-4824-99c6-923753392844",
   "metadata": {},
   "outputs": [
    {
     "name": "stdout",
     "output_type": "stream",
     "text": [
      "2023-03-15 20:38:02,767 INFO sqlalchemy.engine.Engine BEGIN (implicit)\n",
      "2023-03-15 20:38:02,769 INFO sqlalchemy.engine.Engine SELECT students.cu, students.nombre, students.apellido \n",
      "FROM students\n",
      "2023-03-15 20:38:02,769 INFO sqlalchemy.engine.Engine [generated in 0.00253s] {}\n"
     ]
    }
   ],
   "source": [
    "s = students.select()\n",
    "conn = db.connect()\n",
    "result = conn.execute(s)\n",
    "\n",
    "for row in result:\n",
    "   print (row)"
   ]
  },
  {
   "cell_type": "markdown",
   "id": "8b707e1d-2376-4d58-ada1-6607597d92b6",
   "metadata": {},
   "source": [
    "# Crear Engine"
   ]
  },
  {
   "cell_type": "code",
   "execution_count": 6,
   "id": "2e27450b-3e34-4cef-8c54-3cd55950eb62",
   "metadata": {},
   "outputs": [],
   "source": [
    "from sqlalchemy import create_engine, Column, Integer, String, Float\n",
    "from sqlalchemy.orm import declarative_base\n",
    "#from sqlalchemy.ext.declarative import declarative_base"
   ]
  },
  {
   "cell_type": "code",
   "execution_count": 7,
   "id": "d5ba34f3-1f9e-4f90-ad86-6a6224abb0a6",
   "metadata": {},
   "outputs": [],
   "source": [
    "# create a new engine\n",
    "db_string = 'postgresql://{}:{}@{}:{}/{}'.format(POSTGRES_USER, POSTGRES_PASSWORD, POSTGRES_HOST, POSTGRES_PORT, POSTGRES_DB)\n",
    "engine = create_engine(db_string, echo=True)"
   ]
  },
  {
   "cell_type": "markdown",
   "id": "e7731c01-cdaa-48ca-921c-e9ac453d544a",
   "metadata": {},
   "source": [
    "# Definir y Crear base"
   ]
  },
  {
   "cell_type": "code",
   "execution_count": 18,
   "id": "45939ae3-706b-4da2-ad93-2ee894c8b567",
   "metadata": {},
   "outputs": [
    {
     "name": "stdout",
     "output_type": "stream",
     "text": [
      "2023-03-15 21:08:33,749 INFO sqlalchemy.engine.Engine select pg_catalog.version()\n",
      "2023-03-15 21:08:33,749 INFO sqlalchemy.engine.Engine [raw sql] {}\n",
      "2023-03-15 21:08:33,751 INFO sqlalchemy.engine.Engine select current_schema()\n",
      "2023-03-15 21:08:33,751 INFO sqlalchemy.engine.Engine [raw sql] {}\n",
      "2023-03-15 21:08:33,753 INFO sqlalchemy.engine.Engine show standard_conforming_strings\n",
      "2023-03-15 21:08:33,754 INFO sqlalchemy.engine.Engine [raw sql] {}\n",
      "2023-03-15 21:08:33,755 INFO sqlalchemy.engine.Engine BEGIN (implicit)\n",
      "2023-03-15 21:08:33,758 INFO sqlalchemy.engine.Engine SELECT pg_catalog.pg_class.relname \n",
      "FROM pg_catalog.pg_class JOIN pg_catalog.pg_namespace ON pg_catalog.pg_namespace.oid = pg_catalog.pg_class.relnamespace \n",
      "WHERE pg_catalog.pg_class.relname = %(table_name)s AND pg_catalog.pg_class.relkind = ANY (ARRAY[%(param_1)s, %(param_2)s, %(param_3)s, %(param_4)s, %(param_5)s]) AND pg_catalog.pg_table_is_visible(pg_catalog.pg_class.oid) AND pg_catalog.pg_namespace.nspname != %(nspname_1)s\n",
      "2023-03-15 21:08:33,759 INFO sqlalchemy.engine.Engine [generated in 0.00104s] {'table_name': 'students', 'param_1': 'r', 'param_2': 'p', 'param_3': 'f', 'param_4': 'v', 'param_5': 'm', 'nspname_1': 'pg_catalog'}\n",
      "2023-03-15 21:08:33,762 INFO sqlalchemy.engine.Engine \n",
      "CREATE TABLE students (\n",
      "\tcu SERIAL NOT NULL, \n",
      "\tnombre VARCHAR, \n",
      "\tapellido VARCHAR, \n",
      "\tPRIMARY KEY (cu)\n",
      ")\n",
      "\n",
      "\n",
      "2023-03-15 21:08:33,763 INFO sqlalchemy.engine.Engine [no key 0.00086s] {}\n",
      "2023-03-15 21:08:33,770 INFO sqlalchemy.engine.Engine COMMIT\n"
     ]
    }
   ],
   "source": [
    "# create a new engine\n",
    "db_string = 'postgresql://{}:{}@{}:{}/{}'.format(POSTGRES_USER, POSTGRES_PASSWORD, POSTGRES_HOST, POSTGRES_PORT, POSTGRES_DB)\n",
    "engine = create_engine(db_string, echo=True)\n",
    "# create a new base\n",
    "Base = declarative_base()\n",
    "# define the students table\n",
    "class Student(Base):\n",
    "    __tablename__ = 'students'\n",
    "    cu = Column(Integer, primary_key=True)\n",
    "    nombre = Column(String)\n",
    "    apellido = Column(String)\n",
    "\n",
    "# create the table\n",
    "Base.metadata.create_all(engine)"
   ]
  },
  {
   "cell_type": "markdown",
   "id": "a0a59b6f-6ee9-43eb-867c-8d48dfab67a7",
   "metadata": {},
   "source": [
    "# Agregar Datos"
   ]
  },
  {
   "cell_type": "code",
   "execution_count": 26,
   "id": "3c06fbc8-5dba-4172-965f-bcc48777070c",
   "metadata": {},
   "outputs": [],
   "source": [
    "from sqlalchemy import create_engine\n",
    "from sqlalchemy.orm import sessionmaker\n",
    "from sqlalchemy.exc import IntegrityError\n",
    "# Si la base esta definida en otro lado tienen que importarla\n",
    "# from db_def import Student  \n",
    "\n"
   ]
  },
  {
   "cell_type": "code",
   "execution_count": 32,
   "id": "e3f9c72d-35b4-4422-90e0-b3e5365a05e9",
   "metadata": {},
   "outputs": [],
   "source": [
    "# Crear engine y Sesion\n",
    "engine = create_engine(db_string, echo=True)"
   ]
  },
  {
   "cell_type": "code",
   "execution_count": 35,
   "id": "1d8a3cdd-9c32-45cc-8c19-319a1aae5c0c",
   "metadata": {},
   "outputs": [],
   "source": [
    "# create a metadata object and reflect the existing table\n",
    "engine = create_engine(db_string, echo=False)\n",
    "metadata = MetaData()\n",
    "students_table = Table('students', metadata, autoload_with=engine)\n",
    "Student.__table__ = students_table\n",
    "Session = sessionmaker(bind=engine)\n",
    "session = Session()"
   ]
  },
  {
   "cell_type": "code",
   "execution_count": 34,
   "id": "62dad664-ab16-42e8-b7f8-f718223e5ad4",
   "metadata": {},
   "outputs": [
    {
     "name": "stdout",
     "output_type": "stream",
     "text": [
      "2023-03-15 21:15:02,432 INFO sqlalchemy.engine.Engine BEGIN (implicit)\n",
      "2023-03-15 21:15:02,436 INFO sqlalchemy.engine.Engine INSERT INTO students (cu, nombre, apellido) VALUES (%(cu__0)s, %(nombre__0)s, %(apellido__0)s), (%(cu__1)s, %(nombre__1)s, %(apellido__1)s), (%(cu__2)s, %(nombre__2)s, %(apellido__2)s)\n",
      "2023-03-15 21:15:02,438 INFO sqlalchemy.engine.Engine [generated in 0.00016s (insertmanyvalues)] {'apellido__0': 'Zoe', 'nombre__0': 'Hange', 'cu__0': 1, 'apellido__1': 'Yeager', 'nombre__1': 'Eren', 'cu__1': 2, 'apellido__2': 'Arlert', 'nombre__2': 'Armin', 'cu__2': 3}\n",
      "2023-03-15 21:15:02,442 INFO sqlalchemy.engine.Engine ROLLBACK\n",
      "IntegrityError: Duplicate key value\n"
     ]
    }
   ],
   "source": [
    "# Nuevos estudiandes\n",
    "s1 = Student(cu=1, nombre = 'Hange', apellido='Zoe')\n",
    "s2 =  Student(cu=2, nombre = 'Eren', apellido='Yeager')\n",
    "s3 =  Student(cu=3, nombre = 'Armin', apellido='Arlert')\n",
    "\n",
    "\n",
    "# add the students to the session\n",
    "session.add_all([s1, s2, s3])\n",
    "\n",
    "# commit the changes to the database\n",
    "try:\n",
    "    session.commit()\n",
    "except IntegrityError:\n",
    "    session.rollback()\n",
    "    print('IntegrityError: Duplicate key value')"
   ]
  },
  {
   "cell_type": "markdown",
   "id": "2c17318a-b856-43f0-8442-e17d0f631261",
   "metadata": {},
   "source": [
    "# Ver tabla"
   ]
  },
  {
   "cell_type": "code",
   "execution_count": 40,
   "id": "c4802939-7e3a-4c75-9e1c-ab258535c400",
   "metadata": {},
   "outputs": [
    {
     "name": "stdout",
     "output_type": "stream",
     "text": [
      "(1, 'Hange', 'Zoe')\n",
      "(2, 'Eren', 'Yeager')\n",
      "(3, 'Armin', 'Arlert')\n"
     ]
    }
   ],
   "source": [
    "from sqlalchemy import create_engine, MetaData, Table, select\n",
    "\n",
    "# create a new engine\n",
    "engine = create_engine(db_string, echo=False)\n",
    "\n",
    "# create a metadata object and reflect the existing table\n",
    "metadata = MetaData()\n",
    "students_table = Table('students', metadata,  autoload_with=engine)\n",
    "\n",
    "# create a select statement for the first 3 rows\n",
    "select_stmt = select(students_table).limit(3)\n",
    "\n",
    "# create a connection object and execute the select statement\n",
    "conn = engine.connect()\n",
    "result = conn.execute(select_stmt)\n",
    "\n",
    "# print the rows\n",
    "for row in result:\n",
    "    print(row)\n",
    "\n",
    "# close the connection\n",
    "conn.close()"
   ]
  },
  {
   "cell_type": "markdown",
   "id": "6fff8793-534b-4dd0-b51a-c8ebefb8b494",
   "metadata": {},
   "source": [
    "# Ver Columnas"
   ]
  },
  {
   "cell_type": "code",
   "execution_count": 42,
   "id": "df9540aa-dd63-427a-9975-6243e0c32b38",
   "metadata": {},
   "outputs": [
    {
     "name": "stdout",
     "output_type": "stream",
     "text": [
      "['cu', 'nombre', 'apellido']\n"
     ]
    }
   ],
   "source": [
    "from sqlalchemy import create_engine, MetaData, Table\n",
    "\n",
    "# create a new engine\n",
    "engine = create_engine(db_string, echo=False)\n",
    "\n",
    "# create a metadata object and reflect the existing table\n",
    "metadata = MetaData()\n",
    "students_table = Table('students', metadata, autoload_with=engine)\n",
    "\n",
    "# print the list of column names\n",
    "print(students_table.columns.keys())"
   ]
  },
  {
   "cell_type": "markdown",
   "id": "f3a6a09a-876c-4f32-971d-1dbf28040347",
   "metadata": {},
   "source": [
    "# Agregar Columna"
   ]
  },
  {
   "cell_type": "code",
   "execution_count": 41,
   "id": "8aaf1d1b-cb60-4d5b-a4e1-40771e16796b",
   "metadata": {},
   "outputs": [
    {
     "name": "stdout",
     "output_type": "stream",
     "text": [
      "2023-03-15 21:24:17,134 INFO sqlalchemy.engine.Engine select pg_catalog.version()\n",
      "2023-03-15 21:24:17,135 INFO sqlalchemy.engine.Engine [raw sql] {}\n",
      "2023-03-15 21:24:17,137 INFO sqlalchemy.engine.Engine select current_schema()\n",
      "2023-03-15 21:24:17,137 INFO sqlalchemy.engine.Engine [raw sql] {}\n",
      "2023-03-15 21:24:17,139 INFO sqlalchemy.engine.Engine show standard_conforming_strings\n",
      "2023-03-15 21:24:17,140 INFO sqlalchemy.engine.Engine [raw sql] {}\n",
      "2023-03-15 21:24:17,141 INFO sqlalchemy.engine.Engine BEGIN (implicit)\n",
      "2023-03-15 21:24:17,145 INFO sqlalchemy.engine.Engine SELECT pg_catalog.pg_class.relname \n",
      "FROM pg_catalog.pg_class JOIN pg_catalog.pg_namespace ON pg_catalog.pg_namespace.oid = pg_catalog.pg_class.relnamespace \n",
      "WHERE pg_catalog.pg_class.relname = %(table_name)s AND pg_catalog.pg_class.relkind = ANY (ARRAY[%(param_1)s, %(param_2)s, %(param_3)s, %(param_4)s, %(param_5)s]) AND pg_catalog.pg_table_is_visible(pg_catalog.pg_class.oid) AND pg_catalog.pg_namespace.nspname != %(nspname_1)s\n",
      "2023-03-15 21:24:17,146 INFO sqlalchemy.engine.Engine [generated in 0.00193s] {'table_name': 'students', 'param_1': 'r', 'param_2': 'p', 'param_3': 'f', 'param_4': 'v', 'param_5': 'm', 'nspname_1': 'pg_catalog'}\n",
      "2023-03-15 21:24:17,149 INFO sqlalchemy.engine.Engine COMMIT\n"
     ]
    }
   ],
   "source": [
    "# create a new engine\n",
    "db_string = 'postgresql://{}:{}@{}:{}/{}'.format(POSTGRES_USER, POSTGRES_PASSWORD, POSTGRES_HOST, POSTGRES_PORT, POSTGRES_DB)\n",
    "engine = create_engine(db_string, echo=True)\n",
    "# create a new base\n",
    "Base = declarative_base()\n",
    "# define the students table\n",
    "class Student(Base):\n",
    "    __tablename__ = 'students'\n",
    "    cu = Column(Integer, primary_key=True)\n",
    "    nombre = Column(String)\n",
    "    apellido = Column(String)\n",
    "    grade = Column(Float)\n",
    "\n",
    "# create the table\n",
    "Base.metadata.create_all(engine)"
   ]
  }
 ],
 "metadata": {
  "kernelspec": {
   "display_name": "Python 3 (ipykernel)",
   "language": "python",
   "name": "python3"
  },
  "language_info": {
   "codemirror_mode": {
    "name": "ipython",
    "version": 3
   },
   "file_extension": ".py",
   "mimetype": "text/x-python",
   "name": "python",
   "nbconvert_exporter": "python",
   "pygments_lexer": "ipython3",
   "version": "3.10.9"
  }
 },
 "nbformat": 4,
 "nbformat_minor": 5
}
