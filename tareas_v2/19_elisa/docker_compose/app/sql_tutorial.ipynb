{
 "cells": [
  {
   "cell_type": "code",
   "execution_count": 1,
   "id": "3807d03f-4132-4f5a-83cd-d943d6703193",
   "metadata": {},
   "outputs": [],
   "source": [
    "import  sqlalchemy as sqla \n",
    "import os"
   ]
  },
  {
   "cell_type": "code",
   "execution_count": 2,
   "id": "954e96d3-5c15-402b-99ac-7f9e0860c44b",
   "metadata": {},
   "outputs": [
    {
     "name": "stdout",
     "output_type": "stream",
     "text": [
      "Requirement already satisfied: psycopg2-binary in /root/miniconda3/lib/python3.10/site-packages (2.9.5)\n",
      "\u001b[33mWARNING: Running pip as the 'root' user can result in broken permissions and conflicting behaviour with the system package manager. It is recommended to use a virtual environment instead: https://pip.pypa.io/warnings/venv\u001b[0m\u001b[33m\n",
      "\u001b[0m"
     ]
    }
   ],
   "source": [
    "! pip install psycopg2-binary"
   ]
  },
  {
   "cell_type": "markdown",
   "id": "ca414e19-672f-46fc-ae2e-fc0f899da8c4",
   "metadata": {},
   "source": [
    "# Leer Variables de ambiente"
   ]
  },
  {
   "cell_type": "markdown",
   "id": "08708452-6c6a-4872-8a33-27809384d766",
   "metadata": {},
   "source": [
    "Estas variables de ambiente estan especificadas en el common.env, y la directiva para leerlas esta en el docker-compose.\n",
    "Corresponden a los valores que elegimos al crear la base de datos."
   ]
  },
  {
   "cell_type": "code",
   "execution_count": 3,
   "id": "f460c451-4396-4a25-9050-31020cb06349",
   "metadata": {},
   "outputs": [],
   "source": [
    "POSTGRES_DB = os.getenv('POSTGRES_DB')\n",
    "POSTGRES_PASSWORD = os.getenv('POSTGRES_PASSWORD')\n",
    "POSTGRES_USER = os.getenv('POSTGRES_USER')\n",
    "POSTGRES_PORT = os.getenv('POSTGRES_PORT')\n",
    "POSTGRES_HOST = os.getenv('POSTGRES_HOST')"
   ]
  },
  {
   "cell_type": "markdown",
   "id": "f109b5e6-dc43-4b4f-90c9-1326634d7d82",
   "metadata": {},
   "source": [
    "https://www.tutorialspoint.com/sqlalchemy/sqlalchemy_core_creating_table.htm"
   ]
  },
  {
   "cell_type": "markdown",
   "id": "8b707e1d-2376-4d58-ada1-6607597d92b6",
   "metadata": {},
   "source": [
    "# Crear Engine"
   ]
  },
  {
   "cell_type": "code",
   "execution_count": 4,
   "id": "2e27450b-3e34-4cef-8c54-3cd55950eb62",
   "metadata": {},
   "outputs": [],
   "source": [
    "from sqlalchemy import create_engine, Column, Integer, String, Float\n",
    "from sqlalchemy.orm import declarative_base\n",
    "#from sqlalchemy.ext.declarative import declarative_base"
   ]
  },
  {
   "cell_type": "markdown",
   "id": "bddb36bb-2969-492f-b847-cd243cd15012",
   "metadata": {},
   "source": [
    "Conectarse a la base de datos `postgresql://<username>:<password>@<host>/<database_name>`"
   ]
  },
  {
   "cell_type": "markdown",
   "id": "cd8a65e9-8ebd-4fee-895e-447ad857655d",
   "metadata": {},
   "source": [
    "`create_engine` es una función proporcionada por el paquete SQLAlchemy que se utiliza para crear una instancia de la clase Engine, que es la base para interactuar con una base de datos mediante SQLAlchemy.\n",
    "\n",
    "La función `create_engine` toma como argumento una cadena de conexión que especifica la ubicación de la base de datos, el nombre de usuario y contraseña para la conexión, y otras opciones como el motor de base de datos que se está utilizando. Una vez que se crea una instancia del objeto `Engine`, se puede utilizar para ejecutar consultas, crear tablas y manipular datos en la base de datos a través de la clase `Session`.\n",
    "\n",
    "https://docs.sqlalchemy.org/en/20/core/engines.html"
   ]
  },
  {
   "cell_type": "code",
   "execution_count": 61,
   "id": "d5ba34f3-1f9e-4f90-ad86-6a6224abb0a6",
   "metadata": {},
   "outputs": [],
   "source": [
    "# create a new engine\n",
    "def start_engine(echo:bool=True):\n",
    "    db_string = f'postgresql://{POSTGRES_USER}:{POSTGRES_PASSWORD}@{POSTGRES_HOST}:{POSTGRES_PORT}/{POSTGRES_DB}'\n",
    "    engine = create_engine(db_string, echo=echo)\n",
    "    \n",
    "    return engine"
   ]
  },
  {
   "cell_type": "code",
   "execution_count": 62,
   "id": "d4c0a597-a0ca-479c-aa08-b25095abfa5d",
   "metadata": {},
   "outputs": [],
   "source": [
    "engine = start_engine(echo=True)"
   ]
  },
  {
   "cell_type": "markdown",
   "id": "6de7c801-342e-4e8b-b0e7-499de4344930",
   "metadata": {},
   "source": [
    "El engine es lo que nos permite empezar a manipular y ver las bases de SQL. A veces tenemos que crearlo o inicializarlo varias veces por que puede \"romperse\" cuando existen errores. Tambien tenemos que utilizar `connections` con este engine para acceder a las Tablas como veremos mas adelante."
   ]
  },
  {
   "cell_type": "markdown",
   "id": "1ab527d9-b722-428f-8933-2c1732ce58a6",
   "metadata": {},
   "source": [
    "# Ver tablas existentes"
   ]
  },
  {
   "cell_type": "code",
   "execution_count": 7,
   "id": "705ccbfd-9de4-4a06-89bf-17548f7a483b",
   "metadata": {},
   "outputs": [],
   "source": [
    "from sqlalchemy import inspect\n"
   ]
  },
  {
   "cell_type": "markdown",
   "id": "3095167e-848d-4654-be35-9029df9f40db",
   "metadata": {},
   "source": [
    "Para ver las tablas existentes o analizar objetos existentes, debemos usar el objeto `inspector`"
   ]
  },
  {
   "cell_type": "code",
   "execution_count": 8,
   "id": "18857040-70e6-4082-9a41-e928b3c78e01",
   "metadata": {},
   "outputs": [
    {
     "name": "stdout",
     "output_type": "stream",
     "text": [
      "schema: information_schema\n",
      "Table: sql_features\n",
      "Table: sql_implementation_info\n",
      "Table: sql_parts\n",
      "Table: sql_sizing\n",
      "schema: public\n",
      "Table: students\n"
     ]
    }
   ],
   "source": [
    "engine = start_engine(echo=False)\n",
    "inspector = inspect(engine)\n",
    "schemas = inspector.get_schema_names()\n",
    "\n",
    "for schema in schemas:\n",
    "    print(\"schema: %s\" % schema)\n",
    "    for table_name in inspector.get_table_names(schema=schema):\n",
    "        print(\"Table: %s\" % table_name)"
   ]
  },
  {
   "cell_type": "code",
   "execution_count": 9,
   "id": "60c5b863-7ecf-4d87-8c06-7dd423d3f12c",
   "metadata": {},
   "outputs": [],
   "source": [
    "def existe_tabla(nombre_tabla:str):\n",
    "    engine = start_engine(echo=False)\n",
    "    inspector = inspect(engine)\n",
    "    schemas = inspector.get_schema_names()\n",
    "\n",
    "    for schema in schemas:\n",
    "        for table_name in inspector.get_table_names(schema=schema):\n",
    "            if nombre_tabla == table_name:\n",
    "                print(f\"Table: {table_name} existe \")  \n",
    "                return True\n",
    "    return False"
   ]
  },
  {
   "cell_type": "markdown",
   "id": "f55466c6-c034-4455-88f6-5b616a6f8fab",
   "metadata": {},
   "source": [
    "# Ver Columnas de las tablas"
   ]
  },
  {
   "cell_type": "code",
   "execution_count": 10,
   "id": "84a39295-c2fa-4569-a99e-519525995990",
   "metadata": {},
   "outputs": [],
   "source": [
    "from sqlalchemy import inspect"
   ]
  },
  {
   "cell_type": "code",
   "execution_count": 11,
   "id": "0c4a2b28-aa7e-4118-806e-f7d619bb90cb",
   "metadata": {},
   "outputs": [
    {
     "name": "stdout",
     "output_type": "stream",
     "text": [
      "schema: information_schema\n",
      "\n",
      " ------------------ Table: sql_features ---------------\n",
      "Column: {'name': 'feature_id', 'type': VARCHAR(), 'nullable': True, 'default': None, 'autoincrement': False, 'comment': None}\n",
      "Column: {'name': 'feature_name', 'type': VARCHAR(), 'nullable': True, 'default': None, 'autoincrement': False, 'comment': None}\n",
      "Column: {'name': 'sub_feature_id', 'type': VARCHAR(), 'nullable': True, 'default': None, 'autoincrement': False, 'comment': None}\n",
      "Column: {'name': 'sub_feature_name', 'type': VARCHAR(), 'nullable': True, 'default': None, 'autoincrement': False, 'comment': None}\n",
      "Column: {'name': 'is_supported', 'type': VARCHAR(), 'nullable': True, 'default': None, 'autoincrement': False, 'comment': None}\n",
      "Column: {'name': 'is_verified_by', 'type': VARCHAR(), 'nullable': True, 'default': None, 'autoincrement': False, 'comment': None}\n",
      "Column: {'name': 'comments', 'type': VARCHAR(), 'nullable': True, 'default': None, 'autoincrement': False, 'comment': None}\n",
      "\n",
      " ------------------ Table: sql_implementation_info ---------------\n",
      "Column: {'name': 'implementation_info_id', 'type': VARCHAR(), 'nullable': True, 'default': None, 'autoincrement': False, 'comment': None}\n",
      "Column: {'name': 'implementation_info_name', 'type': VARCHAR(), 'nullable': True, 'default': None, 'autoincrement': False, 'comment': None}\n",
      "Column: {'name': 'integer_value', 'type': INTEGER(), 'nullable': True, 'default': None, 'autoincrement': False, 'comment': None}\n",
      "Column: {'name': 'character_value', 'type': VARCHAR(), 'nullable': True, 'default': None, 'autoincrement': False, 'comment': None}\n",
      "Column: {'name': 'comments', 'type': VARCHAR(), 'nullable': True, 'default': None, 'autoincrement': False, 'comment': None}\n",
      "\n",
      " ------------------ Table: sql_parts ---------------\n",
      "Column: {'name': 'feature_id', 'type': VARCHAR(), 'nullable': True, 'default': None, 'autoincrement': False, 'comment': None}\n",
      "Column: {'name': 'feature_name', 'type': VARCHAR(), 'nullable': True, 'default': None, 'autoincrement': False, 'comment': None}\n",
      "Column: {'name': 'is_supported', 'type': VARCHAR(), 'nullable': True, 'default': None, 'autoincrement': False, 'comment': None}\n",
      "Column: {'name': 'is_verified_by', 'type': VARCHAR(), 'nullable': True, 'default': None, 'autoincrement': False, 'comment': None}\n",
      "Column: {'name': 'comments', 'type': VARCHAR(), 'nullable': True, 'default': None, 'autoincrement': False, 'comment': None}\n",
      "\n",
      " ------------------ Table: sql_sizing ---------------\n",
      "Column: {'name': 'sizing_id', 'type': INTEGER(), 'nullable': True, 'default': None, 'autoincrement': False, 'comment': None}\n",
      "Column: {'name': 'sizing_name', 'type': VARCHAR(), 'nullable': True, 'default': None, 'autoincrement': False, 'comment': None}\n",
      "Column: {'name': 'supported_value', 'type': INTEGER(), 'nullable': True, 'default': None, 'autoincrement': False, 'comment': None}\n",
      "Column: {'name': 'comments', 'type': VARCHAR(), 'nullable': True, 'default': None, 'autoincrement': False, 'comment': None}\n",
      "schema: public\n",
      "\n",
      " ------------------ Table: students ---------------\n",
      "Column: {'name': 'cu', 'type': INTEGER(), 'nullable': False, 'default': 'nextval(\\'\"public\".students_cu_seq\\'::regclass)', 'autoincrement': True, 'comment': None}\n",
      "Column: {'name': 'nombre', 'type': VARCHAR(), 'nullable': True, 'default': None, 'autoincrement': False, 'comment': None}\n",
      "Column: {'name': 'apellido', 'type': VARCHAR(), 'nullable': True, 'default': None, 'autoincrement': False, 'comment': None}\n",
      "Column: {'name': 'grade', 'type': DOUBLE_PRECISION(precision=53), 'nullable': True, 'default': None, 'autoincrement': False, 'comment': None}\n"
     ]
    }
   ],
   "source": [
    "engine = start_engine(echo=False)\n",
    "inspector = inspect(engine)\n",
    "schemas = inspector.get_schema_names()\n",
    "\n",
    "for schema in schemas:\n",
    "    print(\"schema: %s\" % schema)\n",
    "    for table_name in inspector.get_table_names(schema=schema):\n",
    "        print(\"\\n ------------------ Table: %s ---------------\" % table_name)\n",
    "        for column in inspector.get_columns(table_name, schema=schema):\n",
    "            print(\"Column: %s\" % column)\n"
   ]
  },
  {
   "cell_type": "markdown",
   "id": "e7731c01-cdaa-48ca-921c-e9ac453d544a",
   "metadata": {},
   "source": [
    "# Definir y Crear base"
   ]
  },
  {
   "cell_type": "code",
   "execution_count": 12,
   "id": "e42c511d-0cf6-4025-9b38-b190d5e706be",
   "metadata": {},
   "outputs": [],
   "source": [
    "from sqlalchemy import create_engine, Column, Integer, String, Float\n",
    "from sqlalchemy.orm import sessionmaker\n",
    "from sqlalchemy.orm import declarative_base"
   ]
  },
  {
   "cell_type": "markdown",
   "id": "a8aadbc2-bcce-4eae-99cd-f3bc6cc00fbb",
   "metadata": {},
   "source": [
    "Para modificar Tablas u objetos existentes debemos utilizar el objeto `sessionmaker`\n",
    "Mientras que para crear una nueva tabla o manipularla debemos utilizar el objeto `declarative_base`. Todas las tablas que manipulemos deben heredar de esta clase."
   ]
  },
  {
   "cell_type": "markdown",
   "id": "fa1ac2b8-b705-4b2b-84d6-50d8fc341fcb",
   "metadata": {},
   "source": [
    "La clase `Session` es una parte fundamental de SQLAlchemy que permite a los usuarios interactuar con la base de datos de forma más intuitiva y elegante. \n",
    "La clase `Session` es un objeto que encapsula la conexión a la base de datos y proporciona una interfaz para realizar operaciones **CRUD (Crear, Leer, Actualizar y Eliminar)** en la base de datos."
   ]
  },
  {
   "cell_type": "code",
   "execution_count": 13,
   "id": "f27051f9-0bd2-4d46-8c71-7c8400820ccf",
   "metadata": {},
   "outputs": [
    {
     "name": "stdout",
     "output_type": "stream",
     "text": [
      "Table: students existe \n"
     ]
    },
    {
     "data": {
      "text/plain": [
       "True"
      ]
     },
     "execution_count": 13,
     "metadata": {},
     "output_type": "execute_result"
    }
   ],
   "source": [
    "existe_tabla(nombre_tabla='students')"
   ]
  },
  {
   "cell_type": "markdown",
   "id": "e670dd1c-d517-42fc-888d-b4fe3f826c14",
   "metadata": {},
   "source": [
    "Creemos una tabla utilizando clases de python. Nota que el **keyword** `__tablename__` esta reservado para el nombre de la tabla.\n",
    "Tambien el atributo o **keyword** `id` esta reservado si intentas usarlo como columna que no es **primary_key** encontraras problemas. En nuestro caso `cu` esta definido como el `primary_key`."
   ]
  },
  {
   "cell_type": "code",
   "execution_count": 14,
   "id": "4d84d9b8-42cd-4267-b7ca-23f384b61284",
   "metadata": {},
   "outputs": [],
   "source": [
    "engine = start_engine(echo=False)\n",
    "# Crear una sesion con sessionmaker\n",
    "Session = sessionmaker(bind=engine)\n",
    "session = Session()\n",
    "\n",
    "# define the students table\n",
    "Base = declarative_base()\n",
    "class Student(Base):\n",
    "    __tablename__ = 'students'\n",
    "    cu = Column(Integer, primary_key=True)\n",
    "    nombre = Column(String)\n",
    "    apellido = Column(String)\n",
    "    \n",
    "Base.metadata.create_all(engine)"
   ]
  },
  {
   "cell_type": "code",
   "execution_count": 15,
   "id": "0405ad39-db99-42fb-b480-8a1d56f51a97",
   "metadata": {},
   "outputs": [],
   "source": [
    "def existe_tabla(nombre_tabla:str):\n",
    "    engine = start_engine(echo=False)\n",
    "    inspector = inspect(engine)\n",
    "    schemas = inspector.get_schema_names()\n",
    "\n",
    "    for schema in schemas:\n",
    "        for table_name in inspector.get_table_names(schema=schema):\n",
    "            if nombre_tabla == table_name:\n",
    "                print(f\"Table: {table_name} existe \")  \n",
    "                print(\"Columns:  \")\n",
    "                for column in inspector.get_columns(table_name, schema=schema):\n",
    "                    print(\"Column: %s\" % column)\n",
    "                return True\n",
    "    return False"
   ]
  },
  {
   "cell_type": "code",
   "execution_count": 16,
   "id": "c3657c2d-a6b6-4488-8287-1fc4d8661eb3",
   "metadata": {},
   "outputs": [
    {
     "name": "stdout",
     "output_type": "stream",
     "text": [
      "Table: students existe \n",
      "Columns:  \n",
      "Column: {'name': 'cu', 'type': INTEGER(), 'nullable': False, 'default': 'nextval(\\'\"public\".students_cu_seq\\'::regclass)', 'autoincrement': True, 'comment': None}\n",
      "Column: {'name': 'nombre', 'type': VARCHAR(), 'nullable': True, 'default': None, 'autoincrement': False, 'comment': None}\n",
      "Column: {'name': 'apellido', 'type': VARCHAR(), 'nullable': True, 'default': None, 'autoincrement': False, 'comment': None}\n",
      "Column: {'name': 'grade', 'type': DOUBLE_PRECISION(precision=53), 'nullable': True, 'default': None, 'autoincrement': False, 'comment': None}\n"
     ]
    },
    {
     "data": {
      "text/plain": [
       "True"
      ]
     },
     "execution_count": 16,
     "metadata": {},
     "output_type": "execute_result"
    }
   ],
   "source": [
    "existe_tabla('students')"
   ]
  },
  {
   "cell_type": "markdown",
   "id": "b899b61b-5fd2-4303-aa18-b8a6922d2568",
   "metadata": {},
   "source": [
    "## Ver nombres de columnas"
   ]
  },
  {
   "cell_type": "code",
   "execution_count": 60,
   "id": "c504fa79-01a5-452e-ab54-e8aa8bbe505c",
   "metadata": {},
   "outputs": [
    {
     "name": "stdout",
     "output_type": "stream",
     "text": [
      "['cu', 'nombre', 'apellido', 'grade']\n"
     ]
    }
   ],
   "source": [
    "from sqlalchemy import create_engine, MetaData, Table\n",
    "\n",
    "# create a new engine\n",
    "engine = start_engine(echo=False)\n",
    "\n",
    "# create a metadata object and reflect the existing table\n",
    "metadata = MetaData()\n",
    "students_table = Table('students', metadata, autoload_with=engine)\n",
    "\n",
    "# print the list of column names\n",
    "print(students_table.columns.keys())"
   ]
  },
  {
   "cell_type": "markdown",
   "id": "1dd22d98-66ad-44c6-bf29-c30b8bbfd4c6",
   "metadata": {},
   "source": [
    "## (Error) de Modificacion de Columnas"
   ]
  },
  {
   "cell_type": "markdown",
   "id": "04da99a8-2b0e-44fd-be5c-3fdc62b27eee",
   "metadata": {},
   "source": [
    "Tratemos de agregar la columna `grade` a la tabla"
   ]
  },
  {
   "cell_type": "code",
   "execution_count": 17,
   "id": "9c0f3f20-6c1b-4fee-b9fd-255c8f7238f8",
   "metadata": {},
   "outputs": [],
   "source": [
    "engine = start_engine(echo=False)\n",
    "# Crear una sesion con sessionmaker\n",
    "Session = sessionmaker(bind=engine)\n",
    "session = Session()\n",
    "\n",
    "# define the students table\n",
    "Base = declarative_base()\n",
    "class Student(Base):\n",
    "    __tablename__ = 'students'\n",
    "    cu = Column(Integer, primary_key=True)\n",
    "    nombre = Column(String)\n",
    "    apellido = Column(String)\n",
    "    grade = Column(Float)\n",
    "    \n",
    "Base.metadata.create_all(engine)"
   ]
  },
  {
   "cell_type": "markdown",
   "id": "c6bfb337-f6f3-41ae-9d23-4a9c5b9cdbb2",
   "metadata": {},
   "source": [
    "Observa como no se modifican las columnas."
   ]
  },
  {
   "cell_type": "code",
   "execution_count": 18,
   "id": "3f31fc76-c1de-40a2-bb6e-c1f3b174814d",
   "metadata": {},
   "outputs": [
    {
     "name": "stdout",
     "output_type": "stream",
     "text": [
      "Table: students existe \n",
      "Columns:  \n",
      "Column: {'name': 'cu', 'type': INTEGER(), 'nullable': False, 'default': 'nextval(\\'\"public\".students_cu_seq\\'::regclass)', 'autoincrement': True, 'comment': None}\n",
      "Column: {'name': 'nombre', 'type': VARCHAR(), 'nullable': True, 'default': None, 'autoincrement': False, 'comment': None}\n",
      "Column: {'name': 'apellido', 'type': VARCHAR(), 'nullable': True, 'default': None, 'autoincrement': False, 'comment': None}\n",
      "Column: {'name': 'grade', 'type': DOUBLE_PRECISION(precision=53), 'nullable': True, 'default': None, 'autoincrement': False, 'comment': None}\n"
     ]
    },
    {
     "data": {
      "text/plain": [
       "True"
      ]
     },
     "execution_count": 18,
     "metadata": {},
     "output_type": "execute_result"
    }
   ],
   "source": [
    "existe_tabla('students')"
   ]
  },
  {
   "cell_type": "markdown",
   "id": "51915aed-6f2e-4bc4-8130-343c79c2492a",
   "metadata": {},
   "source": [
    "Volveremos a la modificacion de estas tablas mas adelante."
   ]
  },
  {
   "cell_type": "markdown",
   "id": "a0a59b6f-6ee9-43eb-867c-8d48dfab67a7",
   "metadata": {},
   "source": [
    "# Agregar Datos"
   ]
  },
  {
   "cell_type": "code",
   "execution_count": 19,
   "id": "dfb957a8-4925-4eff-9bda-92cabcdbf12c",
   "metadata": {},
   "outputs": [],
   "source": [
    "from sqlalchemy.orm import sessionmaker\n",
    "from sqlalchemy.orm import declarative_base\n",
    "from sqlalchemy.exc import IntegrityError\n",
    "# Si la base esta definida en otro lado tienen que importarla\n",
    "# from db_def import Student "
   ]
  },
  {
   "cell_type": "code",
   "execution_count": 20,
   "id": "6b48ab14-8a90-4ce3-9623-ff8ddc6b9340",
   "metadata": {},
   "outputs": [],
   "source": [
    "Base = declarative_base()\n",
    "class Student(Base):\n",
    "    __tablename__ = 'students'\n",
    "    cu = Column(Integer, primary_key=True)\n",
    "    nombre = Column(String)\n",
    "    apellido = Column(String)"
   ]
  },
  {
   "cell_type": "code",
   "execution_count": 21,
   "id": "2d220250-bbda-4960-baad-d877ca93bd62",
   "metadata": {},
   "outputs": [
    {
     "name": "stdout",
     "output_type": "stream",
     "text": [
      "IntegrityError: Duplicate key value\n"
     ]
    }
   ],
   "source": [
    "engine = start_engine(echo=False)\n",
    "# Crear una sesion con sessionmaker\n",
    "Session = sessionmaker(bind=engine)\n",
    "session = Session()\n",
    "\n",
    "# Crear una observacion o instancia de Student usando su clase\n",
    "student = Student(cu=1, nombre='Hange', apellido='Zoe')\n",
    "# Agregarla\n",
    "session.add(student)\n",
    "# Commit a la base\n",
    "try:\n",
    "    session.commit()\n",
    "except IntegrityError:\n",
    "    session.rollback()\n",
    "    print('IntegrityError: Duplicate key value')"
   ]
  },
  {
   "cell_type": "markdown",
   "id": "01b71cc2-0d52-4947-8b69-196c1d297443",
   "metadata": {},
   "source": [
    "## Agregar varios datos"
   ]
  },
  {
   "cell_type": "code",
   "execution_count": 22,
   "id": "25d64a34-c07c-4670-b830-f1a0930eb2fd",
   "metadata": {},
   "outputs": [
    {
     "name": "stdout",
     "output_type": "stream",
     "text": [
      "IntegrityError: Duplicate key value\n"
     ]
    }
   ],
   "source": [
    "s2 =  Student(cu=2, nombre = 'Eren', apellido='Yeager')\n",
    "s3 =  Student(cu=3, nombre = 'Armin', apellido='Arlert')\n",
    "\n",
    "\n",
    "# add the students to the session\n",
    "session.add_all([s2, s3])\n",
    "\n",
    "# commit the changes to the database\n",
    "try:\n",
    "    session.commit()\n",
    "except IntegrityError:\n",
    "    session.rollback()\n",
    "    print('IntegrityError: Duplicate key value')"
   ]
  },
  {
   "cell_type": "markdown",
   "id": "3f4467d0-10ca-4693-b439-cdb2d6278791",
   "metadata": {},
   "source": [
    "# Impirmir instancias en la base"
   ]
  },
  {
   "cell_type": "code",
   "execution_count": 23,
   "id": "201a8608-039a-4219-a443-6fd8c4133669",
   "metadata": {},
   "outputs": [
    {
     "name": "stdout",
     "output_type": "stream",
     "text": [
      "{'_sa_instance_state': <sqlalchemy.orm.state.InstanceState object at 0x7feda5c7fd00>, 'cu': 1, 'nombre': 'Hange', 'apellido': 'Zoe'}\n",
      "{'_sa_instance_state': <sqlalchemy.orm.state.InstanceState object at 0x7feda5c7fb80>, 'cu': 2, 'nombre': 'Eren', 'apellido': 'Yeager'}\n",
      "{'_sa_instance_state': <sqlalchemy.orm.state.InstanceState object at 0x7feda5c7fca0>, 'cu': 3, 'nombre': 'Armin', 'apellido': 'Arlert'}\n",
      "{'_sa_instance_state': <sqlalchemy.orm.state.InstanceState object at 0x7feda5c7fb20>, 'cu': 4, 'nombre': 'Mikasa', 'apellido': 'Akerman'}\n"
     ]
    }
   ],
   "source": [
    "engine = start_engine(echo=False)\n",
    "# Crear una sesion con sessionmaker\n",
    "Session = sessionmaker(bind=engine)\n",
    "session = Session()\n",
    "\n",
    "students = session.query(Student).all()\n",
    "\n",
    "for student in students:\n",
    "    print(student.__dict__)"
   ]
  },
  {
   "cell_type": "markdown",
   "id": "185ba685-aadd-4af3-a0c4-52c7f22a3a7b",
   "metadata": {},
   "source": [
    "Print ordenado"
   ]
  },
  {
   "cell_type": "code",
   "execution_count": 24,
   "id": "cff7b7bc-00b3-4b87-b568-5018b3a36cb9",
   "metadata": {},
   "outputs": [
    {
     "name": "stdout",
     "output_type": "stream",
     "text": [
      "{'cu': 1, 'nombre': 'Hange', 'apellido': 'Zoe'}\n",
      "{'cu': 2, 'nombre': 'Eren', 'apellido': 'Yeager'}\n",
      "{'cu': 3, 'nombre': 'Armin', 'apellido': 'Arlert'}\n",
      "{'cu': 4, 'nombre': 'Mikasa', 'apellido': 'Akerman'}\n"
     ]
    }
   ],
   "source": [
    "for student in students:\n",
    "    attrs = {k: v for k, v in student.__dict__.items() if not k.startswith('_')}\n",
    "    print(attrs)"
   ]
  },
  {
   "cell_type": "markdown",
   "id": "87ce5e6c-33e8-48da-a7a0-bada46cfcaf3",
   "metadata": {},
   "source": [
    "Print si conoces las columnas o atributos"
   ]
  },
  {
   "cell_type": "code",
   "execution_count": 25,
   "id": "fb38b088-9a47-4f5e-af5c-869dd82f460c",
   "metadata": {},
   "outputs": [
    {
     "name": "stdout",
     "output_type": "stream",
     "text": [
      "1 Hange Zoe\n",
      "2 Eren Yeager\n",
      "3 Armin Arlert\n",
      "4 Mikasa Akerman\n"
     ]
    }
   ],
   "source": [
    "for student in students:\n",
    "    print(student.cu, student.nombre, student.apellido)  "
   ]
  },
  {
   "cell_type": "markdown",
   "id": "9e4e96df-a993-4ea9-b697-afce44495bc0",
   "metadata": {},
   "source": [
    "Forma alternativa de ver los `rows` o entradas de la Tabla"
   ]
  },
  {
   "cell_type": "markdown",
   "id": "a6ecb49a-a71d-4732-a94d-8c7206f3f491",
   "metadata": {},
   "source": [
    "## Alternativa de imprimir instancias de la tabla"
   ]
  },
  {
   "cell_type": "code",
   "execution_count": 26,
   "id": "348f02f6-bac2-4bdf-9cad-2ceedf251473",
   "metadata": {},
   "outputs": [
    {
     "name": "stdout",
     "output_type": "stream",
     "text": [
      "(1, 'Hange', 'Zoe', None)\n",
      "(2, 'Eren', 'Yeager', None)\n",
      "(3, 'Armin', 'Arlert', None)\n"
     ]
    }
   ],
   "source": [
    "from sqlalchemy import create_engine, MetaData, Table, select\n",
    "\n",
    "# Nuevo engine\n",
    "engine = start_engine(echo=False)\n",
    "\n",
    "# Crear objeto metadata para reflejar la metadata existente en la tabla\n",
    "metadata = MetaData()\n",
    "students_table = Table('students', metadata,  autoload_with=engine)\n",
    "\n",
    "# Seleccionar solo las primeras 3 rows\n",
    "select_stmt = select(students_table).limit(3)\n",
    "\n",
    "# Crear la coneccion y ejecutar el statement\n",
    "conn = engine.connect()\n",
    "result = conn.execute(select_stmt)\n",
    "\n",
    "# print the rows\n",
    "for row in result:\n",
    "    print(row)\n",
    "\n",
    "# close the connection\n",
    "conn.close()"
   ]
  },
  {
   "cell_type": "code",
   "execution_count": 39,
   "id": "6347371a-2446-4f04-8d07-b833ea54023f",
   "metadata": {},
   "outputs": [],
   "source": [
    "from sqlalchemy import create_engine, MetaData, Table, select\n",
    "\n",
    "def glipse_tabla(nombre_tabla:str, obs:int=5, engine=None):\n",
    "\n",
    "    # Nuevo engine\n",
    "    if not engine:\n",
    "        engine = start_engine(echo=False)\n",
    "    # Crear objeto metadata para reflejar la metadata existente en la tabla\n",
    "    metadata = MetaData()\n",
    "    students_table = Table(nombre_tabla, metadata,  autoload_with=engine)\n",
    "    # Seleccionar solo las primeras 3 rows\n",
    "    select_stmt = select(students_table).limit(obs)\n",
    "    # Crear la coneccion y ejecutar el statement\n",
    "    conn = engine.connect()\n",
    "    result = conn.execute(select_stmt)\n",
    "    # print the rows\n",
    "    for row in result:\n",
    "        print(row)\n",
    "    # close the connection\n",
    "    conn.close()"
   ]
  },
  {
   "cell_type": "markdown",
   "id": "afb6ecbb-0911-46b9-8321-ae8b27031668",
   "metadata": {},
   "source": [
    "# Agregar columna correctamente"
   ]
  },
  {
   "cell_type": "markdown",
   "id": "12937197-174e-4f03-885d-fc7e824fc841",
   "metadata": {},
   "source": [
    "SQLalchemy no esta pensado para alterar directamente las tablas: https://docs.sqlalchemy.org/en/20/core/metadata.html"
   ]
  },
  {
   "attachments": {
    "74a3f566-074f-4b7d-8c9a-db79a185376e.png": {
     "image/png": "[encoded data removed]"
    }
   },
   "cell_type": "markdown",
   "id": "1f61be11-ef20-46fa-a333-258f26ceaa3e",
   "metadata": {},
   "source": [
    "![image.png](attachment:74a3f566-074f-4b7d-8c9a-db79a185376e.png)"
   ]
  },
  {
   "cell_type": "markdown",
   "id": "efb04f81-e97a-4180-87f5-1322ed3aed32",
   "metadata": {},
   "source": [
    "Podemos hacerlo utilizando Alembic o utilizando queries de SQL"
   ]
  },
  {
   "cell_type": "markdown",
   "id": "4d33c160-1204-481c-b49c-4da6f576eb7b",
   "metadata": {},
   "source": [
    "**Proyecto 3**: Replicar este proceso utilizando Alembic"
   ]
  },
  {
   "cell_type": "code",
   "execution_count": 27,
   "id": "adb7e65b-8f2c-441f-b056-e990ceb24784",
   "metadata": {},
   "outputs": [],
   "source": [
    "from sqlalchemy import create_engine, Column, Integer, String, Float, text\n",
    "from sqlalchemy.orm import sessionmaker\n",
    "from sqlalchemy.orm import declarative_base"
   ]
  },
  {
   "cell_type": "code",
   "execution_count": 31,
   "id": "e4583230-060a-4863-88df-8874769d5c98",
   "metadata": {},
   "outputs": [],
   "source": [
    "\n",
    "engine = start_engine(echo=False)\n",
    "Session = sessionmaker(bind=engine)\n",
    "session = Session()\n",
    "\n",
    "Base = declarative_base()\n",
    "\n",
    "class Student(Base):\n",
    "    __tablename__ = 'students'\n",
    "    cu = Column(Integer, primary_key=True)\n",
    "    nombre = Column(String)\n",
    "    apellido = Column(String)\n",
    "    grade = Column(Float)\n",
    "if False:\n",
    "    # Ejecuta una sentencia ALTER TABLE para agregar la columna grade\n",
    "    session.execute(text('ALTER TABLE students ADD COLUMN grade FLOAT;'))\n",
    "    session.commit()\n",
    "\n"
   ]
  },
  {
   "cell_type": "code",
   "execution_count": 32,
   "id": "0c26dd83-34d5-44df-9bdc-e3d82fe54a3a",
   "metadata": {},
   "outputs": [
    {
     "name": "stdout",
     "output_type": "stream",
     "text": [
      "IntegrityError: Duplicate key value\n"
     ]
    }
   ],
   "source": [
    "s2 =  Student(cu=4, nombre = 'Mikasa', apellido='Akerman', grade=9.0)\n",
    "\n",
    "# add the students to the session\n",
    "session.add_all([s2])\n",
    "\n",
    "# commit the changes to the database\n",
    "try:\n",
    "    session.commit()\n",
    "except IntegrityError:\n",
    "    session.rollback()\n",
    "    print('IntegrityError: Duplicate key value')"
   ]
  },
  {
   "cell_type": "code",
   "execution_count": 40,
   "id": "a1728e9b-ded7-4434-9e53-9a6534f30eb7",
   "metadata": {},
   "outputs": [
    {
     "name": "stdout",
     "output_type": "stream",
     "text": [
      "(1, 'Hange', 'Zoe', None)\n",
      "(2, 'Eren', 'Yeager', None)\n",
      "(3, 'Armin', 'Arlert', None)\n",
      "(4, 'Mikasa', 'Akerman', 9.0)\n"
     ]
    }
   ],
   "source": [
    "glipse_tabla('students')"
   ]
  },
  {
   "cell_type": "markdown",
   "id": "a7600428-e934-4bda-b697-6024c29aa6cf",
   "metadata": {},
   "source": [
    "Que pasa si intentamos hacer una transaccion que nos dara error? Se hara completa o parcial?"
   ]
  },
  {
   "cell_type": "code",
   "execution_count": 34,
   "id": "ab5dfaa2-f676-4b25-9bcd-306b80d10dda",
   "metadata": {},
   "outputs": [
    {
     "name": "stdout",
     "output_type": "stream",
     "text": [
      "IntegrityError: Duplicate key value\n"
     ]
    }
   ],
   "source": [
    "s2 =  Student(cu=4, nombre = 'Mikasa', apellido='Akerman', grade=9.0)\n",
    "s3 =  Student(cu=5, nombre = 'Erwin', apellido='Danchou', grade=10.0)\n",
    "\n",
    "# add the students to the session\n",
    "session.add_all([s2])\n",
    "\n",
    "# commit the changes to the database\n",
    "try:\n",
    "    session.commit()\n",
    "except IntegrityError:\n",
    "    session.rollback()\n",
    "    print('IntegrityError: Duplicate key value')"
   ]
  },
  {
   "cell_type": "code",
   "execution_count": 42,
   "id": "f65aae7d-6dc4-43b8-bc15-1afedbec827d",
   "metadata": {},
   "outputs": [
    {
     "name": "stdout",
     "output_type": "stream",
     "text": [
      "(1, 'Hange', 'Zoe', None)\n",
      "(2, 'Eren', 'Yeager', None)\n",
      "(3, 'Armin', 'Arlert', None)\n",
      "(4, 'Mikasa', 'Akerman', 9.0)\n"
     ]
    }
   ],
   "source": [
    "glipse_tabla('students')"
   ]
  },
  {
   "cell_type": "markdown",
   "id": "cffd1d0c-0042-462b-846e-f67777a77265",
   "metadata": {},
   "source": [
    "Al reves? "
   ]
  },
  {
   "cell_type": "code",
   "execution_count": 43,
   "id": "1d757b1e-8854-4451-817e-deddd85d69b1",
   "metadata": {},
   "outputs": [
    {
     "name": "stdout",
     "output_type": "stream",
     "text": [
      "IntegrityError: Duplicate key value\n"
     ]
    }
   ],
   "source": [
    "s3 =  Student(cu=5, nombre = 'Erwin', apellido='Danchou', grade=10.0)\n",
    "s2 =  Student(cu=4, nombre = 'Mikasa', apellido='Akerman', grade=9.0)\n",
    "\n",
    "# add the students to the session\n",
    "session.add_all([s2])\n",
    "\n",
    "# commit the changes to the database\n",
    "try:\n",
    "    session.commit()\n",
    "except IntegrityError:\n",
    "    session.rollback()\n",
    "    print('IntegrityError: Duplicate key value')"
   ]
  },
  {
   "cell_type": "code",
   "execution_count": 50,
   "id": "1fa0ac6c-a06f-4e47-a2d4-ac58c9169c95",
   "metadata": {},
   "outputs": [
    {
     "name": "stdout",
     "output_type": "stream",
     "text": [
      "(1, 'Hange', 'Zoe', None)\n",
      "(2, 'Eren', 'Yeager', None)\n",
      "(3, 'Armin', 'Arlert', None)\n",
      "(4, 'Mikasa', 'Akerman', 9.0)\n"
     ]
    }
   ],
   "source": [
    "glipse_tabla('students')"
   ]
  },
  {
   "cell_type": "markdown",
   "id": "cfd6ad41-842e-48fa-b6fa-f383fab87d29",
   "metadata": {},
   "source": [
    "Este estilo de transacciones son atomicas, en el sentido que o se ejecutan todas de manera exitosa o se ejecuta ninguna. Deben tratar de que sus flujos de datos sea atomicos en la medida de lo posible."
   ]
  },
  {
   "cell_type": "code",
   "execution_count": 46,
   "id": "eaf562e5-c947-47df-9b42-487b008501c7",
   "metadata": {},
   "outputs": [],
   "source": [
    "from typing import Union, List"
   ]
  },
  {
   "cell_type": "markdown",
   "id": "f51f4056-2aea-4532-b764-c339c1bec2c5",
   "metadata": {},
   "source": [
    "Crearemos una funcion para agregar estudiantes a la tabla `Students`, sin embargo no pasaremos el la `session` ni el `engine`. Pero, usaremos el que ya existe en el notebook lo cual es mala practica. Tambien pasar constantemente  estos objetos puede volverse complicado. \n",
    "\n",
    "Como parte del **proyecto 3** deberan crear un objeto que contenga estas funcionalidades."
   ]
  },
  {
   "cell_type": "code",
   "execution_count": 49,
   "id": "5916d220-b85c-4337-b1b9-31bace6d8937",
   "metadata": {},
   "outputs": [],
   "source": [
    "def agregar_estudiantes(s:Union[Student, List[Student]]):\n",
    "    # add the students to the session\n",
    "    if not isinstance(s, list):\n",
    "        s = [s]\n",
    "    session.add_all(s)\n",
    "    # commit the changes to the database\n",
    "    try:\n",
    "        session.commit()\n",
    "    except IntegrityError:\n",
    "        session.rollback()\n",
    "        print('IntegrityError: Duplicate key value')"
   ]
  },
  {
   "cell_type": "code",
   "execution_count": 51,
   "id": "5f92349b-8c90-409b-95e3-61c53f1e4a2a",
   "metadata": {},
   "outputs": [],
   "source": [
    "#s =  Student(cu=5, nombre = 'Erwin', apellido='Danchou', grade=10.0)\n",
    "#agregar_estudiantes(s)"
   ]
  },
  {
   "cell_type": "code",
   "execution_count": 52,
   "id": "7324be27-e72a-4c9a-9931-a59065bd6b3e",
   "metadata": {},
   "outputs": [
    {
     "name": "stdout",
     "output_type": "stream",
     "text": [
      "(1, 'Hange', 'Zoe', None)\n",
      "(2, 'Eren', 'Yeager', None)\n",
      "(3, 'Armin', 'Arlert', None)\n",
      "(4, 'Mikasa', 'Akerman', 9.0)\n"
     ]
    }
   ],
   "source": [
    "glipse_tabla('students')"
   ]
  },
  {
   "cell_type": "markdown",
   "id": "9f4a0922-2931-45b0-b532-44c37dc985c7",
   "metadata": {},
   "source": [
    "Observa que pasa con las observaciones que no tienen ese campo, se convierten en `None`"
   ]
  },
  {
   "cell_type": "markdown",
   "id": "9e631799-cfa0-424d-a88d-9e803a8b8cd1",
   "metadata": {},
   "source": [
    "Este nuevo objeto/tabla modificado debe permanecer en nuestro codigo para futuras manipulaciones, pues define a nuestra base. En general es buena practica mantener estas tablas/objetos en scripts separados, e importarlas a los scripts."
   ]
  },
  {
   "cell_type": "markdown",
   "id": "59453025-f0ee-474b-8273-9a7e8452a362",
   "metadata": {},
   "source": [
    "# Consultar registro Especifico"
   ]
  },
  {
   "cell_type": "code",
   "execution_count": 63,
   "id": "f8f58fa4-9372-4812-b8a2-00315b2d2cea",
   "metadata": {},
   "outputs": [],
   "source": [
    "def create_session(echo:bool=False):\n",
    "    engine = start_engine(echo=echo)\n",
    "    Session = sessionmaker(bind=engine)\n",
    "    session = Session()\n",
    "    \n",
    "    return session"
   ]
  },
  {
   "cell_type": "code",
   "execution_count": 64,
   "id": "eaa34cfb-da8e-450f-a751-caa0e20659de",
   "metadata": {},
   "outputs": [
    {
     "name": "stdout",
     "output_type": "stream",
     "text": [
      "CU: 1, Nombre: Hange, Apellido: Zoe, Grade: None\n"
     ]
    }
   ],
   "source": [
    "# Crea una instancia de sesión\n",
    "session = create_session()\n",
    "\n",
    "# Consulta el estudiante con CU igual a 1\n",
    "student = session.query(Student).filter_by(cu=1).first()\n",
    "\n",
    "# Imprime el estudiante\n",
    "print(f\"CU: {student.cu}, Nombre: {student.nombre}, Apellido: {student.apellido}, Grade: {student.grade}\")\n",
    "\n",
    "# Cierra la sesión\n",
    "session.close()"
   ]
  },
  {
   "cell_type": "markdown",
   "id": "74b41515-86f1-49ce-9cf7-05b57ee1c117",
   "metadata": {},
   "source": [
    "# Modificar campo especifico"
   ]
  },
  {
   "cell_type": "code",
   "execution_count": 65,
   "id": "d83e58b2-fac6-462c-a338-c8ca03474127",
   "metadata": {},
   "outputs": [],
   "source": [
    "# Crea una instancia de sesión\n",
    "session = create_session()\n",
    "# Consulta el estudiante con CU igual a 1\n",
    "student = session.query(Student).filter_by(cu=1).first()\n",
    "\n",
    "# Actualiza el grade del estudiante\n",
    "student.grade = 11.0\n",
    "\n",
    "# Guarda los cambios en la base de datos\n",
    "session.commit()\n",
    "\n",
    "# Cierra la sesión\n",
    "session.close()\n"
   ]
  },
  {
   "cell_type": "code",
   "execution_count": 66,
   "id": "01e62368-c178-4063-a3df-803652c373ff",
   "metadata": {},
   "outputs": [
    {
     "name": "stdout",
     "output_type": "stream",
     "text": [
      "(2, 'Eren', 'Yeager', None)\n",
      "(3, 'Armin', 'Arlert', None)\n",
      "(4, 'Mikasa', 'Akerman', 9.0)\n",
      "(1, 'Hange', 'Zoe', 11.0)\n"
     ]
    }
   ],
   "source": [
    "glipse_tabla('students')"
   ]
  },
  {
   "cell_type": "markdown",
   "id": "ac9323c7-4af8-439a-9350-d378eddf4c71",
   "metadata": {},
   "source": [
    "# Eliminar Observaciones"
   ]
  },
  {
   "cell_type": "code",
   "execution_count": 59,
   "id": "e7db3c0b-e255-48a8-8a05-ed2f1c6024dd",
   "metadata": {},
   "outputs": [
    {
     "name": "stdout",
     "output_type": "stream",
     "text": [
      "NoResultFound: No existe esa entrada\n"
     ]
    }
   ],
   "source": [
    "from sqlalchemy.orm.exc import NoResultFound\n",
    "session = create_session()\n",
    "try:\n",
    "    cu_a_eliminar = 5 # reemplazar por el valor de 'cu' a eliminar\n",
    "    student_a_eliminar = session.query(Student).filter(Student.cu == 5).one()\n",
    "    session.delete(student_a_eliminar)\n",
    "    session.commit()\n",
    "except NoResultFound:\n",
    "    session.rollback()\n",
    "    print('NoResultFound: No existe esa entrada')"
   ]
  },
  {
   "cell_type": "markdown",
   "id": "c03acbd1-e8a8-4a16-be53-6f8a53e8b1c2",
   "metadata": {},
   "source": [
    "# Consultar por orden"
   ]
  },
  {
   "cell_type": "code",
   "execution_count": 67,
   "id": "54ea8365-fc99-4a67-a4dd-c5141090e358",
   "metadata": {},
   "outputs": [
    {
     "name": "stdout",
     "output_type": "stream",
     "text": [
      "CU: 4, Nombre: Mikasa, Apellido: Akerman, Grade: 9.0\n",
      "CU: 3, Nombre: Armin, Apellido: Arlert, Grade: None\n",
      "CU: 2, Nombre: Eren, Apellido: Yeager, Grade: None\n",
      "CU: 1, Nombre: Hange, Apellido: Zoe, Grade: 11.0\n"
     ]
    }
   ],
   "source": [
    "# Crea una instancia de sesión\n",
    "session = create_session()\n",
    "# Consulta todos los estudiantes ordenados por apellido\n",
    "students = session.query(Student).order_by(Student.apellido).all()\n",
    "\n",
    "# Imprime los estudiantes\n",
    "for student in students:\n",
    "    print(f\"CU: {student.cu}, Nombre: {student.nombre}, Apellido: {student.apellido}, Grade: {student.grade}\")\n",
    "\n",
    "# Cierra la sesión\n",
    "session.close()"
   ]
  },
  {
   "cell_type": "markdown",
   "id": "4705c4e9-39a9-46c2-9db9-292ddc7b9af2",
   "metadata": {},
   "source": [
    "# Consultar por condicionales"
   ]
  },
  {
   "cell_type": "markdown",
   "id": "2f7fb2ca-f458-4f07-82fa-de975833a867",
   "metadata": {},
   "source": [
    "Nota como el valor `None` no es comparable con otros numeros"
   ]
  },
  {
   "cell_type": "code",
   "execution_count": 69,
   "id": "986182a9-be84-43bc-b1e6-2679087ea5ab",
   "metadata": {},
   "outputs": [
    {
     "name": "stdout",
     "output_type": "stream",
     "text": [
      "CU: 4, Nombre: Mikasa, Apellido: Akerman, Grade: 9.0\n",
      "CU: 1, Nombre: Hange, Apellido: Zoe, Grade: 11.0\n"
     ]
    }
   ],
   "source": [
    "# Crea una instancia de sesión\n",
    "session = create_session()\n",
    "\n",
    "# Consulta los estudiantes con grade mayor a 4.5\n",
    "students = session.query(Student).filter(Student.grade > 4.5).all()\n",
    "\n",
    "# Imprime los estudiantes\n",
    "for student in students:\n",
    "    print(f\"CU: {student.cu}, Nombre: {student.nombre}, Apellido: {student.apellido}, Grade: {student.grade}\")\n",
    "\n",
    "# Cierra la sesión\n",
    "session.close()"
   ]
  },
  {
   "cell_type": "markdown",
   "id": "ddf0e4ea-263a-488c-ba27-2d31ec37582b",
   "metadata": {},
   "source": [
    "## Encadenar Condicionales"
   ]
  },
  {
   "cell_type": "code",
   "execution_count": 88,
   "id": "2eb59cca-e85f-49e1-a1bc-bc1ea420e081",
   "metadata": {},
   "outputs": [
    {
     "name": "stdout",
     "output_type": "stream",
     "text": [
      "Nombre: Mikasa, Apellido: Akerman, Grade: 10.0\n",
      "Nombre: Levi, Apellido: Akerman, Grade: 11.0\n"
     ]
    }
   ],
   "source": [
    "# Crea una instancia de sesión\n",
    "session = create_session()\n",
    "\n",
    "# Recupera los estudiantes con grade mayor a 5.0 y nombre igual a \"Juan\"\n",
    "students = session.query(Student).filter(Student.grade > 5.0).filter(Student.apellido == \"Akerman\").all()\n",
    "\n",
    "# Imprime los estudiantes\n",
    "for student in students:\n",
    "    print(f\"Nombre: {student.nombre}, Apellido: {student.apellido}, Grade: {student.grade}\")\n",
    "\n",
    "# Cierra la sesión\n",
    "session.close()\n"
   ]
  },
  {
   "cell_type": "code",
   "execution_count": 93,
   "id": "0eb5f721-eaa3-4099-b628-6db276095f33",
   "metadata": {},
   "outputs": [
    {
     "name": "stdout",
     "output_type": "stream",
     "text": [
      "Nombre: Hange, Apellido: Zoe, Grade: 12.0\n",
      "Nombre: Mikasa, Apellido: Akerman, Grade: 10.0\n",
      "Nombre: Levi, Apellido: Akerman, Grade: 11.0\n"
     ]
    }
   ],
   "source": [
    "from sqlalchemy import or_\n",
    "# Crea una instancia de sesión\n",
    "session = create_session()\n",
    "\n",
    "# Recupera los estudiantes con grade mayor a 5.0 o apellido igual a \"Pérez\"\n",
    "students = session.query(Student).filter(or_(Student.grade > 7.0, Student.nombre == \"Hange\")).all()\n",
    "\n",
    "# Imprime los estudiantes\n",
    "for student in students:\n",
    "    print(f\"Nombre: {student.nombre}, Apellido: {student.apellido}, Grade: {student.grade}\")\n",
    "\n",
    "# Cierra la sesión\n",
    "session.close()\n"
   ]
  },
  {
   "cell_type": "code",
   "execution_count": 94,
   "id": "9d897093-dde6-426f-9785-c48573f5a4a5",
   "metadata": {},
   "outputs": [
    {
     "name": "stdout",
     "output_type": "stream",
     "text": [
      "Nombre: Eren, Apellido: Yeager, Grade: None\n",
      "Nombre: Armin, Apellido: Arlert, Grade: None\n",
      "Nombre: Mikasa, Apellido: Akerman, Grade: 10.0\n",
      "Nombre: Levi, Apellido: Akerman, Grade: 11.0\n"
     ]
    }
   ],
   "source": [
    "from sqlalchemy import or_, and_\n",
    "# Crea una instancia de sesión\n",
    "session = create_session()\n",
    "\n",
    "# Recupera los estudiantes con grade mayor a 5.0 o apellido igual a \"Pérez\"\n",
    "students = session.query(Student).filter(or_(Student.apellido == 'Akerman', and_(Student.grade == None, Student.apellido != None))).all()\n",
    "\n",
    "# Imprime los estudiantes\n",
    "for student in students:\n",
    "    print(f\"Nombre: {student.nombre}, Apellido: {student.apellido}, Grade: {student.grade}\")\n",
    "\n",
    "# Cierra la sesión\n",
    "session.close()\n"
   ]
  },
  {
   "cell_type": "markdown",
   "id": "11411aca-0d9c-48b7-a843-97ee8f7a90e7",
   "metadata": {},
   "source": [
    "# Group by"
   ]
  },
  {
   "cell_type": "code",
   "execution_count": 70,
   "id": "baf83c65-5fac-4405-83a7-36888ef9a5ed",
   "metadata": {},
   "outputs": [],
   "source": [
    "s =  Student(cu=5, nombre = 'Levi', apellido='Akerman', grade=10.0)\n",
    "agregar_estudiantes(s)"
   ]
  },
  {
   "cell_type": "code",
   "execution_count": 81,
   "id": "42f768c6-845d-49e2-bfa3-45f87beb515c",
   "metadata": {},
   "outputs": [
    {
     "name": "stdout",
     "output_type": "stream",
     "text": [
      "Grade None: 2 estudiantes\n",
      "Grade 10.0: 1 estudiantes\n",
      "Grade 11.0: 1 estudiantes\n",
      "Grade 9.0: 1 estudiantes\n"
     ]
    }
   ],
   "source": [
    "from sqlalchemy import func\n",
    "# Crea una instancia de sesión\n",
    "session = create_session()\n",
    "\n",
    "# Consulta la cantidad de estudiantes por grade\n",
    "result = session.query(Student.grade, func.count(Student.cu)).group_by(Student.grade).all()\n",
    "\n",
    "# Imprime la cantidad de estudiantes por grade\n",
    "for grade, count in result:\n",
    "    print(f\"Grade {grade}: {count} estudiantes\")\n",
    "\n",
    "# Cierra la sesión\n",
    "session.close()"
   ]
  },
  {
   "cell_type": "code",
   "execution_count": 86,
   "id": "9670ca89-82a6-4c8a-9053-ed5c61172605",
   "metadata": {},
   "outputs": [
    {
     "name": "stdout",
     "output_type": "stream",
     "text": [
      "Apellido Akerman: 2 estudiantes\n",
      "Apellido Yeager: 1 estudiantes\n",
      "Apellido Arlert: 1 estudiantes\n",
      "Apellido Zoe: 1 estudiantes\n"
     ]
    }
   ],
   "source": [
    "from sqlalchemy import func\n",
    "# Crea una instancia de sesión\n",
    "session = create_session()\n",
    "\n",
    "# Consulta la cantidad de estudiantes por grade\n",
    "result = session.query(Student.apellido, func.count(Student.cu)).group_by(Student.apellido).all()\n",
    "\n",
    "# Imprime la cantidad de estudiantes por grade\n",
    "for apellido, count in result:\n",
    "    print(f\"Apellido {apellido}: {count} estudiantes\")\n",
    "\n",
    "# Cierra la sesión\n",
    "session.close()"
   ]
  },
  {
   "cell_type": "markdown",
   "id": "a392a955-71ac-48b9-94b0-ee71139ad78d",
   "metadata": {},
   "source": [
    "# Modificar una columna dado un criterio"
   ]
  },
  {
   "cell_type": "code",
   "execution_count": 87,
   "id": "499446fc-b160-44de-abd8-138f096f87ca",
   "metadata": {},
   "outputs": [
    {
     "name": "stdout",
     "output_type": "stream",
     "text": [
      "(2, 'Eren', 'Yeager', None)\n",
      "(3, 'Armin', 'Arlert', None)\n",
      "(1, 'Hange', 'Zoe', 12.0)\n",
      "(4, 'Mikasa', 'Akerman', 10.0)\n",
      "(5, 'Levi', 'Akerman', 11.0)\n"
     ]
    }
   ],
   "source": [
    "# Crea una instancia de sesión\n",
    "session = create_session()\n",
    "\n",
    "# Recupera los estudiantes con grade mayor a 5.0\n",
    "students = session.query(Student).filter(Student.grade > 5.0).all()\n",
    "\n",
    "# Actualiza el grade de cada estudiante\n",
    "for student in students:\n",
    "    student.grade = student.grade + 1.0\n",
    "\n",
    "# Confirma los cambios\n",
    "session.commit()\n",
    "\n",
    "# Cierra la sesión\n",
    "session.close()\n",
    "glipse_tabla('students')"
   ]
  },
  {
   "cell_type": "code",
   "execution_count": null,
   "id": "ce643dbd-1891-4de5-b998-266a29d98cee",
   "metadata": {},
   "outputs": [],
   "source": [
    "# # Crea una instancia de sesión\n",
    "# session = create_session()\n",
    "\n",
    "# # Recupera los estudiantes con grade mayor a 5.0\n",
    "# students = session.query(Student).filter(Student.grade == None).all()\n",
    "\n",
    "# # Actualiza el grade de cada estudiante\n",
    "# for student in students:\n",
    "#     student.grade = 0.0\n",
    "\n",
    "# # Confirma los cambios\n",
    "# session.commit()\n",
    "\n",
    "# # Cierra la sesión\n",
    "# session.close()\n",
    "# glipse_tabla('students')"
   ]
  },
  {
   "cell_type": "markdown",
   "id": "a5ac2f4b-a886-4c3f-9954-65748a75c284",
   "metadata": {},
   "source": [
    "# Copiar tabla"
   ]
  },
  {
   "cell_type": "code",
   "execution_count": 96,
   "id": "ad138e7b-a827-4125-b907-50386eff4bfa",
   "metadata": {},
   "outputs": [],
   "source": [
    "from sqlalchemy import Column, Float, Integer, String, create_engine\n",
    "from sqlalchemy.orm import declarative_base\n",
    "\n",
    "# Crea una instancia de motor de base de datos\n",
    "engine = start_engine(False)\n",
    "\n",
    "# Define la clase base para las tablas\n",
    "Base = declarative_base()\n",
    "\n",
    "# Define la clase de la tabla nueva \"students_copy\"\n",
    "class StudentCopy(Base):\n",
    "    __tablename__ = \"students_copy\"\n",
    "    cu = Column(Integer, primary_key=True)\n",
    "    nombre = Column(String)\n",
    "    apellido = Column(String)\n",
    "    grade2 = Column(Float)\n",
    "\n",
    "# Crea las tablas en la base de datos\n",
    "Base.metadata.create_all(engine)\n"
   ]
  },
  {
   "cell_type": "code",
   "execution_count": 98,
   "id": "4ec233e9-0465-4024-97b7-8398162e422e",
   "metadata": {},
   "outputs": [],
   "source": [
    "# Inserta los resultados en la tabla nueva\n",
    "for student in students:\n",
    "    student_copy = StudentCopy(\n",
    "        cu=student.cu,\n",
    "        nombre=student.nombre,\n",
    "        apellido=student.apellido,\n",
    "        grade2=student.grade\n",
    "    )\n",
    "    session.add(student_copy)\n",
    "\n",
    "# Confirma los cambios en la base de datos\n",
    "session.commit()\n",
    "\n",
    "# Cierra la sesión de base de datos\n",
    "session.close()\n"
   ]
  },
  {
   "cell_type": "code",
   "execution_count": 99,
   "id": "be821e99-cda7-42dd-be57-875e049a1a61",
   "metadata": {},
   "outputs": [
    {
     "name": "stdout",
     "output_type": "stream",
     "text": [
      "(2, 'Eren', 'Yeager', None)\n",
      "(3, 'Armin', 'Arlert', None)\n",
      "(4, 'Mikasa', 'Akerman', 10.0)\n",
      "(5, 'Levi', 'Akerman', 11.0)\n"
     ]
    }
   ],
   "source": [
    "glipse_tabla('students_copy')"
   ]
  }
 ],
 "metadata": {
  "kernelspec": {
   "display_name": "Python 3 (ipykernel)",
   "language": "python",
   "name": "python3"
  },
  "language_info": {
   "codemirror_mode": {
    "name": "ipython",
    "version": 3
   },
   "file_extension": ".py",
   "mimetype": "text/x-python",
   "name": "python",
   "nbconvert_exporter": "python",
   "pygments_lexer": "ipython3",
   "version": "3.10.9"
  }
 },
 "nbformat": 4,
 "nbformat_minor": 5
}
