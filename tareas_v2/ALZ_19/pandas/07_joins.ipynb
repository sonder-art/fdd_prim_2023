{
 "cells": [
  {
   "cell_type": "code",
   "execution_count": 2,
   "metadata": {},
   "outputs": [],
   "source": [
    "import pandas as pd\n",
    "import numpy as np\n"
   ]
  },
  {
   "attachments": {},
   "cell_type": "markdown",
   "metadata": {},
   "source": [
    "En este ejemplo, estamos creando dos DataFrames (df1 y df2) con datos similares a tablas de SQL. El DataFrame df1 tiene cuatro filas y dos columnas (key y value), mientras que el DataFrame df2 tiene cuatro filas y dos columnas (key y value)."
   ]
  },
  {
   "cell_type": "code",
   "execution_count": 3,
   "metadata": {},
   "outputs": [
    {
     "name": "stdout",
     "output_type": "stream",
     "text": [
      "df1:\n",
      "  key  value\n",
      "0   A      1\n",
      "1   B      2\n",
      "2   C      3\n",
      "3   D      4\n",
      "df2:\n",
      "  key  value\n",
      "0   B      5\n",
      "1   D      6\n",
      "2   E      7\n",
      "3   F      8\n"
     ]
    }
   ],
   "source": [
    "# Crear dos DataFrames con datos similares a tablas de SQL\n",
    "df1 = pd.DataFrame({\n",
    "    'key': ['A', 'B', 'C', 'D'],\n",
    "    'value': [1, 2, 3, 4]\n",
    "})\n",
    "\n",
    "df2 = pd.DataFrame({\n",
    "    'key': ['B', 'D', 'E', 'F'],\n",
    "    'value': [5, 6, 7, 8]\n",
    "})\n",
    "\n",
    "# Mostrar los dos DataFrames\n",
    "print('df1:')\n",
    "print(df1)\n",
    "print('df2:')\n",
    "print(df2)\n"
   ]
  },
  {
   "attachments": {},
   "cell_type": "markdown",
   "metadata": {},
   "source": [
    "Inner join: se obtienen solamente las filas que tienen una clave común en ambos DataFrames."
   ]
  },
  {
   "cell_type": "code",
   "execution_count": 4,
   "metadata": {},
   "outputs": [
    {
     "name": "stdout",
     "output_type": "stream",
     "text": [
      "Inner Join:\n",
      "  key  value_x  value_y\n",
      "0   B        2        5\n",
      "1   D        4        6\n"
     ]
    }
   ],
   "source": [
    "# Realizar un inner join\n",
    "inner_join = pd.merge(df1, df2, on='key', how='inner')\n",
    "print('Inner Join:')\n",
    "print(inner_join)"
   ]
  },
  {
   "cell_type": "markdown",
   "metadata": {},
   "source": [
    "Left join: se obtienen todas las filas del DataFrame izquierdo (df1) y las filas del DataFrame derecho (df2) que tienen una clave común."
   ]
  },
  {
   "cell_type": "code",
   "execution_count": 5,
   "metadata": {},
   "outputs": [
    {
     "name": "stdout",
     "output_type": "stream",
     "text": [
      "Left Join:\n",
      "  key  value_x  value_y\n",
      "0   A        1      NaN\n",
      "1   B        2      5.0\n",
      "2   C        3      NaN\n",
      "3   D        4      6.0\n"
     ]
    }
   ],
   "source": [
    "# Realizar un left join\n",
    "left_join = pd.merge(df1, df2, on='key', how='left')\n",
    "print('Left Join:')\n",
    "print(left_join)"
   ]
  },
  {
   "attachments": {},
   "cell_type": "markdown",
   "metadata": {},
   "source": [
    "Right join: se obtienen todas las filas del DataFrame derecho (df2) y las filas del DataFrame izquierdo (df1) que tienen una clave común."
   ]
  },
  {
   "cell_type": "code",
   "execution_count": 6,
   "metadata": {},
   "outputs": [
    {
     "name": "stdout",
     "output_type": "stream",
     "text": [
      "Right Join:\n",
      "  key  value_x  value_y\n",
      "0   B      2.0        5\n",
      "1   D      4.0        6\n",
      "2   E      NaN        7\n",
      "3   F      NaN        8\n"
     ]
    }
   ],
   "source": [
    "# Realizar un right join\n",
    "right_join = pd.merge(df1, df2, on='key', how='right')\n",
    "print('Right Join:')\n",
    "print(right_join)"
   ]
  },
  {
   "attachments": {},
   "cell_type": "markdown",
   "metadata": {},
   "source": [
    "Outer join: se obtienen todas las filas de ambos DataFrames, y se rellenan los valores faltantes con NaN si una fila no tiene una clave común en el otro DataFrame."
   ]
  },
  {
   "cell_type": "code",
   "execution_count": 7,
   "metadata": {},
   "outputs": [
    {
     "name": "stdout",
     "output_type": "stream",
     "text": [
      "Outer Join:\n",
      "  key  value_x  value_y\n",
      "0   A      1.0      NaN\n",
      "1   B      2.0      5.0\n",
      "2   C      3.0      NaN\n",
      "3   D      4.0      6.0\n",
      "4   E      NaN      7.0\n",
      "5   F      NaN      8.0\n"
     ]
    }
   ],
   "source": [
    "# Realizar un outer join\n",
    "outer_join = pd.merge(df1, df2, on='key', how='outer')\n",
    "print('Outer Join:')\n",
    "print(outer_join)"
   ]
  },
  {
   "attachments": {},
   "cell_type": "markdown",
   "metadata": {},
   "source": [
    "Merge join: utilizamos el método merge() de Pandas para realizar un join en lugar de la función pd.merge()"
   ]
  },
  {
   "cell_type": "code",
   "execution_count": 8,
   "metadata": {},
   "outputs": [
    {
     "name": "stdout",
     "output_type": "stream",
     "text": [
      "Merge Join:\n",
      "  key  value_x  value_y\n",
      "0   A      1.0      NaN\n",
      "1   B      2.0      5.0\n",
      "2   C      3.0      NaN\n",
      "3   D      4.0      6.0\n",
      "4   E      NaN      7.0\n",
      "5   F      NaN      8.0\n"
     ]
    }
   ],
   "source": [
    "# Utilizar el método merge para realizar un join\n",
    "merge_join = df1.merge(df2, on='key', how='outer')\n",
    "print('Merge Join:')\n",
    "print(merge_join)"
   ]
  },
  {
   "attachments": {},
   "cell_type": "markdown",
   "metadata": {},
   "source": [
    "# Varios Datasets"
   ]
  },
  {
   "attachments": {},
   "cell_type": "markdown",
   "metadata": {},
   "source": [
    "En este ejemplo, estamos creando tres DataFrames (df1, df2 y df3) con datos similares a tablas de SQL. Cada DataFrame tiene una columna de clave (key1, key2 y key3) y una columna de valor (value1, value2 y value3).\n",
    "\n",
    "Luego, estamos realizando un inner join en las columnas key1, key2 y key3 de cada DataFrame utilizando la función pd.merge() tres veces y encadenando las operaciones de join. En cada llamada a pd.merge(), especificamos las columnas de clave utilizando los parámetros left_on y right_on, y el tipo de join utilizando el parámetro how."
   ]
  },
  {
   "cell_type": "code",
   "execution_count": 9,
   "metadata": {},
   "outputs": [
    {
     "name": "stdout",
     "output_type": "stream",
     "text": [
      "df1:\n",
      "  key1  value1\n",
      "0    A       1\n",
      "1    B       2\n",
      "2    C       3\n",
      "3    D       4\n",
      "df2:\n",
      "  key2  value2\n",
      "0    B       5\n",
      "1    D       6\n",
      "2    E       7\n",
      "3    F       8\n",
      "df3:\n",
      "  key3  value3\n",
      "0    C       9\n",
      "1    D      10\n",
      "2    F      11\n",
      "3    G      12\n",
      "Inner Join:\n",
      "  key1  value1 key2  value2 key3  value3\n",
      "0    D       4    D       6    D      10\n"
     ]
    }
   ],
   "source": [
    "\n",
    "# Crear tres DataFrames con datos similares a tablas de SQL\n",
    "df1 = pd.DataFrame({\n",
    "    'key1': ['A', 'B', 'C', 'D'],\n",
    "    'value1': [1, 2, 3, 4]\n",
    "})\n",
    "\n",
    "df2 = pd.DataFrame({\n",
    "    'key2': ['B', 'D', 'E', 'F'],\n",
    "    'value2': [5, 6, 7, 8]\n",
    "})\n",
    "\n",
    "df3 = pd.DataFrame({\n",
    "    'key3': ['C', 'D', 'F', 'G'],\n",
    "    'value3': [9, 10, 11, 12]\n",
    "})\n",
    "\n",
    "# Mostrar los tres DataFrames\n",
    "print('df1:')\n",
    "print(df1)\n",
    "print('df2:')\n",
    "print(df2)\n",
    "print('df3:')\n",
    "print(df3)\n",
    "\n",
    "# Realizar un inner join con tres DataFrames\n",
    "inner_join = pd.merge(pd.merge(df1, df2, left_on='key1', right_on='key2', how='inner'),\n",
    "                      df3, left_on='key2', right_on='key3', how='inner')\n",
    "\n",
    "# Mostrar el resultado del inner join\n",
    "print('Inner Join:')\n",
    "print(inner_join)\n",
    "    "
   ]
  },
  {
   "attachments": {},
   "cell_type": "markdown",
   "metadata": {},
   "source": [
    "# Ejemplo"
   ]
  },
  {
   "cell_type": "code",
   "execution_count": 10,
   "metadata": {},
   "outputs": [
    {
     "name": "stdout",
     "output_type": "stream",
     "text": [
      "Students:\n",
      "   id     name  class_id\n",
      "0   1    Alice       101\n",
      "1   2      Bob       101\n",
      "2   3  Charlie       102\n",
      "3   4     Dave       103\n",
      "4   5      Eve       103\n",
      "Classes:\n",
      "    id     name\n",
      "0  101     Math\n",
      "1  102  Science\n",
      "2  103  History\n",
      "3  104  English\n",
      "Grades:\n",
      "   id  student_id  class_id  grade\n",
      "0   1           1       101     90\n",
      "1   2           2       101     85\n",
      "2   3           3       102     80\n",
      "3   4           4       103     75\n",
      "4   5           5       103     95\n",
      "5   6           1       102     87\n",
      "6   7           3       101     88\n",
      "7   8           5       103     79\n",
      "8   9           2       102     92\n",
      "9  10           4       101     83\n"
     ]
    }
   ],
   "source": [
    "\n",
    "# Crear un DataFrame de estudiantes\n",
    "students = pd.DataFrame({\n",
    "    'id': np.arange(1, 6),\n",
    "    'name': ['Alice', 'Bob', 'Charlie', 'Dave', 'Eve'],\n",
    "    'class_id': [101, 101, 102, 103, 103]\n",
    "})\n",
    "\n",
    "# Crear un DataFrame de clases\n",
    "classes = pd.DataFrame({\n",
    "    'id': [101, 102, 103, 104],\n",
    "    'name': ['Math', 'Science', 'History', 'English']\n",
    "})\n",
    "\n",
    "# Crear un DataFrame de calificaciones\n",
    "grades = pd.DataFrame({\n",
    "    'id': [1, 2, 3, 4, 5, 6, 7, 8, 9, 10],\n",
    "    'student_id': [1, 2, 3, 4, 5, 1, 3, 5, 2, 4],\n",
    "    'class_id': [101, 101, 102, 103, 103, 102, 101, 103, 102, 101],\n",
    "    'grade': [90, 85, 80, 75, 95, 87, 88, 79, 92, 83]\n",
    "})\n",
    "\n",
    "# Mostrar los DataFrames\n",
    "print('Students:')\n",
    "print(students)\n",
    "print('Classes:')\n",
    "print(classes)\n",
    "print('Grades:')\n",
    "print(grades)\n"
   ]
  },
  {
   "attachments": {},
   "cell_type": "markdown",
   "metadata": {},
   "source": [
    "# Merge de estudiantes y clases en función de class_id"
   ]
  },
  {
   "cell_type": "code",
   "execution_count": 11,
   "metadata": {},
   "outputs": [
    {
     "name": "stdout",
     "output_type": "stream",
     "text": [
      "Merged:\n",
      "   id_x   name_x  class_id  id_y   name_y\n",
      "0   1.0    Alice     101.0   101     Math\n",
      "1   2.0      Bob     101.0   101     Math\n",
      "2   3.0  Charlie     102.0   102  Science\n",
      "3   4.0     Dave     103.0   103  History\n",
      "4   5.0      Eve     103.0   103  History\n",
      "5   NaN      NaN       NaN   104  English\n"
     ]
    }
   ],
   "source": [
    "# Merge de estudiantes y clases en función de class_id\n",
    "merged = pd.merge(students, classes, left_on='class_id', right_on='id', how='outer')\n",
    "print('Merged:')\n",
    "print(merged)\n",
    "\n"
   ]
  },
  {
   "attachments": {},
   "cell_type": "markdown",
   "metadata": {},
   "source": [
    "# Join de estudiantes y clases en función de class_id"
   ]
  },
  {
   "cell_type": "markdown",
   "metadata": {},
   "source": [
    "# Inner join de estudiantes y calificaciones en función de student_id y class_id\n"
   ]
  },
  {
   "cell_type": "code",
   "execution_count": 12,
   "metadata": {},
   "outputs": [
    {
     "name": "stdout",
     "output_type": "stream",
     "text": [
      "Inner Join:\n"
     ]
    },
    {
     "data": {
      "text/html": [
       "<div>\n",
       "<style scoped>\n",
       "    .dataframe tbody tr th:only-of-type {\n",
       "        vertical-align: middle;\n",
       "    }\n",
       "\n",
       "    .dataframe tbody tr th {\n",
       "        vertical-align: top;\n",
       "    }\n",
       "\n",
       "    .dataframe thead th {\n",
       "        text-align: right;\n",
       "    }\n",
       "</style>\n",
       "<table border=\"1\" class=\"dataframe\">\n",
       "  <thead>\n",
       "    <tr style=\"text-align: right;\">\n",
       "      <th></th>\n",
       "      <th>id</th>\n",
       "      <th>name</th>\n",
       "      <th>class_id</th>\n",
       "      <th>student_id</th>\n",
       "      <th>grade</th>\n",
       "    </tr>\n",
       "  </thead>\n",
       "  <tbody>\n",
       "    <tr>\n",
       "      <th>0</th>\n",
       "      <td>1</td>\n",
       "      <td>Alice</td>\n",
       "      <td>101</td>\n",
       "      <td>1</td>\n",
       "      <td>90</td>\n",
       "    </tr>\n",
       "    <tr>\n",
       "      <th>1</th>\n",
       "      <td>2</td>\n",
       "      <td>Bob</td>\n",
       "      <td>101</td>\n",
       "      <td>2</td>\n",
       "      <td>85</td>\n",
       "    </tr>\n",
       "    <tr>\n",
       "      <th>2</th>\n",
       "      <td>3</td>\n",
       "      <td>Charlie</td>\n",
       "      <td>102</td>\n",
       "      <td>3</td>\n",
       "      <td>80</td>\n",
       "    </tr>\n",
       "    <tr>\n",
       "      <th>3</th>\n",
       "      <td>4</td>\n",
       "      <td>Dave</td>\n",
       "      <td>103</td>\n",
       "      <td>4</td>\n",
       "      <td>75</td>\n",
       "    </tr>\n",
       "    <tr>\n",
       "      <th>4</th>\n",
       "      <td>5</td>\n",
       "      <td>Eve</td>\n",
       "      <td>103</td>\n",
       "      <td>5</td>\n",
       "      <td>95</td>\n",
       "    </tr>\n",
       "  </tbody>\n",
       "</table>\n",
       "</div>"
      ],
      "text/plain": [
       "   id     name  class_id  student_id  grade\n",
       "0   1    Alice       101           1     90\n",
       "1   2      Bob       101           2     85\n",
       "2   3  Charlie       102           3     80\n",
       "3   4     Dave       103           4     75\n",
       "4   5      Eve       103           5     95"
      ]
     },
     "execution_count": 12,
     "metadata": {},
     "output_type": "execute_result"
    }
   ],
   "source": [
    "# Inner join de estudiantes y calificaciones en función de student_id y class_id\n",
    "inner_join = pd.merge(students, grades, on=['id', 'class_id'], how='inner')\n",
    "print('Inner Join:')\n",
    "inner_join"
   ]
  },
  {
   "attachments": {},
   "cell_type": "markdown",
   "metadata": {},
   "source": [
    "# Listas con pd.Concat"
   ]
  },
  {
   "cell_type": "markdown",
   "metadata": {},
   "source": [
    "pd.concat() es una función de Pandas que se utiliza para concatenar DataFrames en función de su índice o de una columna específica. A diferencia de pd.merge(), pd.concat() no realiza operaciones de unión basadas en las claves de las columnas."
   ]
  },
  {
   "cell_type": "code",
   "execution_count": 13,
   "metadata": {},
   "outputs": [
    {
     "name": "stdout",
     "output_type": "stream",
     "text": [
      "df1:\n",
      "  key1  value1\n",
      "0    A       1\n",
      "1    B       2\n",
      "2    C       3\n",
      "3    D       4\n",
      "df2:\n",
      "  key2  value2\n",
      "0    B       5\n",
      "1    D       6\n",
      "2    E       7\n",
      "3    F       8\n",
      "df3:\n",
      "  key3  value3\n",
      "0    C       9\n",
      "1    D      10\n",
      "2    F      11\n",
      "3    G      12\n"
     ]
    }
   ],
   "source": [
    "# Crear tres DataFrames con datos similares a tablas de SQL\n",
    "df1 = pd.DataFrame({\n",
    "    'key1': ['A', 'B', 'C', 'D'],\n",
    "    'value1': [1, 2, 3, 4]\n",
    "})\n",
    "\n",
    "df2 = pd.DataFrame({\n",
    "    'key2': ['B', 'D', 'E', 'F'],\n",
    "    'value2': [5, 6, 7, 8]\n",
    "})\n",
    "\n",
    "df3 = pd.DataFrame({\n",
    "    'key3': ['C', 'D', 'F', 'G'],\n",
    "    'value3': [9, 10, 11, 12]\n",
    "})\n",
    "\n",
    "# Mostrar los tres DataFrames\n",
    "print('df1:')\n",
    "print(df1)\n",
    "print('df2:')\n",
    "print(df2)\n",
    "print('df3:')\n",
    "print(df3)\n"
   ]
  },
  {
   "attachments": {},
   "cell_type": "markdown",
   "metadata": {},
   "source": [
    "Para replicar el inner join, podemos utilizar pd.concat() con los parámetros join='inner' y axis=1. Esto concatenará los DataFrames en función de sus columnas comunes."
   ]
  },
  {
   "cell_type": "code",
   "execution_count": 14,
   "metadata": {},
   "outputs": [
    {
     "name": "stdout",
     "output_type": "stream",
     "text": [
      "Inner Join:\n",
      "  index  value1  value2  value3\n",
      "0     D       4       6      10\n"
     ]
    }
   ],
   "source": [
    "# Realizar un inner join con tres DataFrames utilizando pd.concat()\n",
    "inner_join = pd.concat([df1.set_index('key1'), df2.set_index('key2'), df3.set_index('key3')],\n",
    "                       join='inner', axis=1).reset_index()\n",
    "\n",
    "# Mostrar el resultado del inner join\n",
    "print('Inner Join:')\n",
    "print(inner_join)"
   ]
  },
  {
   "attachments": {},
   "cell_type": "markdown",
   "metadata": {},
   "source": [
    "# Tarea"
   ]
  },
  {
   "attachments": {},
   "cell_type": "markdown",
   "metadata": {},
   "source": [
    "Completa los joins usando pd.concat"
   ]
  },
  {
   "attachments": {},
   "cell_type": "markdown",
   "metadata": {},
   "source": [
    "Para replicar el left join, podemos utilizar pd.concat() con los parámetros join='left' y axis=1. Esto concatenará los DataFrames en función de sus columnas comunes y agregará las filas del DataFrame de la izquierda que no tengan correspondencia en el DataFrame de la derecha."
   ]
  },
  {
   "cell_type": "code",
   "execution_count": 31,
   "metadata": {},
   "outputs": [
    {
     "name": "stdout",
     "output_type": "stream",
     "text": [
      "Left Join:\n",
      "  index  value1  value2  value3\n",
      "0     A     1.0     NaN     NaN\n",
      "1     B     2.0     5.0     NaN\n",
      "2     C     3.0     NaN     9.0\n",
      "3     D     4.0     6.0    10.0\n"
     ]
    }
   ],
   "source": [
    "# Realizar un inner join con tres DataFrames utilizando pd.concat()\n",
    "left_join = pd.concat([df1.set_index('key1'), df2.set_index('key2'), df3.set_index('key3')],\n",
    "                       join='outer', axis=1).reset_index().dropna(subset=\"value1\")\n",
    "\n",
    "# Mostrar el resultado del inner join\n",
    "print('Left Join:')\n",
    "print(left_join)"
   ]
  },
  {
   "cell_type": "markdown",
   "metadata": {},
   "source": [
    "# Right join con pd.concat"
   ]
  },
  {
   "cell_type": "code",
   "execution_count": 33,
   "metadata": {},
   "outputs": [
    {
     "name": "stdout",
     "output_type": "stream",
     "text": [
      "Right Join:\n",
      "  index  value1  value2  value3\n",
      "2     C     3.0     NaN     9.0\n",
      "3     D     4.0     6.0    10.0\n",
      "5     F     NaN     8.0    11.0\n",
      "6     G     NaN     NaN    12.0\n"
     ]
    }
   ],
   "source": [
    "# Realizar un inner join con tres DataFrames utilizando pd.concat()\n",
    "right_join = pd.concat([df1.set_index('key1'), df2.set_index('key2'), df3.set_index('key3')],\n",
    "                       join='outer', axis=1).reset_index().dropna(subset=\"value3\")\n",
    "\n",
    "# Mostrar el resultado del inner join\n",
    "print('Right Join:')\n",
    "print(right_join)"
   ]
  },
  {
   "cell_type": "markdown",
   "metadata": {},
   "source": [
    "# Outer Join con pd.concat"
   ]
  },
  {
   "cell_type": "code",
   "execution_count": 25,
   "metadata": {},
   "outputs": [
    {
     "name": "stdout",
     "output_type": "stream",
     "text": [
      "Outer Join:\n",
      "  index  value1  value2  value3\n",
      "0     A     1.0     NaN     NaN\n",
      "1     B     2.0     5.0     NaN\n",
      "2     C     3.0     NaN     9.0\n",
      "3     D     4.0     6.0    10.0\n",
      "4     E     NaN     7.0     NaN\n",
      "5     F     NaN     8.0    11.0\n",
      "6     G     NaN     NaN    12.0\n"
     ]
    }
   ],
   "source": [
    "# Realizar un inner join con tres DataFrames utilizando pd.concat()\n",
    "outer_join = pd.concat([df1.set_index('key1'), df2.set_index('key2'), df3.set_index('key3')],\n",
    "                       join='outer', axis=1).reset_index()\n",
    "\n",
    "# Mostrar el resultado del inner join\n",
    "print('Outer Join:')\n",
    "print(outer_join)"
   ]
  },
  {
   "cell_type": "code",
   "execution_count": null,
   "metadata": {},
   "outputs": [],
   "source": []
  }
 ],
 "metadata": {
  "interpreter": {
   "hash": "a3f607d65e0cb75e7346d490787a1c589d4eb89dde216590f2ade4d91ea21ed2"
  },
  "kernelspec": {
   "display_name": "Python 3.10.9 ('pandas')",
   "language": "python",
   "name": "python3"
  },
  "language_info": {
   "codemirror_mode": {
    "name": "ipython",
    "version": 3
   },
   "file_extension": ".py",
   "mimetype": "text/x-python",
   "name": "python",
   "nbconvert_exporter": "python",
   "pygments_lexer": "ipython3",
   "version": "3.10.9"
  },
  "orig_nbformat": 4
 },
 "nbformat": 4,
 "nbformat_minor": 2
}
