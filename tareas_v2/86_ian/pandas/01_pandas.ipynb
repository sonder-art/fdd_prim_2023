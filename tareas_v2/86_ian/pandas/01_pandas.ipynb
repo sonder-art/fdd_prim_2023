{
  "cells": [
    {
      "cell_type": "markdown",
      "metadata": {
        "colab_type": "text",
        "id": "view-in-github"
      },
      "source": [
        "<a href=\"https://colab.research.google.com/github/sonder-art/fdd_prim_2023/blob/main/codigo/pandas/01_pandas.ipynb\" target=\"_parent\"><img src=\"https://colab.research.google.com/assets/colab-badge.svg\" alt=\"Open In Colab\"/></a>"
      ]
    },
    {
      "cell_type": "code",
      "execution_count": 1,
      "metadata": {
        "id": "2t6KLatIUa3p"
      },
      "outputs": [],
      "source": [
        "import pandas as pd\n",
        "import io"
      ]
    },
    {
      "cell_type": "markdown",
      "metadata": {
        "id": "GPcsqi41XVMB"
      },
      "source": [
        "# Generar Archivos"
      ]
    },
    {
      "cell_type": "code",
      "execution_count": 2,
      "metadata": {
        "id": "Makj8r4MXZEV"
      },
      "outputs": [],
      "source": [
        "import csv\n",
        "def generar_csv(nombre_archivo, datos, separador=','):\n",
        "    with open(nombre_archivo, 'w', newline='') as archivo:\n",
        "        escritor = csv.writer(archivo, delimiter=separador)\n",
        "        escritor.writerows(datos)\n"
      ]
    },
    {
      "cell_type": "code",
      "execution_count": 3,
      "metadata": {
        "id": "9SgJPEZGXaQY"
      },
      "outputs": [],
      "source": [
        "datos = [    ['id', 'nombre', 'edad'],\n",
        "    [1, 'Ana', 25],\n",
        "    [2, 'Carlos', 30],\n",
        "    [3, 'Marta', 35]\n",
        "]\n",
        "\n",
        "generar_csv('archivo.csv', datos, separador=';')"
      ]
    },
    {
      "cell_type": "markdown",
      "metadata": {
        "id": "2Wuaps0MWf34"
      },
      "source": [
        "Para inferir el tipo de separador de un archivo que Pandas va a leer, puedes utilizar la función `pd.read_csv()` con el parámetro `delimiter=None`. De esta manera, Pandas intentará inferir automáticamente el separador utilizado en el archivo CSV."
      ]
    },
    {
      "cell_type": "code",
      "execution_count": 4,
      "metadata": {
        "colab": {
          "base_uri": "https://localhost:8080/"
        },
        "id": "UuXRA47xYGcW",
        "outputId": "c5a78a45-dc70-48e6-b0a9-62998a59c220"
      },
      "outputs": [
        {
          "name": "stdout",
          "output_type": "stream",
          "text": [
            "id;nombre;edad\n",
            "1;Ana;25\n",
            "2;Carlos;30\n",
            "3;Marta;35\n"
          ]
        }
      ],
      "source": [
        "! head archivo.csv"
      ]
    },
    {
      "cell_type": "markdown",
      "metadata": {
        "id": "gclTjYwYX9he"
      },
      "source": [
        "# Delimiters"
      ]
    },
    {
      "cell_type": "code",
      "execution_count": 5,
      "metadata": {
        "colab": {
          "base_uri": "https://localhost:8080/",
          "height": 143
        },
        "id": "i2M0OUrjX8P7",
        "outputId": "336e544f-274d-408d-f640-cb761aa64005"
      },
      "outputs": [
        {
          "data": {
            "text/html": [
              "<div>\n",
              "<style scoped>\n",
              "    .dataframe tbody tr th:only-of-type {\n",
              "        vertical-align: middle;\n",
              "    }\n",
              "\n",
              "    .dataframe tbody tr th {\n",
              "        vertical-align: top;\n",
              "    }\n",
              "\n",
              "    .dataframe thead th {\n",
              "        text-align: right;\n",
              "    }\n",
              "</style>\n",
              "<table border=\"1\" class=\"dataframe\">\n",
              "  <thead>\n",
              "    <tr style=\"text-align: right;\">\n",
              "      <th></th>\n",
              "      <th>id;nombre;edad</th>\n",
              "    </tr>\n",
              "  </thead>\n",
              "  <tbody>\n",
              "    <tr>\n",
              "      <th>0</th>\n",
              "      <td>1;Ana;25</td>\n",
              "    </tr>\n",
              "    <tr>\n",
              "      <th>1</th>\n",
              "      <td>2;Carlos;30</td>\n",
              "    </tr>\n",
              "    <tr>\n",
              "      <th>2</th>\n",
              "      <td>3;Marta;35</td>\n",
              "    </tr>\n",
              "  </tbody>\n",
              "</table>\n",
              "</div>"
            ],
            "text/plain": [
              "  id;nombre;edad\n",
              "0       1;Ana;25\n",
              "1    2;Carlos;30\n",
              "2     3;Marta;35"
            ]
          },
          "execution_count": 5,
          "metadata": {},
          "output_type": "execute_result"
        }
      ],
      "source": [
        "pd.read_csv('archivo.csv')"
      ]
    },
    {
      "cell_type": "code",
      "execution_count": 6,
      "metadata": {
        "colab": {
          "base_uri": "https://localhost:8080/",
          "height": 143
        },
        "id": "Qe6vIkfiXy1S",
        "outputId": "82753e2e-4708-4fa4-d34c-eebd9e836a96"
      },
      "outputs": [
        {
          "data": {
            "text/html": [
              "<div>\n",
              "<style scoped>\n",
              "    .dataframe tbody tr th:only-of-type {\n",
              "        vertical-align: middle;\n",
              "    }\n",
              "\n",
              "    .dataframe tbody tr th {\n",
              "        vertical-align: top;\n",
              "    }\n",
              "\n",
              "    .dataframe thead th {\n",
              "        text-align: right;\n",
              "    }\n",
              "</style>\n",
              "<table border=\"1\" class=\"dataframe\">\n",
              "  <thead>\n",
              "    <tr style=\"text-align: right;\">\n",
              "      <th></th>\n",
              "      <th>id</th>\n",
              "      <th>nombre</th>\n",
              "      <th>edad</th>\n",
              "    </tr>\n",
              "  </thead>\n",
              "  <tbody>\n",
              "    <tr>\n",
              "      <th>0</th>\n",
              "      <td>1</td>\n",
              "      <td>Ana</td>\n",
              "      <td>25</td>\n",
              "    </tr>\n",
              "    <tr>\n",
              "      <th>1</th>\n",
              "      <td>2</td>\n",
              "      <td>Carlos</td>\n",
              "      <td>30</td>\n",
              "    </tr>\n",
              "    <tr>\n",
              "      <th>2</th>\n",
              "      <td>3</td>\n",
              "      <td>Marta</td>\n",
              "      <td>35</td>\n",
              "    </tr>\n",
              "  </tbody>\n",
              "</table>\n",
              "</div>"
            ],
            "text/plain": [
              "   id  nombre  edad\n",
              "0   1     Ana    25\n",
              "1   2  Carlos    30\n",
              "2   3   Marta    35"
            ]
          },
          "execution_count": 6,
          "metadata": {},
          "output_type": "execute_result"
        }
      ],
      "source": [
        "pd.read_csv('archivo.csv', delimiter=';')"
      ]
    },
    {
      "cell_type": "code",
      "execution_count": 7,
      "metadata": {
        "id": "wcnzK7pgWRnf"
      },
      "outputs": [],
      "source": [
        "def read_csv_with_delimiter(data_path:str, lines:int=5):\n",
        "    # Solo usa las primeras 5 lineas para inferir el delimiter\n",
        "    reader = pd.read_csv(data_path, sep = None, iterator = True, nrows=lines,\n",
        "                         engine='python')\n",
        "    delimiter = reader._engine.data.dialect.delimiter\n",
        "    print(f'El delimiter encontrado fue \\\"{delimiter}\\\"')\n",
        "    df = pd.read_csv(data_path, sep=delimiter)\n",
        "    return df"
      ]
    },
    {
      "cell_type": "markdown",
      "metadata": {
        "id": "Dk-Tm707Wy4V"
      },
      "source": [
        "En este código, se abre el archivo CSV con el modo de lectura 'r', y luego se utiliza la función `pd.read_csv()` con el parámetro `delimiter=None` para inferir automáticamente el separador utilizado en el archivo CSV. La propiedad dialect.delimiter del objeto retornado por la función `pd.read_csv(` se utiliza para obtener el separador inferido.\n",
        "\n",
        "Luego, se reinicia el puntero de lectura del archivo CSV a la posición inicial utilizando el método `seek(0)`, y se utiliza nuevamente la función `pd.read_csv()` para leer los datos del archivo CSV utilizando el separador inferido como valor del parámetro sep."
      ]
    },
    {
      "cell_type": "code",
      "execution_count": 8,
      "metadata": {
        "colab": {
          "base_uri": "https://localhost:8080/",
          "height": 161
        },
        "id": "bBu5-BbiZJgn",
        "outputId": "43fde3a3-c183-4366-9fb8-407ac923e71b"
      },
      "outputs": [
        {
          "name": "stdout",
          "output_type": "stream",
          "text": [
            "El delimiter encontrado fue \";\"\n"
          ]
        },
        {
          "data": {
            "text/html": [
              "<div>\n",
              "<style scoped>\n",
              "    .dataframe tbody tr th:only-of-type {\n",
              "        vertical-align: middle;\n",
              "    }\n",
              "\n",
              "    .dataframe tbody tr th {\n",
              "        vertical-align: top;\n",
              "    }\n",
              "\n",
              "    .dataframe thead th {\n",
              "        text-align: right;\n",
              "    }\n",
              "</style>\n",
              "<table border=\"1\" class=\"dataframe\">\n",
              "  <thead>\n",
              "    <tr style=\"text-align: right;\">\n",
              "      <th></th>\n",
              "      <th>id</th>\n",
              "      <th>nombre</th>\n",
              "      <th>edad</th>\n",
              "    </tr>\n",
              "  </thead>\n",
              "  <tbody>\n",
              "    <tr>\n",
              "      <th>0</th>\n",
              "      <td>1</td>\n",
              "      <td>Ana</td>\n",
              "      <td>25</td>\n",
              "    </tr>\n",
              "    <tr>\n",
              "      <th>1</th>\n",
              "      <td>2</td>\n",
              "      <td>Carlos</td>\n",
              "      <td>30</td>\n",
              "    </tr>\n",
              "    <tr>\n",
              "      <th>2</th>\n",
              "      <td>3</td>\n",
              "      <td>Marta</td>\n",
              "      <td>35</td>\n",
              "    </tr>\n",
              "  </tbody>\n",
              "</table>\n",
              "</div>"
            ],
            "text/plain": [
              "   id  nombre  edad\n",
              "0   1     Ana    25\n",
              "1   2  Carlos    30\n",
              "2   3   Marta    35"
            ]
          },
          "execution_count": 8,
          "metadata": {},
          "output_type": "execute_result"
        }
      ],
      "source": [
        "read_csv_with_delimiter('archivo.csv',5)"
      ]
    },
    {
      "cell_type": "markdown",
      "metadata": {
        "id": "cZk79M2bVrCS"
      },
      "source": [
        "# Datos de la nube"
      ]
    },
    {
      "cell_type": "markdown",
      "metadata": {
        "id": "FhzTn5rHWIyu"
      },
      "source": [
        " utilizar la clase `io.StringIO` del módulo io de Python para crear un objeto de archivo en memoria. Esta clase proporciona una forma de crear un objeto de archivo similar a un archivo de entrada/salida que almacena datos en una cadena de texto en lugar de un archivo en disco."
      ]
    },
    {
      "cell_type": "code",
      "execution_count": 9,
      "metadata": {
        "colab": {
          "base_uri": "https://localhost:8080/"
        },
        "id": "efFIdKE4VCCC",
        "outputId": "63112522-73d9-43b1-c7b2-ce3295db2c00"
      },
      "outputs": [
        {
          "name": "stdout",
          "output_type": "stream",
          "text": [
            "[Errno 2] No such file or directory: 'id,nombre,edad\\n1,Ana,25\\n2,Carlos,30\\n3,Marta,35\\n'\n"
          ]
        }
      ],
      "source": [
        "# Generar datos de ejemplo\n",
        "data = 'id,nombre,edad\\n1,Ana,25\\n2,Carlos,30\\n3,Marta,35\\n'\n",
        "try:\n",
        "    df = pd.read_csv(data)\n",
        "except Exception as e:\n",
        "    print(e)"
      ]
    },
    {
      "cell_type": "code",
      "execution_count": 10,
      "metadata": {
        "colab": {
          "base_uri": "https://localhost:8080/"
        },
        "id": "6LINwVwAUeJX",
        "outputId": "5795ae56-415c-46c5-a008-bb4e7b908de6"
      },
      "outputs": [
        {
          "name": "stdout",
          "output_type": "stream",
          "text": [
            "<_io.StringIO object at 0x7f29320f1240>\n",
            "   id  nombre  edad\n",
            "0   1     Ana    25\n",
            "1   2  Carlos    30\n",
            "2   3   Marta    35\n"
          ]
        }
      ],
      "source": [
        "# Leer archivo CSV simulado de S3 con Pandas\n",
        "data_io = io.StringIO(data)\n",
        "print(data_io)\n",
        "df = pd.read_csv(data_io)\n",
        "print(df)"
      ]
    },
    {
      "cell_type": "code",
      "execution_count": 11,
      "metadata": {
        "id": "JWgtVkR8aly9"
      },
      "outputs": [],
      "source": [
        "def read_csv_bytes_with_delimiter(data_stream, lines = 5):\n",
        "    data_stream = io.StringIO(data_stream)\n",
        "    reader = pd.read_csv(data_stream , sep = None, \n",
        "                         iterator = True, nrows=lines, engine='python')\n",
        "    print(reader)\n",
        "    delimiter = reader._engine.data.dialect.delimiter\n",
        "    data_stream.seek(0) # Regresar al inicio del stream\n",
        "    df = pd.read_csv(data_stream, sep=delimiter)\n",
        "    return df"
      ]
    },
    {
      "cell_type": "code",
      "execution_count": 12,
      "metadata": {
        "colab": {
          "base_uri": "https://localhost:8080/",
          "height": 161
        },
        "id": "4xddT4GPaulc",
        "outputId": "3e5fb241-b842-4278-b18b-486cbe8533ad"
      },
      "outputs": [
        {
          "name": "stdout",
          "output_type": "stream",
          "text": [
            "<pandas.io.parsers.readers.TextFileReader object at 0x7f29320dc670>\n"
          ]
        },
        {
          "data": {
            "text/html": [
              "<div>\n",
              "<style scoped>\n",
              "    .dataframe tbody tr th:only-of-type {\n",
              "        vertical-align: middle;\n",
              "    }\n",
              "\n",
              "    .dataframe tbody tr th {\n",
              "        vertical-align: top;\n",
              "    }\n",
              "\n",
              "    .dataframe thead th {\n",
              "        text-align: right;\n",
              "    }\n",
              "</style>\n",
              "<table border=\"1\" class=\"dataframe\">\n",
              "  <thead>\n",
              "    <tr style=\"text-align: right;\">\n",
              "      <th></th>\n",
              "      <th>id</th>\n",
              "      <th>nombre</th>\n",
              "      <th>edad</th>\n",
              "    </tr>\n",
              "  </thead>\n",
              "  <tbody>\n",
              "    <tr>\n",
              "      <th>0</th>\n",
              "      <td>1</td>\n",
              "      <td>Ana</td>\n",
              "      <td>25</td>\n",
              "    </tr>\n",
              "    <tr>\n",
              "      <th>1</th>\n",
              "      <td>2</td>\n",
              "      <td>Carlos</td>\n",
              "      <td>30</td>\n",
              "    </tr>\n",
              "    <tr>\n",
              "      <th>2</th>\n",
              "      <td>3</td>\n",
              "      <td>Marta</td>\n",
              "      <td>35</td>\n",
              "    </tr>\n",
              "  </tbody>\n",
              "</table>\n",
              "</div>"
            ],
            "text/plain": [
              "   id  nombre  edad\n",
              "0   1     Ana    25\n",
              "1   2  Carlos    30\n",
              "2   3   Marta    35"
            ]
          },
          "execution_count": 12,
          "metadata": {},
          "output_type": "execute_result"
        }
      ],
      "source": [
        "# Leer archivo CSV simulado de S3 con Pandas\n",
        "read_csv_bytes_with_delimiter(data)"
      ]
    },
    {
      "cell_type": "code",
      "execution_count": 13,
      "metadata": {
        "colab": {
          "base_uri": "https://localhost:8080/",
          "height": 161
        },
        "id": "5KHVJ3AecRcq",
        "outputId": "fdd32f51-75c4-4b71-b31c-a6270de75b45"
      },
      "outputs": [
        {
          "name": "stdout",
          "output_type": "stream",
          "text": [
            "<pandas.io.parsers.readers.TextFileReader object at 0x7f29320ddb40>\n"
          ]
        },
        {
          "data": {
            "text/html": [
              "<div>\n",
              "<style scoped>\n",
              "    .dataframe tbody tr th:only-of-type {\n",
              "        vertical-align: middle;\n",
              "    }\n",
              "\n",
              "    .dataframe tbody tr th {\n",
              "        vertical-align: top;\n",
              "    }\n",
              "\n",
              "    .dataframe thead th {\n",
              "        text-align: right;\n",
              "    }\n",
              "</style>\n",
              "<table border=\"1\" class=\"dataframe\">\n",
              "  <thead>\n",
              "    <tr style=\"text-align: right;\">\n",
              "      <th></th>\n",
              "      <th>i;d</th>\n",
              "      <th>nomb;re</th>\n",
              "      <th>ed;ad</th>\n",
              "    </tr>\n",
              "  </thead>\n",
              "  <tbody>\n",
              "    <tr>\n",
              "      <th>0</th>\n",
              "      <td>1</td>\n",
              "      <td>An;a</td>\n",
              "      <td>25</td>\n",
              "    </tr>\n",
              "    <tr>\n",
              "      <th>1</th>\n",
              "      <td>2</td>\n",
              "      <td>Ca;rlos</td>\n",
              "      <td>30</td>\n",
              "    </tr>\n",
              "    <tr>\n",
              "      <th>2</th>\n",
              "      <td>3</td>\n",
              "      <td>Ma;rta</td>\n",
              "      <td>35</td>\n",
              "    </tr>\n",
              "  </tbody>\n",
              "</table>\n",
              "</div>"
            ],
            "text/plain": [
              "   i;d  nomb;re  ed;ad\n",
              "0    1     An;a     25\n",
              "1    2  Ca;rlos     30\n",
              "2    3   Ma;rta     35"
            ]
          },
          "execution_count": 13,
          "metadata": {},
          "output_type": "execute_result"
        }
      ],
      "source": [
        "data2 = 'i;d,nomb;re,ed;ad\\n1,An;a,25\\n2,Ca;rlos,30\\n3,Ma;rta,35\\n'\n",
        "read_csv_bytes_with_delimiter(data2)"
      ]
    },
    {
      "cell_type": "markdown",
      "metadata": {
        "id": "70svWlwlo6cs"
      },
      "source": [
        "# Separadores dificiles\n"
      ]
    },
    {
      "cell_type": "code",
      "execution_count": 14,
      "metadata": {
        "id": "aqOeGwZvkW95"
      },
      "outputs": [],
      "source": [
        "data3 = '''id;nombre,apellido;edad;correo\n",
        "1;Juan,Pérez;35;jperez@gmail.com\n",
        "2;María,García,Smith;42;mgarcia.smith@yahoo.com\n",
        "3;Pedro,Álvarez;28;palvarez@hotmail.com'''"
      ]
    },
    {
      "cell_type": "code",
      "execution_count": 15,
      "metadata": {
        "colab": {
          "base_uri": "https://localhost:8080/"
        },
        "id": "XcOrKNuqc8Gr",
        "outputId": "21bc063d-a9ae-4515-f41e-05f2e27074c9"
      },
      "outputs": [
        {
          "name": "stdout",
          "output_type": "stream",
          "text": [
            "<pandas.io.parsers.readers.TextFileReader object at 0x7f29320dce50>\n",
            "Error tokenizing data. C error: Expected 2 fields in line 3, saw 3\n",
            "\n"
          ]
        }
      ],
      "source": [
        "try:\n",
        "    print(read_csv_bytes_with_delimiter(data3))\n",
        "except Exception as e:\n",
        "    print(e)"
      ]
    },
    {
      "cell_type": "code",
      "execution_count": 16,
      "metadata": {
        "id": "ANMC5IWmdJ6t"
      },
      "outputs": [],
      "source": [
        "def read_csv_bytes_with_delimiter(data_stream, lines = 5, delimiter=None):\n",
        "    data_stream = io.StringIO(data_stream)\n",
        "    if not delimiter:\n",
        "        reader = pd.read_csv(data_stream , sep = None, \n",
        "                            iterator = True, nrows=lines, engine='python')\n",
        "        delimiter = reader._engine.data.dialect.delimiter\n",
        "    print(delimiter)\n",
        "    data_stream.seek(0) # Regresar al inicio del stream\n",
        "    df = pd.read_csv(data_stream, sep=delimiter)\n",
        "    return df"
      ]
    },
    {
      "cell_type": "code",
      "execution_count": 17,
      "metadata": {
        "colab": {
          "base_uri": "https://localhost:8080/",
          "height": 161
        },
        "id": "wb6QZJsedcKY",
        "outputId": "3f362998-fbfc-4ec7-84bf-79557eb4d2e7"
      },
      "outputs": [
        {
          "name": "stdout",
          "output_type": "stream",
          "text": [
            ",\n"
          ]
        },
        {
          "data": {
            "text/html": [
              "<div>\n",
              "<style scoped>\n",
              "    .dataframe tbody tr th:only-of-type {\n",
              "        vertical-align: middle;\n",
              "    }\n",
              "\n",
              "    .dataframe tbody tr th {\n",
              "        vertical-align: top;\n",
              "    }\n",
              "\n",
              "    .dataframe thead th {\n",
              "        text-align: right;\n",
              "    }\n",
              "</style>\n",
              "<table border=\"1\" class=\"dataframe\">\n",
              "  <thead>\n",
              "    <tr style=\"text-align: right;\">\n",
              "      <th></th>\n",
              "      <th>i;d</th>\n",
              "      <th>nomb;re</th>\n",
              "      <th>ed;ad</th>\n",
              "    </tr>\n",
              "  </thead>\n",
              "  <tbody>\n",
              "    <tr>\n",
              "      <th>0</th>\n",
              "      <td>1</td>\n",
              "      <td>An;a</td>\n",
              "      <td>25</td>\n",
              "    </tr>\n",
              "    <tr>\n",
              "      <th>1</th>\n",
              "      <td>2</td>\n",
              "      <td>Ca;rlos</td>\n",
              "      <td>30</td>\n",
              "    </tr>\n",
              "    <tr>\n",
              "      <th>2</th>\n",
              "      <td>3</td>\n",
              "      <td>Ma;rta</td>\n",
              "      <td>35</td>\n",
              "    </tr>\n",
              "  </tbody>\n",
              "</table>\n",
              "</div>"
            ],
            "text/plain": [
              "   i;d  nomb;re  ed;ad\n",
              "0    1     An;a     25\n",
              "1    2  Ca;rlos     30\n",
              "2    3   Ma;rta     35"
            ]
          },
          "execution_count": 17,
          "metadata": {},
          "output_type": "execute_result"
        }
      ],
      "source": [
        "data2 = 'i;d,nomb;re,ed;ad\\n1,An;a,25\\n2,Ca;rlos,30\\n3,Ma;rta,35\\n'\n",
        "read_csv_bytes_with_delimiter(data2)"
      ]
    },
    {
      "cell_type": "code",
      "execution_count": 18,
      "metadata": {
        "colab": {
          "base_uri": "https://localhost:8080/",
          "height": 161
        },
        "id": "7NO-UqNGhbBK",
        "outputId": "3b9480f8-051d-407e-e791-226e1fa82811"
      },
      "outputs": [
        {
          "name": "stdout",
          "output_type": "stream",
          "text": [
            ";\n"
          ]
        },
        {
          "data": {
            "text/html": [
              "<div>\n",
              "<style scoped>\n",
              "    .dataframe tbody tr th:only-of-type {\n",
              "        vertical-align: middle;\n",
              "    }\n",
              "\n",
              "    .dataframe tbody tr th {\n",
              "        vertical-align: top;\n",
              "    }\n",
              "\n",
              "    .dataframe thead th {\n",
              "        text-align: right;\n",
              "    }\n",
              "</style>\n",
              "<table border=\"1\" class=\"dataframe\">\n",
              "  <thead>\n",
              "    <tr style=\"text-align: right;\">\n",
              "      <th></th>\n",
              "      <th>id</th>\n",
              "      <th>nombre,apellido</th>\n",
              "      <th>edad</th>\n",
              "      <th>correo</th>\n",
              "    </tr>\n",
              "  </thead>\n",
              "  <tbody>\n",
              "    <tr>\n",
              "      <th>0</th>\n",
              "      <td>1</td>\n",
              "      <td>Juan,Pérez</td>\n",
              "      <td>35</td>\n",
              "      <td>jperez@gmail.com</td>\n",
              "    </tr>\n",
              "    <tr>\n",
              "      <th>1</th>\n",
              "      <td>2</td>\n",
              "      <td>María,García,Smith</td>\n",
              "      <td>42</td>\n",
              "      <td>mgarcia.smith@yahoo.com</td>\n",
              "    </tr>\n",
              "    <tr>\n",
              "      <th>2</th>\n",
              "      <td>3</td>\n",
              "      <td>Pedro,Álvarez</td>\n",
              "      <td>28</td>\n",
              "      <td>palvarez@hotmail.com</td>\n",
              "    </tr>\n",
              "  </tbody>\n",
              "</table>\n",
              "</div>"
            ],
            "text/plain": [
              "   id     nombre,apellido  edad                   correo\n",
              "0   1          Juan,Pérez    35         jperez@gmail.com\n",
              "1   2  María,García,Smith    42  mgarcia.smith@yahoo.com\n",
              "2   3       Pedro,Álvarez    28     palvarez@hotmail.com"
            ]
          },
          "execution_count": 18,
          "metadata": {},
          "output_type": "execute_result"
        }
      ],
      "source": [
        "read_csv_bytes_with_delimiter(data3,delimiter=';')"
      ]
    },
    {
      "cell_type": "markdown",
      "metadata": {
        "id": "iKlKtlU7o_43"
      },
      "source": [
        "# Errores en lineas"
      ]
    },
    {
      "cell_type": "code",
      "execution_count": 19,
      "metadata": {
        "id": "u6dCZLZJpCSL"
      },
      "outputs": [],
      "source": [
        "data4 = '''id;nombre,apellido;edad;correo\n",
        "1;Juan,Pérez;35;jperez@gmail.com\n",
        "2;María;García,Smith;42;mgarcia.smith@yahoo.com\n",
        "3;Pedro,Álvarez;28;palvarez@hotmail.com'''\n"
      ]
    },
    {
      "cell_type": "code",
      "execution_count": 20,
      "metadata": {
        "colab": {
          "base_uri": "https://localhost:8080/"
        },
        "id": "9BIoRXhkpI26",
        "outputId": "aede34af-36cf-46a7-c3ac-4c8acb8cc113"
      },
      "outputs": [
        {
          "name": "stdout",
          "output_type": "stream",
          "text": [
            ";\n",
            "Error tokenizing data. C error: Expected 4 fields in line 3, saw 5\n",
            "\n"
          ]
        }
      ],
      "source": [
        "try:\n",
        "    read_csv_bytes_with_delimiter(data4,delimiter=';')\n",
        "except Exception as e:\n",
        "    print(e)"
      ]
    },
    {
      "cell_type": "code",
      "execution_count": 21,
      "metadata": {
        "id": "ZfloBImxr_Ra"
      },
      "outputs": [],
      "source": [
        "def read_csv_bytes_with_delimiter_error(data_stream, lines = 5, delimiter=';'):\n",
        "    data_stream = io.StringIO(data_stream)\n",
        "    if not delimiter:\n",
        "        reader = pd.read_csv(data_stream , sep = None, \n",
        "                            iterator = True, nrows=lines, engine='python', \n",
        "                             on_bad_lines='warn')\n",
        "        delimiter = reader._engine.data.dialect.delimiter\n",
        "    print(delimiter)\n",
        "    data_stream.seek(0) # Regresar al inicio del stream\n",
        "    df = pd.read_csv(data_stream, sep=delimiter, on_bad_lines='warn')\n",
        "    return df"
      ]
    },
    {
      "cell_type": "code",
      "execution_count": 22,
      "metadata": {
        "colab": {
          "base_uri": "https://localhost:8080/",
          "height": 147
        },
        "id": "Qn0bL8jwscWD",
        "outputId": "f72d3fcc-b137-4c8b-8e42-1316e7758312"
      },
      "outputs": [
        {
          "name": "stdout",
          "output_type": "stream",
          "text": [
            ";\n"
          ]
        },
        {
          "name": "stderr",
          "output_type": "stream",
          "text": [
            "Skipping line 3: expected 4 fields, saw 5\n",
            "\n"
          ]
        },
        {
          "data": {
            "text/html": [
              "<div>\n",
              "<style scoped>\n",
              "    .dataframe tbody tr th:only-of-type {\n",
              "        vertical-align: middle;\n",
              "    }\n",
              "\n",
              "    .dataframe tbody tr th {\n",
              "        vertical-align: top;\n",
              "    }\n",
              "\n",
              "    .dataframe thead th {\n",
              "        text-align: right;\n",
              "    }\n",
              "</style>\n",
              "<table border=\"1\" class=\"dataframe\">\n",
              "  <thead>\n",
              "    <tr style=\"text-align: right;\">\n",
              "      <th></th>\n",
              "      <th>id</th>\n",
              "      <th>nombre,apellido</th>\n",
              "      <th>edad</th>\n",
              "      <th>correo</th>\n",
              "    </tr>\n",
              "  </thead>\n",
              "  <tbody>\n",
              "    <tr>\n",
              "      <th>0</th>\n",
              "      <td>1</td>\n",
              "      <td>Juan,Pérez</td>\n",
              "      <td>35</td>\n",
              "      <td>jperez@gmail.com</td>\n",
              "    </tr>\n",
              "    <tr>\n",
              "      <th>1</th>\n",
              "      <td>3</td>\n",
              "      <td>Pedro,Álvarez</td>\n",
              "      <td>28</td>\n",
              "      <td>palvarez@hotmail.com</td>\n",
              "    </tr>\n",
              "  </tbody>\n",
              "</table>\n",
              "</div>"
            ],
            "text/plain": [
              "   id nombre,apellido  edad                correo\n",
              "0   1      Juan,Pérez    35      jperez@gmail.com\n",
              "1   3   Pedro,Álvarez    28  palvarez@hotmail.com"
            ]
          },
          "execution_count": 22,
          "metadata": {},
          "output_type": "execute_result"
        }
      ],
      "source": [
        "read_csv_bytes_with_delimiter_error(data4,delimiter=';')\n"
      ]
    },
    {
      "cell_type": "markdown",
      "metadata": {
        "id": "PO06UZELuAgt"
      },
      "source": [
        "# Encoding"
      ]
    },
    {
      "cell_type": "code",
      "execution_count": 23,
      "metadata": {
        "id": "V8BT9QbfuCHc"
      },
      "outputs": [],
      "source": [
        "with open(\"datos_enc.csv\", \"w\", encoding=\"ISO-8859-1\") as f:\n",
        "    f.write(\"Universidad Autónoma de México,Universidad Nacional Autónoma de México\\n\")\n",
        "    f.write(\"México,D.F.,Ciudad de México\\n\")"
      ]
    },
    {
      "cell_type": "code",
      "execution_count": 24,
      "metadata": {
        "colab": {
          "base_uri": "https://localhost:8080/"
        },
        "id": "PNP3iHTTuS2f",
        "outputId": "3d0798fa-96ca-4a51-e4b6-1a95992da13b"
      },
      "outputs": [
        {
          "name": "stdout",
          "output_type": "stream",
          "text": [
            "Specified \\n as separator or delimiter. This forces the python engine which does not accept a line terminator. Hence it is not allowed to use the line terminator as separator.\n"
          ]
        }
      ],
      "source": [
        "try:\n",
        "    pd.read_csv(\"datos_enc.csv\", delimiter=\"\\n\", header=None)\n",
        "except Exception as e:\n",
        "    print(e)"
      ]
    },
    {
      "cell_type": "code",
      "execution_count": 25,
      "metadata": {
        "colab": {
          "base_uri": "https://localhost:8080/",
          "height": 112
        },
        "id": "Hed-VCntuIL0",
        "outputId": "c4d10143-e8b6-4e26-e073-039251b5393b"
      },
      "outputs": [
        {
          "ename": "ValueError",
          "evalue": "Specified \\n as separator or delimiter. This forces the python engine which does not accept a line terminator. Hence it is not allowed to use the line terminator as separator.",
          "output_type": "error",
          "traceback": [
            "\u001b[0;31m---------------------------------------------------------------------------\u001b[0m",
            "\u001b[0;31mValueError\u001b[0m                                Traceback (most recent call last)",
            "Cell \u001b[0;32mIn[25], line 1\u001b[0m\n\u001b[0;32m----> 1\u001b[0m pd\u001b[39m.\u001b[39;49mread_csv(\u001b[39m\"\u001b[39;49m\u001b[39mdatos_enc.csv\u001b[39;49m\u001b[39m\"\u001b[39;49m, encoding\u001b[39m=\u001b[39;49m\u001b[39m\"\u001b[39;49m\u001b[39mISO-8859-1\u001b[39;49m\u001b[39m\"\u001b[39;49m, delimiter\u001b[39m=\u001b[39;49m\u001b[39m\"\u001b[39;49m\u001b[39m\\n\u001b[39;49;00m\u001b[39m\"\u001b[39;49m, header\u001b[39m=\u001b[39;49m\u001b[39mNone\u001b[39;49;00m)\n",
            "File \u001b[0;32m~/.local/lib/python3.10/site-packages/pandas/util/_decorators.py:211\u001b[0m, in \u001b[0;36mdeprecate_kwarg.<locals>._deprecate_kwarg.<locals>.wrapper\u001b[0;34m(*args, **kwargs)\u001b[0m\n\u001b[1;32m    209\u001b[0m     \u001b[39melse\u001b[39;00m:\n\u001b[1;32m    210\u001b[0m         kwargs[new_arg_name] \u001b[39m=\u001b[39m new_arg_value\n\u001b[0;32m--> 211\u001b[0m \u001b[39mreturn\u001b[39;00m func(\u001b[39m*\u001b[39;49margs, \u001b[39m*\u001b[39;49m\u001b[39m*\u001b[39;49mkwargs)\n",
            "File \u001b[0;32m~/.local/lib/python3.10/site-packages/pandas/util/_decorators.py:331\u001b[0m, in \u001b[0;36mdeprecate_nonkeyword_arguments.<locals>.decorate.<locals>.wrapper\u001b[0;34m(*args, **kwargs)\u001b[0m\n\u001b[1;32m    325\u001b[0m \u001b[39mif\u001b[39;00m \u001b[39mlen\u001b[39m(args) \u001b[39m>\u001b[39m num_allow_args:\n\u001b[1;32m    326\u001b[0m     warnings\u001b[39m.\u001b[39mwarn(\n\u001b[1;32m    327\u001b[0m         msg\u001b[39m.\u001b[39mformat(arguments\u001b[39m=\u001b[39m_format_argument_list(allow_args)),\n\u001b[1;32m    328\u001b[0m         \u001b[39mFutureWarning\u001b[39;00m,\n\u001b[1;32m    329\u001b[0m         stacklevel\u001b[39m=\u001b[39mfind_stack_level(),\n\u001b[1;32m    330\u001b[0m     )\n\u001b[0;32m--> 331\u001b[0m \u001b[39mreturn\u001b[39;00m func(\u001b[39m*\u001b[39;49margs, \u001b[39m*\u001b[39;49m\u001b[39m*\u001b[39;49mkwargs)\n",
            "File \u001b[0;32m~/.local/lib/python3.10/site-packages/pandas/io/parsers/readers.py:935\u001b[0m, in \u001b[0;36mread_csv\u001b[0;34m(filepath_or_buffer, sep, delimiter, header, names, index_col, usecols, squeeze, prefix, mangle_dupe_cols, dtype, engine, converters, true_values, false_values, skipinitialspace, skiprows, skipfooter, nrows, na_values, keep_default_na, na_filter, verbose, skip_blank_lines, parse_dates, infer_datetime_format, keep_date_col, date_parser, dayfirst, cache_dates, iterator, chunksize, compression, thousands, decimal, lineterminator, quotechar, quoting, doublequote, escapechar, comment, encoding, encoding_errors, dialect, error_bad_lines, warn_bad_lines, on_bad_lines, delim_whitespace, low_memory, memory_map, float_precision, storage_options)\u001b[0m\n\u001b[1;32m    932\u001b[0m \u001b[39mdel\u001b[39;00m kwds[\u001b[39m\"\u001b[39m\u001b[39mfilepath_or_buffer\u001b[39m\u001b[39m\"\u001b[39m]\n\u001b[1;32m    933\u001b[0m \u001b[39mdel\u001b[39;00m kwds[\u001b[39m\"\u001b[39m\u001b[39msep\u001b[39m\u001b[39m\"\u001b[39m]\n\u001b[0;32m--> 935\u001b[0m kwds_defaults \u001b[39m=\u001b[39m _refine_defaults_read(\n\u001b[1;32m    936\u001b[0m     dialect,\n\u001b[1;32m    937\u001b[0m     delimiter,\n\u001b[1;32m    938\u001b[0m     delim_whitespace,\n\u001b[1;32m    939\u001b[0m     engine,\n\u001b[1;32m    940\u001b[0m     sep,\n\u001b[1;32m    941\u001b[0m     error_bad_lines,\n\u001b[1;32m    942\u001b[0m     warn_bad_lines,\n\u001b[1;32m    943\u001b[0m     on_bad_lines,\n\u001b[1;32m    944\u001b[0m     names,\n\u001b[1;32m    945\u001b[0m     prefix,\n\u001b[1;32m    946\u001b[0m     defaults\u001b[39m=\u001b[39;49m{\u001b[39m\"\u001b[39;49m\u001b[39mdelimiter\u001b[39;49m\u001b[39m\"\u001b[39;49m: \u001b[39m\"\u001b[39;49m\u001b[39m,\u001b[39;49m\u001b[39m\"\u001b[39;49m},\n\u001b[1;32m    947\u001b[0m )\n\u001b[1;32m    948\u001b[0m kwds\u001b[39m.\u001b[39mupdate(kwds_defaults)\n\u001b[1;32m    950\u001b[0m \u001b[39mreturn\u001b[39;00m _read(filepath_or_buffer, kwds)\n",
            "File \u001b[0;32m~/.local/lib/python3.10/site-packages/pandas/io/parsers/readers.py:2063\u001b[0m, in \u001b[0;36m_refine_defaults_read\u001b[0;34m(dialect, delimiter, delim_whitespace, engine, sep, error_bad_lines, warn_bad_lines, on_bad_lines, names, prefix, defaults)\u001b[0m\n\u001b[1;32m   2057\u001b[0m     \u001b[39mraise\u001b[39;00m \u001b[39mValueError\u001b[39;00m(\n\u001b[1;32m   2058\u001b[0m         \u001b[39m\"\u001b[39m\u001b[39mSpecified a delimiter with both sep and \u001b[39m\u001b[39m\"\u001b[39m\n\u001b[1;32m   2059\u001b[0m         \u001b[39m\"\u001b[39m\u001b[39mdelim_whitespace=True; you can only specify one.\u001b[39m\u001b[39m\"\u001b[39m\n\u001b[1;32m   2060\u001b[0m     )\n\u001b[1;32m   2062\u001b[0m \u001b[39mif\u001b[39;00m delimiter \u001b[39m==\u001b[39m \u001b[39m\"\u001b[39m\u001b[39m\\n\u001b[39;00m\u001b[39m\"\u001b[39m:\n\u001b[0;32m-> 2063\u001b[0m     \u001b[39mraise\u001b[39;00m \u001b[39mValueError\u001b[39;00m(\n\u001b[1;32m   2064\u001b[0m         \u001b[39mr\u001b[39m\u001b[39m\"\u001b[39m\u001b[39mSpecified \u001b[39m\u001b[39m\\\u001b[39m\u001b[39mn as separator or delimiter. This forces the python engine \u001b[39m\u001b[39m\"\u001b[39m\n\u001b[1;32m   2065\u001b[0m         \u001b[39m\"\u001b[39m\u001b[39mwhich does not accept a line terminator. Hence it is not allowed to use \u001b[39m\u001b[39m\"\u001b[39m\n\u001b[1;32m   2066\u001b[0m         \u001b[39m\"\u001b[39m\u001b[39mthe line terminator as separator.\u001b[39m\u001b[39m\"\u001b[39m,\n\u001b[1;32m   2067\u001b[0m     )\n\u001b[1;32m   2069\u001b[0m \u001b[39mif\u001b[39;00m delimiter \u001b[39mis\u001b[39;00m lib\u001b[39m.\u001b[39mno_default:\n\u001b[1;32m   2070\u001b[0m     \u001b[39m# assign default separator value\u001b[39;00m\n\u001b[1;32m   2071\u001b[0m     kwds[\u001b[39m\"\u001b[39m\u001b[39mdelimiter\u001b[39m\u001b[39m\"\u001b[39m] \u001b[39m=\u001b[39m delim_default\n",
            "\u001b[0;31mValueError\u001b[0m: Specified \\n as separator or delimiter. This forces the python engine which does not accept a line terminator. Hence it is not allowed to use the line terminator as separator."
          ]
        }
      ],
      "source": [
        "pd.read_csv(\"datos_enc.csv\", encoding=\"ISO-8859-1\", delimiter=\"\\n\", header=None)"
      ]
    },
    {
      "cell_type": "markdown",
      "metadata": {
        "id": "peNbpz0uwcYe"
      },
      "source": [
        "Aprovechemos para hacer mas flexible nuestras funciones"
      ]
    },
    {
      "cell_type": "code",
      "execution_count": 26,
      "metadata": {
        "id": "M-X4EKAtvCTG"
      },
      "outputs": [],
      "source": [
        "def read_csv_encoding(data_stream, lines = 5, delimiter=None, **kargs):\n",
        "    if not delimiter:\n",
        "        reader = pd.read_csv(data_stream , sep = None, \n",
        "                            iterator = True, nrows=lines, engine='python',**kargs)\n",
        "        delimiter = reader._engine.data.dialect.delimiter\n",
        "    print(delimiter)\n",
        "    df = pd.read_csv(data_stream, sep=delimiter, **kargs)\n",
        "    return df"
      ]
    },
    {
      "cell_type": "code",
      "execution_count": 28,
      "metadata": {
        "colab": {
          "base_uri": "https://localhost:8080/",
          "height": 115
        },
        "id": "vJbTzPi-vXt7",
        "outputId": "c413287f-29c7-4b2b-ca5e-a11ac383a091"
      },
      "outputs": [
        {
          "name": "stdout",
          "output_type": "stream",
          "text": [
            "\n",
            "\n"
          ]
        },
        {
          "ename": "ValueError",
          "evalue": "Specified \\n as separator or delimiter. This forces the python engine which does not accept a line terminator. Hence it is not allowed to use the line terminator as separator.",
          "output_type": "error",
          "traceback": [
            "\u001b[0;31m---------------------------------------------------------------------------\u001b[0m",
            "\u001b[0;31mValueError\u001b[0m                                Traceback (most recent call last)",
            "Cell \u001b[0;32mIn[28], line 1\u001b[0m\n\u001b[0;32m----> 1\u001b[0m read_csv_encoding(\u001b[39m\"\u001b[39;49m\u001b[39mdatos_enc.csv\u001b[39;49m\u001b[39m\"\u001b[39;49m, delimiter\u001b[39m=\u001b[39;49m\u001b[39m\"\u001b[39;49m\u001b[39m\\n\u001b[39;49;00m\u001b[39m\"\u001b[39;49m, encoding\u001b[39m=\u001b[39;49m\u001b[39m\"\u001b[39;49m\u001b[39mISO-8859-1\u001b[39;49m\u001b[39m\"\u001b[39;49m)\n",
            "Cell \u001b[0;32mIn[26], line 7\u001b[0m, in \u001b[0;36mread_csv_encoding\u001b[0;34m(data_stream, lines, delimiter, **kargs)\u001b[0m\n\u001b[1;32m      5\u001b[0m     delimiter \u001b[39m=\u001b[39m reader\u001b[39m.\u001b[39m_engine\u001b[39m.\u001b[39mdata\u001b[39m.\u001b[39mdialect\u001b[39m.\u001b[39mdelimiter\n\u001b[1;32m      6\u001b[0m \u001b[39mprint\u001b[39m(delimiter)\n\u001b[0;32m----> 7\u001b[0m df \u001b[39m=\u001b[39m pd\u001b[39m.\u001b[39;49mread_csv(data_stream, sep\u001b[39m=\u001b[39;49mdelimiter, \u001b[39m*\u001b[39;49m\u001b[39m*\u001b[39;49mkargs)\n\u001b[1;32m      8\u001b[0m \u001b[39mreturn\u001b[39;00m df\n",
            "File \u001b[0;32m~/.local/lib/python3.10/site-packages/pandas/util/_decorators.py:211\u001b[0m, in \u001b[0;36mdeprecate_kwarg.<locals>._deprecate_kwarg.<locals>.wrapper\u001b[0;34m(*args, **kwargs)\u001b[0m\n\u001b[1;32m    209\u001b[0m     \u001b[39melse\u001b[39;00m:\n\u001b[1;32m    210\u001b[0m         kwargs[new_arg_name] \u001b[39m=\u001b[39m new_arg_value\n\u001b[0;32m--> 211\u001b[0m \u001b[39mreturn\u001b[39;00m func(\u001b[39m*\u001b[39;49margs, \u001b[39m*\u001b[39;49m\u001b[39m*\u001b[39;49mkwargs)\n",
            "File \u001b[0;32m~/.local/lib/python3.10/site-packages/pandas/util/_decorators.py:331\u001b[0m, in \u001b[0;36mdeprecate_nonkeyword_arguments.<locals>.decorate.<locals>.wrapper\u001b[0;34m(*args, **kwargs)\u001b[0m\n\u001b[1;32m    325\u001b[0m \u001b[39mif\u001b[39;00m \u001b[39mlen\u001b[39m(args) \u001b[39m>\u001b[39m num_allow_args:\n\u001b[1;32m    326\u001b[0m     warnings\u001b[39m.\u001b[39mwarn(\n\u001b[1;32m    327\u001b[0m         msg\u001b[39m.\u001b[39mformat(arguments\u001b[39m=\u001b[39m_format_argument_list(allow_args)),\n\u001b[1;32m    328\u001b[0m         \u001b[39mFutureWarning\u001b[39;00m,\n\u001b[1;32m    329\u001b[0m         stacklevel\u001b[39m=\u001b[39mfind_stack_level(),\n\u001b[1;32m    330\u001b[0m     )\n\u001b[0;32m--> 331\u001b[0m \u001b[39mreturn\u001b[39;00m func(\u001b[39m*\u001b[39;49margs, \u001b[39m*\u001b[39;49m\u001b[39m*\u001b[39;49mkwargs)\n",
            "File \u001b[0;32m~/.local/lib/python3.10/site-packages/pandas/io/parsers/readers.py:935\u001b[0m, in \u001b[0;36mread_csv\u001b[0;34m(filepath_or_buffer, sep, delimiter, header, names, index_col, usecols, squeeze, prefix, mangle_dupe_cols, dtype, engine, converters, true_values, false_values, skipinitialspace, skiprows, skipfooter, nrows, na_values, keep_default_na, na_filter, verbose, skip_blank_lines, parse_dates, infer_datetime_format, keep_date_col, date_parser, dayfirst, cache_dates, iterator, chunksize, compression, thousands, decimal, lineterminator, quotechar, quoting, doublequote, escapechar, comment, encoding, encoding_errors, dialect, error_bad_lines, warn_bad_lines, on_bad_lines, delim_whitespace, low_memory, memory_map, float_precision, storage_options)\u001b[0m\n\u001b[1;32m    932\u001b[0m \u001b[39mdel\u001b[39;00m kwds[\u001b[39m\"\u001b[39m\u001b[39mfilepath_or_buffer\u001b[39m\u001b[39m\"\u001b[39m]\n\u001b[1;32m    933\u001b[0m \u001b[39mdel\u001b[39;00m kwds[\u001b[39m\"\u001b[39m\u001b[39msep\u001b[39m\u001b[39m\"\u001b[39m]\n\u001b[0;32m--> 935\u001b[0m kwds_defaults \u001b[39m=\u001b[39m _refine_defaults_read(\n\u001b[1;32m    936\u001b[0m     dialect,\n\u001b[1;32m    937\u001b[0m     delimiter,\n\u001b[1;32m    938\u001b[0m     delim_whitespace,\n\u001b[1;32m    939\u001b[0m     engine,\n\u001b[1;32m    940\u001b[0m     sep,\n\u001b[1;32m    941\u001b[0m     error_bad_lines,\n\u001b[1;32m    942\u001b[0m     warn_bad_lines,\n\u001b[1;32m    943\u001b[0m     on_bad_lines,\n\u001b[1;32m    944\u001b[0m     names,\n\u001b[1;32m    945\u001b[0m     prefix,\n\u001b[1;32m    946\u001b[0m     defaults\u001b[39m=\u001b[39;49m{\u001b[39m\"\u001b[39;49m\u001b[39mdelimiter\u001b[39;49m\u001b[39m\"\u001b[39;49m: \u001b[39m\"\u001b[39;49m\u001b[39m,\u001b[39;49m\u001b[39m\"\u001b[39;49m},\n\u001b[1;32m    947\u001b[0m )\n\u001b[1;32m    948\u001b[0m kwds\u001b[39m.\u001b[39mupdate(kwds_defaults)\n\u001b[1;32m    950\u001b[0m \u001b[39mreturn\u001b[39;00m _read(filepath_or_buffer, kwds)\n",
            "File \u001b[0;32m~/.local/lib/python3.10/site-packages/pandas/io/parsers/readers.py:2063\u001b[0m, in \u001b[0;36m_refine_defaults_read\u001b[0;34m(dialect, delimiter, delim_whitespace, engine, sep, error_bad_lines, warn_bad_lines, on_bad_lines, names, prefix, defaults)\u001b[0m\n\u001b[1;32m   2057\u001b[0m     \u001b[39mraise\u001b[39;00m \u001b[39mValueError\u001b[39;00m(\n\u001b[1;32m   2058\u001b[0m         \u001b[39m\"\u001b[39m\u001b[39mSpecified a delimiter with both sep and \u001b[39m\u001b[39m\"\u001b[39m\n\u001b[1;32m   2059\u001b[0m         \u001b[39m\"\u001b[39m\u001b[39mdelim_whitespace=True; you can only specify one.\u001b[39m\u001b[39m\"\u001b[39m\n\u001b[1;32m   2060\u001b[0m     )\n\u001b[1;32m   2062\u001b[0m \u001b[39mif\u001b[39;00m delimiter \u001b[39m==\u001b[39m \u001b[39m\"\u001b[39m\u001b[39m\\n\u001b[39;00m\u001b[39m\"\u001b[39m:\n\u001b[0;32m-> 2063\u001b[0m     \u001b[39mraise\u001b[39;00m \u001b[39mValueError\u001b[39;00m(\n\u001b[1;32m   2064\u001b[0m         \u001b[39mr\u001b[39m\u001b[39m\"\u001b[39m\u001b[39mSpecified \u001b[39m\u001b[39m\\\u001b[39m\u001b[39mn as separator or delimiter. This forces the python engine \u001b[39m\u001b[39m\"\u001b[39m\n\u001b[1;32m   2065\u001b[0m         \u001b[39m\"\u001b[39m\u001b[39mwhich does not accept a line terminator. Hence it is not allowed to use \u001b[39m\u001b[39m\"\u001b[39m\n\u001b[1;32m   2066\u001b[0m         \u001b[39m\"\u001b[39m\u001b[39mthe line terminator as separator.\u001b[39m\u001b[39m\"\u001b[39m,\n\u001b[1;32m   2067\u001b[0m     )\n\u001b[1;32m   2069\u001b[0m \u001b[39mif\u001b[39;00m delimiter \u001b[39mis\u001b[39;00m lib\u001b[39m.\u001b[39mno_default:\n\u001b[1;32m   2070\u001b[0m     \u001b[39m# assign default separator value\u001b[39;00m\n\u001b[1;32m   2071\u001b[0m     kwds[\u001b[39m\"\u001b[39m\u001b[39mdelimiter\u001b[39m\u001b[39m\"\u001b[39m] \u001b[39m=\u001b[39m delim_default\n",
            "\u001b[0;31mValueError\u001b[0m: Specified \\n as separator or delimiter. This forces the python engine which does not accept a line terminator. Hence it is not allowed to use the line terminator as separator."
          ]
        }
      ],
      "source": [
        "read_csv_encoding(\"datos_enc.csv\", delimiter=\"\\n\", encoding=\"ISO-8859-1\")"
      ]
    },
    {
      "cell_type": "code",
      "execution_count": 29,
      "metadata": {
        "colab": {
          "base_uri": "https://localhost:8080/",
          "height": 147
        },
        "id": "ov2wwmOiwWnH",
        "outputId": "79d7909c-1674-4d80-f324-2ed8d82387f9"
      },
      "outputs": [
        {
          "name": "stdout",
          "output_type": "stream",
          "text": [
            "\n",
            "\n"
          ]
        },
        {
          "ename": "ValueError",
          "evalue": "Specified \\n as separator or delimiter. This forces the python engine which does not accept a line terminator. Hence it is not allowed to use the line terminator as separator.",
          "output_type": "error",
          "traceback": [
            "\u001b[0;31m---------------------------------------------------------------------------\u001b[0m",
            "\u001b[0;31mValueError\u001b[0m                                Traceback (most recent call last)",
            "Cell \u001b[0;32mIn[29], line 1\u001b[0m\n\u001b[0;32m----> 1\u001b[0m read_csv_encoding(\u001b[39m\"\u001b[39;49m\u001b[39mdatos_enc.csv\u001b[39;49m\u001b[39m\"\u001b[39;49m, delimiter\u001b[39m=\u001b[39;49m\u001b[39m\"\u001b[39;49m\u001b[39m\\n\u001b[39;49;00m\u001b[39m\"\u001b[39;49m, encoding\u001b[39m=\u001b[39;49m\u001b[39m\"\u001b[39;49m\u001b[39mISO-8859-1\u001b[39;49m\u001b[39m\"\u001b[39;49m, header\u001b[39m=\u001b[39;49m\u001b[39mNone\u001b[39;49;00m)\n",
            "Cell \u001b[0;32mIn[26], line 7\u001b[0m, in \u001b[0;36mread_csv_encoding\u001b[0;34m(data_stream, lines, delimiter, **kargs)\u001b[0m\n\u001b[1;32m      5\u001b[0m     delimiter \u001b[39m=\u001b[39m reader\u001b[39m.\u001b[39m_engine\u001b[39m.\u001b[39mdata\u001b[39m.\u001b[39mdialect\u001b[39m.\u001b[39mdelimiter\n\u001b[1;32m      6\u001b[0m \u001b[39mprint\u001b[39m(delimiter)\n\u001b[0;32m----> 7\u001b[0m df \u001b[39m=\u001b[39m pd\u001b[39m.\u001b[39;49mread_csv(data_stream, sep\u001b[39m=\u001b[39;49mdelimiter, \u001b[39m*\u001b[39;49m\u001b[39m*\u001b[39;49mkargs)\n\u001b[1;32m      8\u001b[0m \u001b[39mreturn\u001b[39;00m df\n",
            "File \u001b[0;32m~/.local/lib/python3.10/site-packages/pandas/util/_decorators.py:211\u001b[0m, in \u001b[0;36mdeprecate_kwarg.<locals>._deprecate_kwarg.<locals>.wrapper\u001b[0;34m(*args, **kwargs)\u001b[0m\n\u001b[1;32m    209\u001b[0m     \u001b[39melse\u001b[39;00m:\n\u001b[1;32m    210\u001b[0m         kwargs[new_arg_name] \u001b[39m=\u001b[39m new_arg_value\n\u001b[0;32m--> 211\u001b[0m \u001b[39mreturn\u001b[39;00m func(\u001b[39m*\u001b[39;49margs, \u001b[39m*\u001b[39;49m\u001b[39m*\u001b[39;49mkwargs)\n",
            "File \u001b[0;32m~/.local/lib/python3.10/site-packages/pandas/util/_decorators.py:331\u001b[0m, in \u001b[0;36mdeprecate_nonkeyword_arguments.<locals>.decorate.<locals>.wrapper\u001b[0;34m(*args, **kwargs)\u001b[0m\n\u001b[1;32m    325\u001b[0m \u001b[39mif\u001b[39;00m \u001b[39mlen\u001b[39m(args) \u001b[39m>\u001b[39m num_allow_args:\n\u001b[1;32m    326\u001b[0m     warnings\u001b[39m.\u001b[39mwarn(\n\u001b[1;32m    327\u001b[0m         msg\u001b[39m.\u001b[39mformat(arguments\u001b[39m=\u001b[39m_format_argument_list(allow_args)),\n\u001b[1;32m    328\u001b[0m         \u001b[39mFutureWarning\u001b[39;00m,\n\u001b[1;32m    329\u001b[0m         stacklevel\u001b[39m=\u001b[39mfind_stack_level(),\n\u001b[1;32m    330\u001b[0m     )\n\u001b[0;32m--> 331\u001b[0m \u001b[39mreturn\u001b[39;00m func(\u001b[39m*\u001b[39;49margs, \u001b[39m*\u001b[39;49m\u001b[39m*\u001b[39;49mkwargs)\n",
            "File \u001b[0;32m~/.local/lib/python3.10/site-packages/pandas/io/parsers/readers.py:935\u001b[0m, in \u001b[0;36mread_csv\u001b[0;34m(filepath_or_buffer, sep, delimiter, header, names, index_col, usecols, squeeze, prefix, mangle_dupe_cols, dtype, engine, converters, true_values, false_values, skipinitialspace, skiprows, skipfooter, nrows, na_values, keep_default_na, na_filter, verbose, skip_blank_lines, parse_dates, infer_datetime_format, keep_date_col, date_parser, dayfirst, cache_dates, iterator, chunksize, compression, thousands, decimal, lineterminator, quotechar, quoting, doublequote, escapechar, comment, encoding, encoding_errors, dialect, error_bad_lines, warn_bad_lines, on_bad_lines, delim_whitespace, low_memory, memory_map, float_precision, storage_options)\u001b[0m\n\u001b[1;32m    932\u001b[0m \u001b[39mdel\u001b[39;00m kwds[\u001b[39m\"\u001b[39m\u001b[39mfilepath_or_buffer\u001b[39m\u001b[39m\"\u001b[39m]\n\u001b[1;32m    933\u001b[0m \u001b[39mdel\u001b[39;00m kwds[\u001b[39m\"\u001b[39m\u001b[39msep\u001b[39m\u001b[39m\"\u001b[39m]\n\u001b[0;32m--> 935\u001b[0m kwds_defaults \u001b[39m=\u001b[39m _refine_defaults_read(\n\u001b[1;32m    936\u001b[0m     dialect,\n\u001b[1;32m    937\u001b[0m     delimiter,\n\u001b[1;32m    938\u001b[0m     delim_whitespace,\n\u001b[1;32m    939\u001b[0m     engine,\n\u001b[1;32m    940\u001b[0m     sep,\n\u001b[1;32m    941\u001b[0m     error_bad_lines,\n\u001b[1;32m    942\u001b[0m     warn_bad_lines,\n\u001b[1;32m    943\u001b[0m     on_bad_lines,\n\u001b[1;32m    944\u001b[0m     names,\n\u001b[1;32m    945\u001b[0m     prefix,\n\u001b[1;32m    946\u001b[0m     defaults\u001b[39m=\u001b[39;49m{\u001b[39m\"\u001b[39;49m\u001b[39mdelimiter\u001b[39;49m\u001b[39m\"\u001b[39;49m: \u001b[39m\"\u001b[39;49m\u001b[39m,\u001b[39;49m\u001b[39m\"\u001b[39;49m},\n\u001b[1;32m    947\u001b[0m )\n\u001b[1;32m    948\u001b[0m kwds\u001b[39m.\u001b[39mupdate(kwds_defaults)\n\u001b[1;32m    950\u001b[0m \u001b[39mreturn\u001b[39;00m _read(filepath_or_buffer, kwds)\n",
            "File \u001b[0;32m~/.local/lib/python3.10/site-packages/pandas/io/parsers/readers.py:2063\u001b[0m, in \u001b[0;36m_refine_defaults_read\u001b[0;34m(dialect, delimiter, delim_whitespace, engine, sep, error_bad_lines, warn_bad_lines, on_bad_lines, names, prefix, defaults)\u001b[0m\n\u001b[1;32m   2057\u001b[0m     \u001b[39mraise\u001b[39;00m \u001b[39mValueError\u001b[39;00m(\n\u001b[1;32m   2058\u001b[0m         \u001b[39m\"\u001b[39m\u001b[39mSpecified a delimiter with both sep and \u001b[39m\u001b[39m\"\u001b[39m\n\u001b[1;32m   2059\u001b[0m         \u001b[39m\"\u001b[39m\u001b[39mdelim_whitespace=True; you can only specify one.\u001b[39m\u001b[39m\"\u001b[39m\n\u001b[1;32m   2060\u001b[0m     )\n\u001b[1;32m   2062\u001b[0m \u001b[39mif\u001b[39;00m delimiter \u001b[39m==\u001b[39m \u001b[39m\"\u001b[39m\u001b[39m\\n\u001b[39;00m\u001b[39m\"\u001b[39m:\n\u001b[0;32m-> 2063\u001b[0m     \u001b[39mraise\u001b[39;00m \u001b[39mValueError\u001b[39;00m(\n\u001b[1;32m   2064\u001b[0m         \u001b[39mr\u001b[39m\u001b[39m\"\u001b[39m\u001b[39mSpecified \u001b[39m\u001b[39m\\\u001b[39m\u001b[39mn as separator or delimiter. This forces the python engine \u001b[39m\u001b[39m\"\u001b[39m\n\u001b[1;32m   2065\u001b[0m         \u001b[39m\"\u001b[39m\u001b[39mwhich does not accept a line terminator. Hence it is not allowed to use \u001b[39m\u001b[39m\"\u001b[39m\n\u001b[1;32m   2066\u001b[0m         \u001b[39m\"\u001b[39m\u001b[39mthe line terminator as separator.\u001b[39m\u001b[39m\"\u001b[39m,\n\u001b[1;32m   2067\u001b[0m     )\n\u001b[1;32m   2069\u001b[0m \u001b[39mif\u001b[39;00m delimiter \u001b[39mis\u001b[39;00m lib\u001b[39m.\u001b[39mno_default:\n\u001b[1;32m   2070\u001b[0m     \u001b[39m# assign default separator value\u001b[39;00m\n\u001b[1;32m   2071\u001b[0m     kwds[\u001b[39m\"\u001b[39m\u001b[39mdelimiter\u001b[39m\u001b[39m\"\u001b[39m] \u001b[39m=\u001b[39m delim_default\n",
            "\u001b[0;31mValueError\u001b[0m: Specified \\n as separator or delimiter. This forces the python engine which does not accept a line terminator. Hence it is not allowed to use the line terminator as separator."
          ]
        }
      ],
      "source": [
        "read_csv_encoding(\"datos_enc.csv\", delimiter=\"\\n\", encoding=\"ISO-8859-1\", header=None)"
      ]
    },
    {
      "cell_type": "markdown",
      "metadata": {
        "id": "bi7P63Xzw-Pe"
      },
      "source": [
        "## Detectando encoding"
      ]
    },
    {
      "cell_type": "markdown",
      "metadata": {
        "id": "5BiXnPU_xL9a"
      },
      "source": [
        "Este código abre el archivo \"datos_enc.csv\" en modo binario, lee su contenido y utiliza la librería chardet para detectar la codificación. La función detect devuelve un diccionario que contiene información sobre la codificación detectada y su confianza. Finalmente, el código imprime la información obtenida."
      ]
    },
    {
      "cell_type": "code",
      "execution_count": 30,
      "metadata": {
        "colab": {
          "base_uri": "https://localhost:8080/"
        },
        "id": "MBKXbXQKxBa3",
        "outputId": "8e73cc68-19ab-4e89-9724-b5e9c0c1745a"
      },
      "outputs": [
        {
          "ename": "ModuleNotFoundError",
          "evalue": "No module named 'chardet'",
          "output_type": "error",
          "traceback": [
            "\u001b[0;31m---------------------------------------------------------------------------\u001b[0m",
            "\u001b[0;31mModuleNotFoundError\u001b[0m                       Traceback (most recent call last)",
            "Cell \u001b[0;32mIn[30], line 1\u001b[0m\n\u001b[0;32m----> 1\u001b[0m \u001b[39mimport\u001b[39;00m \u001b[39mchardet\u001b[39;00m\n\u001b[1;32m      3\u001b[0m \u001b[39mwith\u001b[39;00m \u001b[39mopen\u001b[39m(\u001b[39m\"\u001b[39m\u001b[39mdatos_enc.csv\u001b[39m\u001b[39m\"\u001b[39m, \u001b[39m\"\u001b[39m\u001b[39mrb\u001b[39m\u001b[39m\"\u001b[39m) \u001b[39mas\u001b[39;00m f:\n\u001b[1;32m      4\u001b[0m     result \u001b[39m=\u001b[39m chardet\u001b[39m.\u001b[39mdetect(f\u001b[39m.\u001b[39mread())\n",
            "\u001b[0;31mModuleNotFoundError\u001b[0m: No module named 'chardet'"
          ]
        }
      ],
      "source": [
        "import chardet\n",
        "\n",
        "with open(\"datos_enc.csv\", \"rb\") as f:\n",
        "    result = chardet.detect(f.read())\n",
        "\n",
        "encoding = result[\"encoding\"]\n",
        "confidence = result[\"confidence\"]\n",
        "\n",
        "print(f\"La codificación detectada es {encoding} con una confianza del {confidence*100}%\")\n"
      ]
    },
    {
      "cell_type": "code",
      "execution_count": 31,
      "metadata": {
        "id": "XWbzoXiFxUCZ"
      },
      "outputs": [],
      "source": [
        "def inferir_encoding(archivo:str):\n",
        "    with open(archivo, \"rb\") as f:\n",
        "        result = chardet.detect(f.read())\n",
        "\n",
        "    encoding = result[\"encoding\"]\n",
        "    confidence = result[\"confidence\"]\n",
        "\n",
        "    print(f\"La codificación detectada es {encoding} con una confianza del {confidence*100}%\")\n",
        "    return encoding, confidence"
      ]
    },
    {
      "cell_type": "code",
      "execution_count": 32,
      "metadata": {
        "colab": {
          "base_uri": "https://localhost:8080/"
        },
        "id": "ixE7DF6Sxl_g",
        "outputId": "4c3932df-5514-4f1d-ebdc-1ce240255cb1"
      },
      "outputs": [
        {
          "ename": "NameError",
          "evalue": "name 'chardet' is not defined",
          "output_type": "error",
          "traceback": [
            "\u001b[0;31m---------------------------------------------------------------------------\u001b[0m",
            "\u001b[0;31mNameError\u001b[0m                                 Traceback (most recent call last)",
            "Cell \u001b[0;32mIn[32], line 1\u001b[0m\n\u001b[0;32m----> 1\u001b[0m inferir_encoding(\u001b[39m\"\u001b[39;49m\u001b[39mdatos_enc.csv\u001b[39;49m\u001b[39m\"\u001b[39;49m)\n",
            "Cell \u001b[0;32mIn[31], line 3\u001b[0m, in \u001b[0;36minferir_encoding\u001b[0;34m(archivo)\u001b[0m\n\u001b[1;32m      1\u001b[0m \u001b[39mdef\u001b[39;00m \u001b[39minferir_encoding\u001b[39m(archivo:\u001b[39mstr\u001b[39m):\n\u001b[1;32m      2\u001b[0m     \u001b[39mwith\u001b[39;00m \u001b[39mopen\u001b[39m(archivo, \u001b[39m\"\u001b[39m\u001b[39mrb\u001b[39m\u001b[39m\"\u001b[39m) \u001b[39mas\u001b[39;00m f:\n\u001b[0;32m----> 3\u001b[0m         result \u001b[39m=\u001b[39m chardet\u001b[39m.\u001b[39mdetect(f\u001b[39m.\u001b[39mread())\n\u001b[1;32m      5\u001b[0m     encoding \u001b[39m=\u001b[39m result[\u001b[39m\"\u001b[39m\u001b[39mencoding\u001b[39m\u001b[39m\"\u001b[39m]\n\u001b[1;32m      6\u001b[0m     confidence \u001b[39m=\u001b[39m result[\u001b[39m\"\u001b[39m\u001b[39mconfidence\u001b[39m\u001b[39m\"\u001b[39m]\n",
            "\u001b[0;31mNameError\u001b[0m: name 'chardet' is not defined"
          ]
        }
      ],
      "source": [
        "inferir_encoding(\"datos_enc.csv\")"
      ]
    },
    {
      "cell_type": "markdown",
      "metadata": {
        "id": "UOIEceS9yDQm"
      },
      "source": [
        "## Detectando econding en StringIO"
      ]
    },
    {
      "cell_type": "markdown",
      "metadata": {
        "id": "rj5GPC2iyQmG"
      },
      "source": [
        "En este ejemplo, creamos un objeto io.StringIO a partir de una cadena codificada en \"ISO-8859-1\", pero lo decodificamos como \"UTF-8\" para simular una situación en la que la codificación es desconocida. Luego, obtenemos el contenido del objeto `io.StringIO` con el método `getvalue()`, lo codificamos como una cadena bytes utilizando \"UTF-8\" y utilizamos la librería chardet para detectar la codificación. Finalmente, imprimimos la codificación detectada."
      ]
    },
    {
      "cell_type": "code",
      "execution_count": 33,
      "metadata": {
        "colab": {
          "base_uri": "https://localhost:8080/"
        },
        "id": "4vRGP2oJyGwr",
        "outputId": "5f0fb40a-cfa5-41ff-e821-01b8c9042610"
      },
      "outputs": [
        {
          "ename": "NameError",
          "evalue": "name 'chardet' is not defined",
          "output_type": "error",
          "traceback": [
            "\u001b[0;31m---------------------------------------------------------------------------\u001b[0m",
            "\u001b[0;31mNameError\u001b[0m                                 Traceback (most recent call last)",
            "Cell \u001b[0;32mIn[33], line 7\u001b[0m\n\u001b[1;32m      5\u001b[0m \u001b[39m# Detectamos la codificación\u001b[39;00m\n\u001b[1;32m      6\u001b[0m contenido_str \u001b[39m=\u001b[39m stringio\u001b[39m.\u001b[39mgetvalue()\n\u001b[0;32m----> 7\u001b[0m resultado \u001b[39m=\u001b[39m chardet\u001b[39m.\u001b[39mdetect(contenido_str\u001b[39m.\u001b[39mencode())\n\u001b[1;32m      9\u001b[0m \u001b[39m# Imprimimos la codificación detectada\u001b[39;00m\n\u001b[1;32m     10\u001b[0m \u001b[39mprint\u001b[39m(\u001b[39mf\u001b[39m\u001b[39m\"\u001b[39m\u001b[39mLa codificación detectada es \u001b[39m\u001b[39m{\u001b[39;00mresultado[\u001b[39m'\u001b[39m\u001b[39mencoding\u001b[39m\u001b[39m'\u001b[39m]\u001b[39m}\u001b[39;00m\u001b[39m con una confianza del \u001b[39m\u001b[39m{\u001b[39;00mresultado[\u001b[39m'\u001b[39m\u001b[39mconfidence\u001b[39m\u001b[39m'\u001b[39m]\u001b[39m*\u001b[39m\u001b[39m100\u001b[39m\u001b[39m}\u001b[39;00m\u001b[39m%\u001b[39m\u001b[39m\"\u001b[39m)\n",
            "\u001b[0;31mNameError\u001b[0m: name 'chardet' is not defined"
          ]
        }
      ],
      "source": [
        "# Creamos un objeto StringIO con un contenido en una codificación desconocida\n",
        "contenido = \"Hola, mundo! \\n\".encode(\"ISO-8859-1\")\n",
        "stringio = io.StringIO(contenido.decode(\"UTF-8\"))\n",
        "\n",
        "# Detectamos la codificación\n",
        "contenido_str = stringio.getvalue()\n",
        "resultado = chardet.detect(contenido_str.encode())\n",
        "\n",
        "# Imprimimos la codificación detectada\n",
        "print(f\"La codificación detectada es {resultado['encoding']} con una confianza del {resultado['confidence']*100}%\")\n"
      ]
    },
    {
      "cell_type": "markdown",
      "metadata": {
        "id": "Mur0-MqIz5ye"
      },
      "source": [
        "# Regex (re) con pandas"
      ]
    },
    {
      "cell_type": "markdown",
      "metadata": {
        "id": "v1j6VpS-2Hi8"
      },
      "source": [
        "# Generemos una lista aleatoria"
      ]
    },
    {
      "cell_type": "markdown",
      "metadata": {
        "id": "1SzL1CEq2_s3"
      },
      "source": [
        "**Tarea**: Investiga como funciona `pd.concat`. Revisa que tienes que hacer si quieres pegar `cols` o `rows`, y que pasa si los DataFrames tiene indices repetidos. "
      ]
    },
    {
      "cell_type": "markdown",
      "metadata": {
        "id": "MW2K8gCY5Gd0"
      },
      "source": [
        "Imagina que tienes que utilizar los emails de varias personas que trabajan en tu companya. Lamentablemente al no tener un sistema unificado, estan esparcidos por varios dominios. \n",
        "\n",
        "Sin embargo sabes que siempre son generados con `\"xxxxxxx@dominio.yyy\"`. Donde `x` puede ser numero, letra, punto o guion; mientras que `yyy` es un dominio valido como \"com\" o \"es\"  \n",
        "\n",
        "Deberas desechar cualquier que no contenga el dominio, no trates de arreglar el email, pues no sabemos la razon del error. **Sin embargo, los emails que no tengan problemas en el dominio pueden ser rescatados**.  \n",
        "\n",
        "Desecha si el dominio esta mal, arregla si el usuario antes del `@` esta bien.\n",
        "\n"
      ]
    },
    {
      "cell_type": "code",
      "execution_count": 34,
      "metadata": {
        "colab": {
          "base_uri": "https://localhost:8080/",
          "height": 677
        },
        "id": "2S9WuWyVz8jo",
        "outputId": "5c23f956-30e7-4216-bec2-caf249b0dfdb"
      },
      "outputs": [
        {
          "data": {
            "text/html": [
              "<div>\n",
              "<style scoped>\n",
              "    .dataframe tbody tr th:only-of-type {\n",
              "        vertical-align: middle;\n",
              "    }\n",
              "\n",
              "    .dataframe tbody tr th {\n",
              "        vertical-align: top;\n",
              "    }\n",
              "\n",
              "    .dataframe thead th {\n",
              "        text-align: right;\n",
              "    }\n",
              "</style>\n",
              "<table border=\"1\" class=\"dataframe\">\n",
              "  <thead>\n",
              "    <tr style=\"text-align: right;\">\n",
              "      <th></th>\n",
              "      <th>persona</th>\n",
              "      <th>email</th>\n",
              "    </tr>\n",
              "  </thead>\n",
              "  <tbody>\n",
              "    <tr>\n",
              "      <th>0</th>\n",
              "      <td>Ana Gómez</td>\n",
              "      <td>ana.gómez@yahoo.com</td>\n",
              "    </tr>\n",
              "    <tr>\n",
              "      <th>1</th>\n",
              "      <td>Luis Pérez</td>\n",
              "      <td>luis.pérez@gmail.com</td>\n",
              "    </tr>\n",
              "    <tr>\n",
              "      <th>2</th>\n",
              "      <td>Pedro García</td>\n",
              "      <td>pedrogarcía@Pedro García</td>\n",
              "    </tr>\n",
              "    <tr>\n",
              "      <th>3</th>\n",
              "      <td>Luis Gómez</td>\n",
              "      <td>luis.gómez@hotmail.com</td>\n",
              "    </tr>\n",
              "    <tr>\n",
              "      <th>4</th>\n",
              "      <td>Sara García</td>\n",
              "      <td>sara.garcía@outlook.com</td>\n",
              "    </tr>\n",
              "    <tr>\n",
              "      <th>5</th>\n",
              "      <td>María González</td>\n",
              "      <td>maría5gonzález@María González</td>\n",
              "    </tr>\n",
              "    <tr>\n",
              "      <th>6</th>\n",
              "      <td>María Fernández</td>\n",
              "      <td>maría6fernández@María Fernández</td>\n",
              "    </tr>\n",
              "    <tr>\n",
              "      <th>7</th>\n",
              "      <td>Juan García</td>\n",
              "      <td>juan.garcía@hotmail.com</td>\n",
              "    </tr>\n",
              "    <tr>\n",
              "      <th>8</th>\n",
              "      <td>Sara Gómez</td>\n",
              "      <td>sara8gómez@Sara Gómez</td>\n",
              "    </tr>\n",
              "    <tr>\n",
              "      <th>9</th>\n",
              "      <td>Sara Fernández</td>\n",
              "      <td>sara.fernández@gmail.com</td>\n",
              "    </tr>\n",
              "    <tr>\n",
              "      <th>10</th>\n",
              "      <td>Sara Fernández</td>\n",
              "      <td>sara.fernández@outlook.com</td>\n",
              "    </tr>\n",
              "    <tr>\n",
              "      <th>11</th>\n",
              "      <td>Pedro Rodríguez</td>\n",
              "      <td>pedrorodríguez@Pedro Rodríguez</td>\n",
              "    </tr>\n",
              "    <tr>\n",
              "      <th>12</th>\n",
              "      <td>Sara Rodríguez</td>\n",
              "      <td>sara.rodríguez@outlook.com</td>\n",
              "    </tr>\n",
              "    <tr>\n",
              "      <th>13</th>\n",
              "      <td>María Pérez</td>\n",
              "      <td>maría13pérez@María Pérez</td>\n",
              "    </tr>\n",
              "    <tr>\n",
              "      <th>14</th>\n",
              "      <td>Luis Pérez</td>\n",
              "      <td>luis.pérez@yahoo.es</td>\n",
              "    </tr>\n",
              "    <tr>\n",
              "      <th>15</th>\n",
              "      <td>Juan Fernández</td>\n",
              "      <td>juanfernández@Juan Fernández</td>\n",
              "    </tr>\n",
              "    <tr>\n",
              "      <th>16</th>\n",
              "      <td>Sara Rodríguez</td>\n",
              "      <td>sararodríguez@Sara Rodríguez</td>\n",
              "    </tr>\n",
              "    <tr>\n",
              "      <th>17</th>\n",
              "      <td>Pedro Fernández</td>\n",
              "      <td>pedro.fernández@hotmail.com</td>\n",
              "    </tr>\n",
              "    <tr>\n",
              "      <th>18</th>\n",
              "      <td>Sara Gómez</td>\n",
              "      <td>sara.gómez@yahoo.com</td>\n",
              "    </tr>\n",
              "    <tr>\n",
              "      <th>19</th>\n",
              "      <td>Juan Fernández</td>\n",
              "      <td>juan.fernández@yahoo.es</td>\n",
              "    </tr>\n",
              "  </tbody>\n",
              "</table>\n",
              "</div>"
            ],
            "text/plain": [
              "            persona                            email\n",
              "0         Ana Gómez              ana.gómez@yahoo.com\n",
              "1        Luis Pérez             luis.pérez@gmail.com\n",
              "2      Pedro García         pedrogarcía@Pedro García\n",
              "3        Luis Gómez           luis.gómez@hotmail.com\n",
              "4       Sara García          sara.garcía@outlook.com\n",
              "5    María González    maría5gonzález@María González\n",
              "6   María Fernández  maría6fernández@María Fernández\n",
              "7       Juan García          juan.garcía@hotmail.com\n",
              "8        Sara Gómez            sara8gómez@Sara Gómez\n",
              "9    Sara Fernández         sara.fernández@gmail.com\n",
              "10   Sara Fernández       sara.fernández@outlook.com\n",
              "11  Pedro Rodríguez   pedrorodríguez@Pedro Rodríguez\n",
              "12   Sara Rodríguez       sara.rodríguez@outlook.com\n",
              "13      María Pérez         maría13pérez@María Pérez\n",
              "14       Luis Pérez              luis.pérez@yahoo.es\n",
              "15   Juan Fernández     juanfernández@Juan Fernández\n",
              "16   Sara Rodríguez     sararodríguez@Sara Rodríguez\n",
              "17  Pedro Fernández      pedro.fernández@hotmail.com\n",
              "18       Sara Gómez             sara.gómez@yahoo.com\n",
              "19   Juan Fernández          juan.fernández@yahoo.es"
            ]
          },
          "execution_count": 34,
          "metadata": {},
          "output_type": "execute_result"
        }
      ],
      "source": [
        "import pandas as pd\n",
        "import itertools\n",
        "import random\n",
        "\n",
        "# Generamos datos de prueba\n",
        "nombres = [\"Juan\", \"María\", \"Pedro\", \"Ana\", \"Luis\", \"Sara\"]\n",
        "apellidos = [\"Pérez\", \"Gómez\", \"García\", \"Fernández\", \"Rodríguez\", \"González\"]\n",
        "dominios = [\"gmail.com\", \"yahoo.com\", \"hotmail.com\", \"outlook.com\", \"yahoo.es\"]\n",
        "emails = []\n",
        "\n",
        "# Generamos todas las combinaciones posibles entre nombres y apellidos\n",
        "combinaciones = list(itertools.product(nombres, apellidos))\n",
        "_df = []\n",
        "random.seed(123543)\n",
        "for i in range(100):\n",
        "    # Seleccionamos una combinación de nombres y apellidos al azar\n",
        "    nombre, apellido = random.choice(combinaciones)\n",
        "    persona = f'{nombre} {apellido}'\n",
        "    dominio = random.choice(dominios)\n",
        "    email = f\"{nombre.lower()}.{apellido.lower()}@{dominio}\"\n",
        "    if random.random() > .9:\n",
        "        email = f\"{nombre.lower()}{i}{apellido.lower()}@{persona}\"\n",
        "    elif random.random() < 0.3:\n",
        "        email = f\"{nombre.lower()}{apellido.lower()}@{persona}\"\n",
        "    _df.append(pd.DataFrame({\"persona\":[persona], \"email\": [email]}))\n",
        "\n",
        "df = pd.concat(_df, ignore_index=True)\n",
        "df.to_csv(\"clientes.csv\", index=False)\n",
        "df.head(20)"
      ]
    },
    {
      "cell_type": "markdown",
      "metadata": {
        "id": "esN4QfBp7vAc"
      },
      "source": [
        "Esta línea de código es una operación que se aplica sobre la columna `\"email\"` de un DataFrame llamado df, usando el método `apply()`. La operación se realiza en cada celda de la columna y utiliza una función `lambda`.\n",
        "\n",
        "La función lambda toma cada valor x de la columna \"email\", lo convierte a una cadena de texto utilizando `str(x)`, y luego utiliza la función `re.findall()` para buscar todas las ocurrencias de la expresión regular regex_email en la cadena. La función `re.findall()` devuelve una lista con todas las ocurrencias encontradas en la cadena.\n",
        "\n",
        "La expresión regular regex_email que se utiliza aquí es la que explicamos anteriormente y se utiliza para validar correos electrónicos.\n",
        "\n",
        "Luego, se verifica si la lista de ocurrencias es mayor a cero, utilizando `len(re.findall(regex_email, str(x))) > 0`. Si esto es cierto, se toma el primer valor de la lista, utilizando `[0]`. Si no hay ocurrencias, se devuelve una cadena vacía, utilizando `else \"\"`.\n",
        "\n",
        "En resumen, esta línea de código utiliza la expresión regular regex_email para validar los correos electrónicos en la columna \"email\" del DataFrame `df`. Si un correo electrónico es válido, se devuelve el correo electrónico como una cadena de texto. Si el correo electrónico no es válido, se devuelve una cadena vacía."
      ]
    },
    {
      "cell_type": "code",
      "execution_count": 47,
      "metadata": {
        "colab": {
          "base_uri": "https://localhost:8080/",
          "height": 1000
        },
        "id": "E8UgyWDy3dZm",
        "outputId": "04775a7f-af60-497f-969a-9ea5ecd664e1"
      },
      "outputs": [
        {
          "data": {
            "text/html": [
              "<div>\n",
              "<style scoped>\n",
              "    .dataframe tbody tr th:only-of-type {\n",
              "        vertical-align: middle;\n",
              "    }\n",
              "\n",
              "    .dataframe tbody tr th {\n",
              "        vertical-align: top;\n",
              "    }\n",
              "\n",
              "    .dataframe thead th {\n",
              "        text-align: right;\n",
              "    }\n",
              "</style>\n",
              "<table border=\"1\" class=\"dataframe\">\n",
              "  <thead>\n",
              "    <tr style=\"text-align: right;\">\n",
              "      <th></th>\n",
              "      <th>persona</th>\n",
              "      <th>email</th>\n",
              "    </tr>\n",
              "  </thead>\n",
              "  <tbody>\n",
              "    <tr>\n",
              "      <th>0</th>\n",
              "      <td>Ana Gómez</td>\n",
              "      <td>ana.gómez@yahoo.com</td>\n",
              "    </tr>\n",
              "    <tr>\n",
              "      <th>1</th>\n",
              "      <td>Luis Pérez</td>\n",
              "      <td>luis.pérez@gmail.com</td>\n",
              "    </tr>\n",
              "    <tr>\n",
              "      <th>3</th>\n",
              "      <td>Luis Gómez</td>\n",
              "      <td>luis.gómez@hotmail.com</td>\n",
              "    </tr>\n",
              "    <tr>\n",
              "      <th>4</th>\n",
              "      <td>Sara García</td>\n",
              "      <td>sara.garcía@outlook.com</td>\n",
              "    </tr>\n",
              "    <tr>\n",
              "      <th>7</th>\n",
              "      <td>Juan García</td>\n",
              "      <td>juan.garcía@hotmail.com</td>\n",
              "    </tr>\n",
              "    <tr>\n",
              "      <th>...</th>\n",
              "      <td>...</td>\n",
              "      <td>...</td>\n",
              "    </tr>\n",
              "    <tr>\n",
              "      <th>94</th>\n",
              "      <td>Pedro Gómez</td>\n",
              "      <td>pedro.gómez@outlook.com</td>\n",
              "    </tr>\n",
              "    <tr>\n",
              "      <th>95</th>\n",
              "      <td>Luis Gómez</td>\n",
              "      <td>luis.gómez@hotmail.com</td>\n",
              "    </tr>\n",
              "    <tr>\n",
              "      <th>96</th>\n",
              "      <td>Juan Gómez</td>\n",
              "      <td>juan.gómez@hotmail.com</td>\n",
              "    </tr>\n",
              "    <tr>\n",
              "      <th>98</th>\n",
              "      <td>Ana Gómez</td>\n",
              "      <td>ana.gómez@hotmail.com</td>\n",
              "    </tr>\n",
              "    <tr>\n",
              "      <th>99</th>\n",
              "      <td>María Fernández</td>\n",
              "      <td>a.fernández@yahoo.es</td>\n",
              "    </tr>\n",
              "  </tbody>\n",
              "</table>\n",
              "<p>65 rows × 2 columns</p>\n",
              "</div>"
            ],
            "text/plain": [
              "            persona                    email\n",
              "0         Ana Gómez      ana.gómez@yahoo.com\n",
              "1        Luis Pérez     luis.pérez@gmail.com\n",
              "3        Luis Gómez   luis.gómez@hotmail.com\n",
              "4       Sara García  sara.garcía@outlook.com\n",
              "7       Juan García  juan.garcía@hotmail.com\n",
              "..              ...                      ...\n",
              "94      Pedro Gómez  pedro.gómez@outlook.com\n",
              "95       Luis Gómez   luis.gómez@hotmail.com\n",
              "96       Juan Gómez   juan.gómez@hotmail.com\n",
              "98        Ana Gómez    ana.gómez@hotmail.com\n",
              "99  María Fernández     a.fernández@yahoo.es\n",
              "\n",
              "[65 rows x 2 columns]"
            ]
          },
          "execution_count": 47,
          "metadata": {},
          "output_type": "execute_result"
        }
      ],
      "source": [
        "import re\n",
        "# Leemos los datos\n",
        "df = pd.read_csv(\"clientes.csv\")\n",
        "\n",
        "# Definimos la expresión regular para identificar direcciones de correo electrónico válidas\n",
        "regex_email = r\"[a-zA-Z0-9._%+-]+[A-Za-zÀ-ÖØ-öø-ÿ]+@[a-zA-Z0-9.-]+\\.[a-zA-Z]{2,}\"\n",
        "\n",
        "# Limpiamos la columna \"email\" utilizando la expresión regular\n",
        "df[\"email\"] = df[\"email\"].apply(lambda x: re.findall(regex_email, str(x))[0] if len(re.findall(regex_email, str(x))) > 0 else \"\")\n",
        "\n",
        "# Eliminamos los registros que no tienen una dirección de correo electrónico válida\n",
        "df = df[df[\"email\"] != \"\"]\n",
        "\n",
        "# Guardamos los datos limpios\n",
        "df\n",
        "#df.to_csv(\"clientes_limpios.csv\", index=False)"
      ]
    },
    {
      "cell_type": "markdown",
      "metadata": {
        "id": "7npsQnky4Z-j"
      },
      "source": [
        "**Tarea**: Investiga como funciona `apply`. Revisa que tienes que hacer si quieres aplicarlo por columna o por row."
      ]
    },
    {
      "cell_type": "markdown",
      "metadata": {
        "id": "jr_kqOra4tRG"
      },
      "source": [
        "**Tarea**: Investiga como funciona `pd.concat`. Revisa que tienes que hacer si quieres pegar `cols` o `rows`, y que pasa si los DataFrames tiene indices repetidos. : Parece que estamos identificando los emails correctos, pero no los estamos guardando correctamente. Que esta pasando? Como lo puedes solucionar?"
      ]
    }
  ],
  "metadata": {
    "colab": {
      "authorship_tag": "ABX9TyOYC3qveOlZekx+90E41u76",
      "include_colab_link": true,
      "provenance": []
    },
    "kernelspec": {
      "display_name": "Python 3",
      "language": "python",
      "name": "python3"
    },
    "language_info": {
      "name": "python",
      "version": "3.10.6"
    },
    "vscode": {
      "interpreter": {
        "hash": "916dbcbb3f70747c44a77c7bcd40155683ae19c65e1c03b4aa3499c5328201f1"
      }
    }
  },
  "nbformat": 4,
  "nbformat_minor": 0
}
